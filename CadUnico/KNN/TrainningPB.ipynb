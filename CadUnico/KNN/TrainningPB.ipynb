{
  "cells": [
    {
      "cell_type": "markdown",
      "metadata": {
        "id": "view-in-github",
        "colab_type": "text"
      },
      "source": [
        "<a href=\"https://colab.research.google.com/github/mariabandeira/AdministracaoPublica/blob/main/CadUnico/KNN/TrainningPB.ipynb\" target=\"_parent\"><img src=\"https://colab.research.google.com/assets/colab-badge.svg\" alt=\"Open In Colab\"/></a>"
      ]
    },
    {
      "cell_type": "code",
      "execution_count": 1,
      "metadata": {
        "id": "r1st9bEiFGLr"
      },
      "outputs": [],
      "source": [
        "import pandas as pd\n",
        "import matplotlib.pyplot as plt\n",
        "import seaborn as sns\n",
        "from sklearn.preprocessing import StandardScaler\n",
        "from imblearn.over_sampling import SMOTE\n",
        "from sklearn.model_selection import train_test_split\n",
        "from sklearn.ensemble import RandomForestClassifier\n",
        "from sklearn.model_selection import train_test_split\n",
        "from sklearn.metrics import classification_report, roc_auc_score, confusion_matrix\n",
        "from sklearn.feature_selection import SelectKBest, f_classif\n",
        "from sklearn.model_selection import GridSearchCV\n",
        "from sklearn.neighbors import KNeighborsClassifier\n",
        "from sklearn.pipeline import Pipeline\n",
        "from sklearn.metrics import make_scorer, accuracy_score\n",
        "from imblearn.under_sampling import RandomUnderSampler"
      ]
    },
    {
      "cell_type": "code",
      "source": [
        "treated_data_PB = pd.read_csv('/content/treated_cadUnicoPB.csv', index_col=0)"
      ],
      "metadata": {
        "id": "Bnx9llaFbFBj"
      },
      "execution_count": 11,
      "outputs": []
    },
    {
      "cell_type": "code",
      "source": [
        "treated_data_PB.info()"
      ],
      "metadata": {
        "colab": {
          "base_uri": "https://localhost:8080/"
        },
        "id": "o6VviV77db94",
        "outputId": "6239bdd0-943c-45eb-84ae-828794b077c9"
      },
      "execution_count": 12,
      "outputs": [
        {
          "output_type": "stream",
          "name": "stdout",
          "text": [
            "<class 'pandas.core.frame.DataFrame'>\n",
            "Index: 297045 entries, 53308 to 3954431\n",
            "Data columns (total 21 columns):\n",
            " #   Column                         Non-Null Count   Dtype  \n",
            "---  ------                         --------------   -----  \n",
            " 0   cd_ibge                        297045 non-null  int64  \n",
            " 1   estrato                        297045 non-null  int64  \n",
            " 2   classf                         297045 non-null  int64  \n",
            " 3   id_familia                     297045 non-null  float64\n",
            " 4   vlr_renda_media_fam            297045 non-null  float64\n",
            " 5   cod_local_domic_fam            297045 non-null  float64\n",
            " 6   qtd_comodos_domic_fam          297045 non-null  float64\n",
            " 7   qtd_comodos_dormitorio_fam     297045 non-null  float64\n",
            " 8   cod_material_piso_fam          297045 non-null  float64\n",
            " 9   cod_material_domic_fam         297045 non-null  float64\n",
            " 10  cod_agua_canalizada_fam        297045 non-null  float64\n",
            " 11  cod_abaste_agua_domic_fam      297045 non-null  float64\n",
            " 12  cod_escoa_sanitario_domic_fam  297045 non-null  float64\n",
            " 13  cod_destino_lixo_domic_fam     297045 non-null  float64\n",
            " 14  cod_iluminacao_domic_fam       297045 non-null  float64\n",
            " 15  cod_calcamento_domic_fam       297045 non-null  float64\n",
            " 16  ind_familia_quilombola_fam     297045 non-null  float64\n",
            " 17  ind_parc_mds_fam               297045 non-null  float64\n",
            " 18  qtde_pessoas                   297045 non-null  int64  \n",
            " 19  peso.fam                       297045 non-null  float64\n",
            " 20  marc_pbf                       297045 non-null  int64  \n",
            "dtypes: float64(16), int64(5)\n",
            "memory usage: 49.9 MB\n"
          ]
        }
      ]
    },
    {
      "cell_type": "markdown",
      "metadata": {
        "id": "MGNcxaEWFGL-"
      },
      "source": [
        "### Treinando o modelo KNN"
      ]
    },
    {
      "cell_type": "code",
      "execution_count": 13,
      "metadata": {
        "colab": {
          "base_uri": "https://localhost:8080/"
        },
        "id": "vmb92FcSFGL9",
        "outputId": "b34827fe-36d9-4587-ae8e-a08bb4ce109d"
      },
      "outputs": [
        {
          "output_type": "stream",
          "name": "stdout",
          "text": [
            "marc_pbf\n",
            "1    65.0\n",
            "0    35.0\n",
            "Name: proportion, dtype: float64\n"
          ]
        }
      ],
      "source": [
        "# analisando a distribuição da variável alvo (marc_pbf)\n",
        "target_distribution = treated_data_PB['marc_pbf'].value_counts(normalize=True) * 100\n",
        "\n",
        "print(round(target_distribution))"
      ]
    },
    {
      "cell_type": "code",
      "execution_count": 14,
      "metadata": {
        "colab": {
          "base_uri": "https://localhost:8080/"
        },
        "id": "LuxXSuBdFGL-",
        "outputId": "ba3847d9-9921-432a-cb8d-c5521a46b80d"
      },
      "outputs": [
        {
          "output_type": "stream",
          "name": "stdout",
          "text": [
            "marc_pbf\n",
            "0    73668\n",
            "1    73668\n",
            "Name: count, dtype: int64\n"
          ]
        }
      ],
      "source": [
        "# separar X (features) e y (target)\n",
        "X = treated_data_PB.drop('marc_pbf', axis=1)\n",
        "y = treated_data_PB['marc_pbf']\n",
        "\n",
        "# treino e teste\n",
        "X_train, X_test, y_train, y_test = train_test_split(X, y, test_size=0.3, random_state=42)\n",
        "\n",
        "# criando uma instância do RandomUnderSampling\n",
        "rus = RandomUnderSampler(random_state=42, sampling_strategy = 'majority')\n",
        "\n",
        "# balanceando os dados\n",
        "X_resampled, y_X_resampled = rus.fit_resample(X_train, y_train)\n",
        "\n",
        "print(y_X_resampled.value_counts())"
      ]
    },
    {
      "cell_type": "code",
      "source": [
        "# aplicar padronização nas features\n",
        "scaler = StandardScaler()\n",
        "X_train_scaled = scaler.fit_transform(X_resampled)\n",
        "X_test_scaled = scaler.transform(X_test)\n",
        "\n",
        "print(\"Primeiros dados escalados (padronizados):\")\n",
        "print(X_train_scaled[:5])"
      ],
      "metadata": {
        "colab": {
          "base_uri": "https://localhost:8080/"
        },
        "id": "zRg3jc7ccAYN",
        "outputId": "77a5fe98-bea0-470a-fba7-dc06791d9b5c"
      },
      "execution_count": 15,
      "outputs": [
        {
          "output_type": "stream",
          "name": "stdout",
          "text": [
            "Primeiros dados escalados (padronizados):\n",
            "[[-0.89036632  0.60625059  0.82916683  0.20666513  0.86519823 -0.47555747\n",
            "   0.97840329  1.75644702  1.45712256 -0.19528418 -0.43965204 -0.48510741\n",
            "  -0.86916817 -0.45368299 -0.20480803 -0.87153126  0.05269602 -0.29181643\n",
            "   0.23360459  1.28839774]\n",
            " [ 1.55552458 -1.64948294  0.82916683 -1.10570805  2.10519503  2.10279527\n",
            "   0.97840329 -1.19226575 -0.64144158 -0.19528418 -0.43965204  0.64990157\n",
            "   0.09462198 -0.45368299 -0.20480803 -0.87153126  0.05269602 -0.29181643\n",
            "  -1.20174994  1.28807481]\n",
            " [-0.57593311  0.60625059  0.82916683 -0.49117501  0.66569379 -0.47555747\n",
            "   0.97840329  0.28209064 -0.64144158 -0.19528418 -0.43965204  1.78491056\n",
            "   1.05841214 -0.45368299 -0.20480803 -0.87153126  0.05269602  3.16393683\n",
            "  -0.48407267  1.28807481]\n",
            " [-0.03684062  0.60625059 -1.82748477  0.74125223 -0.09549236 -0.47555747\n",
            "   0.19354987  0.28209064 -0.64144158 -0.19528418 -0.43965204 -0.48510741\n",
            "   1.05841214 -0.45368299 -0.20480803  1.18886361  0.05269602 -0.29181643\n",
            "   0.95128186 -0.78470109]\n",
            " [-0.97924252 -1.64948294  0.82916683 -1.07426908  1.93024498  2.10279527\n",
            "   0.97840329  1.75644702 -0.64144158 -0.19528418 -0.43965204  0.64990157\n",
            "   0.09462198  1.99903185 -0.20480803  1.18886361  0.05269602 -0.29181643\n",
            "  -0.48407267 -0.78470109]]\n"
          ]
        }
      ]
    },
    {
      "cell_type": "code",
      "source": [
        "k_values = list(range(1, 31)) # testando valores de 1 a 30\n",
        "\n",
        "param_grid = {'n_neighbors': k_values}\n",
        "\n",
        "knn = KNeighborsClassifier()\n",
        "\n",
        "grid_search = GridSearchCV(knn, param_grid, cv=5, scoring='accuracy')\n",
        "\n",
        "grid_search.fit(X_train_scaled, y_X_resampled)\n",
        "\n",
        "best_k = grid_search.best_params_['n_neighbors']\n",
        "print(\"Melhor valor de k encontrado:\", best_k)"
      ],
      "metadata": {
        "id": "DbAdZc7zdBxV"
      },
      "execution_count": null,
      "outputs": []
    },
    {
      "cell_type": "code",
      "source": [
        "# Treine o modelo final com o melhor valor de k\n",
        "final_model = KNeighborsClassifier(n_neighbors=best_k)\n",
        "final_model.fit(X_train_scaled, y_X_resampled)"
      ],
      "metadata": {
        "id": "zmILgmbigedB"
      },
      "execution_count": null,
      "outputs": []
    },
    {
      "cell_type": "code",
      "source": [
        "# Faça previsões nos dados de teste\n",
        "y_pred = final_model.predict(X_test_scaled)\n",
        "\n",
        "# Imprima o relatório de classificação\n",
        "print(classification_report(y_test, y_pred))"
      ],
      "metadata": {
        "id": "Z4ACptCogf_F"
      },
      "execution_count": null,
      "outputs": []
    },
    {
      "cell_type": "markdown",
      "metadata": {
        "id": "KwclhD17FGMA"
      },
      "source": [
        "### Selecionando features com SelectKBests"
      ]
    },
    {
      "cell_type": "code",
      "execution_count": null,
      "metadata": {
        "id": "7vv8R9GkFGMB",
        "outputId": "537e0a24-354c-4212-c5e1-96d367c34815",
        "colab": {
          "base_uri": "https://localhost:8080/"
        }
      },
      "outputs": [
        {
          "output_type": "stream",
          "name": "stdout",
          "text": [
            "Características selecionadas: Index(['vlr_renda_media_fam', 'cod_material_piso_fam',\n",
            "       'cod_agua_canalizada_fam', 'cod_calcamento_domic_fam', 'qtde_pessoas'],\n",
            "      dtype='object')\n"
          ]
        }
      ],
      "source": [
        "selector = SelectKBest(score_func=f_classif, k=5)\n",
        "X_train_selected = selector.fit_transform(X_resampled, y_X_resampled)\n",
        "X_test_selected = selector.transform(X_test)\n",
        "\n",
        "selected_columns = X_train.columns[selector.get_support()]\n",
        "print(\"Características selecionadas:\", selected_columns)"
      ]
    }
  ],
  "metadata": {
    "kernelspec": {
      "display_name": "Python 3",
      "language": "python",
      "name": "python3"
    },
    "language_info": {
      "codemirror_mode": {
        "name": "ipython",
        "version": 3
      },
      "file_extension": ".py",
      "mimetype": "text/x-python",
      "name": "python",
      "nbconvert_exporter": "python",
      "pygments_lexer": "ipython3",
      "version": "3.10.7"
    },
    "colab": {
      "provenance": [],
      "include_colab_link": true
    }
  },
  "nbformat": 4,
  "nbformat_minor": 0
}