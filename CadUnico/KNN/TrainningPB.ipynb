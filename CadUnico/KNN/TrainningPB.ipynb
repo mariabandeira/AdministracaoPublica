{
  "cells": [
    {
      "cell_type": "markdown",
      "metadata": {
        "id": "view-in-github",
        "colab_type": "text"
      },
      "source": [
        "<a href=\"https://colab.research.google.com/github/mariabandeira/AdministracaoPublica/blob/main/CadUnico/KNN/TrainningPB.ipynb\" target=\"_parent\"><img src=\"https://colab.research.google.com/assets/colab-badge.svg\" alt=\"Open In Colab\"/></a>"
      ]
    },
    {
      "cell_type": "code",
      "execution_count": null,
      "metadata": {
        "id": "r1st9bEiFGLr"
      },
      "outputs": [],
      "source": [
        "import pandas as pd\n",
        "import matplotlib.pyplot as plt\n",
        "import seaborn as sns\n",
        "from sklearn.preprocessing import StandardScaler\n",
        "from imblearn.over_sampling import SMOTE\n",
        "from sklearn.model_selection import train_test_split\n",
        "from sklearn.ensemble import RandomForestClassifier\n",
        "from sklearn.model_selection import train_test_split\n",
        "from sklearn.metrics import classification_report, roc_auc_score, confusion_matrix\n",
        "from sklearn.feature_selection import SelectKBest, f_classif\n",
        "from sklearn.model_selection import GridSearchCV\n",
        "from sklearn.neighbors import KNeighborsClassifier\n",
        "from sklearn.pipeline import Pipeline\n",
        "from sklearn.metrics import make_scorer, accuracy_score\n",
        "from imblearn.under_sampling import RandomUnderSampler"
      ]
    },
    {
      "cell_type": "code",
      "source": [
        "treated_data_PB = pd.read_csv('/content/dados_tratados.csv')"
      ],
      "metadata": {
        "id": "Bnx9llaFbFBj"
      },
      "execution_count": null,
      "outputs": []
    },
    {
      "cell_type": "markdown",
      "metadata": {
        "id": "MGNcxaEWFGL-"
      },
      "source": [
        "### Treinando o modelo KNN"
      ]
    },
    {
      "cell_type": "code",
      "execution_count": null,
      "metadata": {
        "colab": {
          "base_uri": "https://localhost:8080/"
        },
        "id": "vmb92FcSFGL9",
        "outputId": "f10d5914-d25e-47c6-9c97-e976be82dc27"
      },
      "outputs": [
        {
          "output_type": "stream",
          "name": "stdout",
          "text": [
            "marc_pbf\n",
            "1    65.0\n",
            "0    35.0\n",
            "Name: proportion, dtype: float64\n"
          ]
        }
      ],
      "source": [
        "# analisando a distribuição da variável alvo (marc_pbf)\n",
        "target_distribution = treated_data_PB['marc_pbf'].value_counts(normalize=True) * 100\n",
        "\n",
        "print(round(target_distribution))"
      ]
    },
    {
      "cell_type": "code",
      "execution_count": null,
      "metadata": {
        "colab": {
          "base_uri": "https://localhost:8080/"
        },
        "id": "LuxXSuBdFGL-",
        "outputId": "8909058d-4e76-428c-8a5b-c98223d837d6"
      },
      "outputs": [
        {
          "output_type": "stream",
          "name": "stdout",
          "text": [
            "marc_pbf\n",
            "0    91196\n",
            "1    91196\n",
            "Name: count, dtype: int64\n"
          ]
        }
      ],
      "source": [
        "# separar X (features) e y (target)\n",
        "X = treated_data_PB.drop('marc_pbf', axis=1)\n",
        "y = treated_data_PB['marc_pbf']\n",
        "\n",
        "# treino e teste\n",
        "X_train, X_test, y_train, y_test = train_test_split(X, y, test_size=0.3, random_state=42)\n",
        "\n",
        "# criando uma instância do RandomUnderSampling\n",
        "rus = RandomUnderSampler(random_state=42, sampling_strategy = 'majority')\n",
        "\n",
        "# balanceando os dados\n",
        "X_resampled, y_X_resampled = rus.fit_resample(X_train, y_train)\n",
        "\n",
        "print(y_X_resampled.value_counts())"
      ]
    },
    {
      "cell_type": "code",
      "source": [
        "# aplicar padronização nas features\n",
        "scaler = StandardScaler()\n",
        "X_train_scaled = scaler.fit_transform(X_resampled)\n",
        "X_test_scaled = scaler.transform(X_test)\n",
        "\n",
        "print(\"Primeiros dados escalados (padronizados):\")\n",
        "print(X_train_scaled[:5])"
      ],
      "metadata": {
        "colab": {
          "base_uri": "https://localhost:8080/"
        },
        "id": "zRg3jc7ccAYN",
        "outputId": "5ebf025a-3f4d-4b75-e0ae-fbd5376a0ceb"
      },
      "execution_count": null,
      "outputs": [
        {
          "output_type": "stream",
          "name": "stdout",
          "text": [
            "Primeiros dados escalados (padronizados):\n",
            "[[ 0.51751224 -0.52675384  0.21865512 -0.58552202 -0.49718509 -0.52621268\n",
            "  -0.50625203 -0.92862846 -0.50777719]\n",
            " [ 0.35184965 -0.52675384  0.21865512  2.96187983 -0.49718509 -0.52621268\n",
            "  -0.50625203 -0.92862846  0.20331283]\n",
            " [ 2.77831938 -0.52675384  0.97824874  1.54291909 -0.49718509 -0.52621268\n",
            "  -0.50625203 -0.92862846 -1.2188672 ]\n",
            " [ 0.41356708 -0.52675384  0.21865512  1.54291909  2.01132341  0.56286312\n",
            "  -0.50625203  1.11409432 -0.50777719]\n",
            " [ 1.25812147 -0.52675384  0.21865512 -0.58552202 -0.49718509 -0.52621268\n",
            "  -0.50625203 -0.92862846 -1.2188672 ]]\n"
          ]
        }
      ]
    },
    {
      "cell_type": "code",
      "source": [
        "k_values = list(range(1, 31)) # testando valores de 1 a 30\n",
        "\n",
        "param_grid = {'n_neighbors': k_values}\n",
        "\n",
        "knn = KNeighborsClassifier()\n",
        "\n",
        "grid_search = GridSearchCV(knn, param_grid, cv=5, scoring='accuracy')\n",
        "\n",
        "grid_search.fit(X_train_scaled, y_X_resampled)\n",
        "\n",
        "best_k = grid_search.best_params_['n_neighbors']\n",
        "print(\"Melhor valor de k encontrado:\", best_k)"
      ],
      "metadata": {
        "id": "DbAdZc7zdBxV",
        "colab": {
          "base_uri": "https://localhost:8080/"
        },
        "outputId": "448a1d47-55c0-4036-e7cf-677817b531d5"
      },
      "execution_count": null,
      "outputs": [
        {
          "output_type": "stream",
          "name": "stdout",
          "text": [
            "Melhor valor de k encontrado: 30\n"
          ]
        }
      ]
    },
    {
      "cell_type": "markdown",
      "metadata": {
        "id": "KwclhD17FGMA"
      },
      "source": [
        "### Selecionando features com SelectKBests"
      ]
    },
    {
      "cell_type": "code",
      "execution_count": null,
      "metadata": {
        "id": "7vv8R9GkFGMB",
        "outputId": "537e0a24-354c-4212-c5e1-96d367c34815",
        "colab": {
          "base_uri": "https://localhost:8080/"
        }
      },
      "outputs": [
        {
          "output_type": "stream",
          "name": "stdout",
          "text": [
            "Características selecionadas: Index(['vlr_renda_media_fam', 'cod_material_piso_fam',\n",
            "       'cod_agua_canalizada_fam', 'cod_calcamento_domic_fam', 'qtde_pessoas'],\n",
            "      dtype='object')\n"
          ]
        }
      ],
      "source": [
        "selector = SelectKBest(score_func=f_classif, k=5)\n",
        "X_train_selected = selector.fit_transform(X_resampled, y_X_resampled)\n",
        "X_test_selected = selector.transform(X_test)\n",
        "\n",
        "selected_columns = X_train.columns[selector.get_support()]\n",
        "print(\"Características selecionadas:\", selected_columns)"
      ]
    }
  ],
  "metadata": {
    "kernelspec": {
      "display_name": "Python 3",
      "language": "python",
      "name": "python3"
    },
    "language_info": {
      "codemirror_mode": {
        "name": "ipython",
        "version": 3
      },
      "file_extension": ".py",
      "mimetype": "text/x-python",
      "name": "python",
      "nbconvert_exporter": "python",
      "pygments_lexer": "ipython3",
      "version": "3.10.7"
    },
    "colab": {
      "provenance": [],
      "include_colab_link": true
    }
  },
  "nbformat": 4,
  "nbformat_minor": 0
}