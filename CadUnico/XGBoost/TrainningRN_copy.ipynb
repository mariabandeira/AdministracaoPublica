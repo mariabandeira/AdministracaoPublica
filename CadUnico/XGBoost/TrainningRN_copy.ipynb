{
  "cells": [
    {
      "cell_type": "markdown",
      "metadata": {
        "id": "view-in-github"
      },
      "source": [
        "<a href=\"https://colab.research.google.com/github/mariabandeira/AdministracaoPublica/blob/main/CadUnico/KNN/TrainningPB.ipynb\" target=\"_parent\"><img src=\"https://colab.research.google.com/assets/colab-badge.svg\" alt=\"Open In Colab\"/></a>"
      ]
    },
    {
      "cell_type": "code",
      "execution_count": 1,
      "metadata": {
        "id": "r1st9bEiFGLr"
      },
      "outputs": [],
      "source": [
        "import pandas as pd\n",
        "from sklearn.preprocessing import StandardScaler\n",
        "from sklearn.model_selection import train_test_split\n",
        "import xgboost as xgb\n",
        "from sklearn.model_selection import train_test_split\n",
        "from sklearn.metrics import classification_report\n",
        "from sklearn.feature_selection import SelectKBest, f_classif\n",
        "from imblearn.under_sampling import RandomUnderSampler\n",
        "import joblib"
      ]
    },
    {
      "cell_type": "code",
      "execution_count": 4,
      "metadata": {
        "id": "Bnx9llaFbFBj"
      },
      "outputs": [],
      "source": [
        "treated_data_RN = pd.read_csv('/home/erlon/AdministracaoPublica/CadUnico/BasesRN/cadunico_rn_cleaned.csv', sep=';', encoding='utf-8')"
      ]
    },
    {
      "cell_type": "code",
      "execution_count": 5,
      "metadata": {
        "id": "DvhZZ1gIkBKv"
      },
      "outputs": [],
      "source": [
        "treated_data_RN.dropna(inplace=True)\n",
        "treated_data_RN.drop_duplicates(inplace=True)"
      ]
    },
    {
      "cell_type": "code",
      "execution_count": 6,
      "metadata": {
        "colab": {
          "base_uri": "https://localhost:8080/"
        },
        "id": "o6VviV77db94",
        "outputId": "cef0d819-d391-4461-be3b-303e7148a856"
      },
      "outputs": [
        {
          "name": "stdout",
          "output_type": "stream",
          "text": [
            "<class 'pandas.core.frame.DataFrame'>\n",
            "RangeIndex: 296062 entries, 0 to 296061\n",
            "Data columns (total 17 columns):\n",
            " #   Column                      Non-Null Count   Dtype  \n",
            "---  ------                      --------------   -----  \n",
            " 0   Unnamed: 0                  296062 non-null  int64  \n",
            " 1   classf                      296062 non-null  int64  \n",
            " 2   vlr_renda_media_fam         296062 non-null  float64\n",
            " 3   cod_local_domic_fam         296062 non-null  float64\n",
            " 4   qtd_comodos_domic_fam       296062 non-null  float64\n",
            " 5   qtd_comodos_dormitorio_fam  296062 non-null  float64\n",
            " 6   cod_material_piso_fam       296062 non-null  float64\n",
            " 7   cod_material_domic_fam      296062 non-null  float64\n",
            " 8   cod_agua_canalizada_fam     296062 non-null  float64\n",
            " 9   cod_abaste_agua_domic_fam   296062 non-null  float64\n",
            " 10  cod_banheiro_domic_fam      296062 non-null  float64\n",
            " 11  cod_destino_lixo_domic_fam  296062 non-null  float64\n",
            " 12  cod_iluminacao_domic_fam    296062 non-null  float64\n",
            " 13  cod_calcamento_domic_fam    296062 non-null  float64\n",
            " 14  ind_familia_quilombola_fam  296062 non-null  float64\n",
            " 15  marc_pbf                    296062 non-null  int64  \n",
            " 16  qtde_pessoas                296062 non-null  int64  \n",
            "dtypes: float64(13), int64(4)\n",
            "memory usage: 38.4 MB\n"
          ]
        }
      ],
      "source": [
        "treated_data_RN.info()"
      ]
    },
    {
      "cell_type": "code",
      "execution_count": null,
      "metadata": {
        "colab": {
          "base_uri": "https://localhost:8080/",
          "height": 244
        },
        "id": "4wtRXur_k5t6",
        "outputId": "2ba8362a-16c6-4633-c605-b5f91024e2ff"
      },
      "outputs": [],
      "source": [
        "treated_data_RN.head()"
      ]
    },
    {
      "cell_type": "code",
      "execution_count": 7,
      "metadata": {
        "colab": {
          "base_uri": "https://localhost:8080/"
        },
        "id": "um-ilA9um6qo",
        "outputId": "aba2dcab-2ff3-4d71-c5c4-9e36cc6d4831"
      },
      "outputs": [
        {
          "data": {
            "text/plain": [
              "['Unnamed: 0',\n",
              " 'classf',\n",
              " 'vlr_renda_media_fam',\n",
              " 'cod_local_domic_fam',\n",
              " 'qtd_comodos_domic_fam',\n",
              " 'qtd_comodos_dormitorio_fam',\n",
              " 'cod_material_piso_fam',\n",
              " 'cod_material_domic_fam',\n",
              " 'cod_agua_canalizada_fam',\n",
              " 'cod_abaste_agua_domic_fam',\n",
              " 'cod_banheiro_domic_fam',\n",
              " 'cod_destino_lixo_domic_fam',\n",
              " 'cod_iluminacao_domic_fam',\n",
              " 'cod_calcamento_domic_fam',\n",
              " 'ind_familia_quilombola_fam',\n",
              " 'marc_pbf',\n",
              " 'qtde_pessoas']"
            ]
          },
          "execution_count": 7,
          "metadata": {},
          "output_type": "execute_result"
        }
      ],
      "source": [
        "list(treated_data_RN.columns)"
      ]
    },
    {
      "cell_type": "code",
      "execution_count": 9,
      "metadata": {},
      "outputs": [
        {
          "name": "stdout",
          "output_type": "stream",
          "text": [
            "<class 'pandas.core.frame.DataFrame'>\n",
            "RangeIndex: 296062 entries, 0 to 296061\n",
            "Data columns (total 8 columns):\n",
            " #   Column                     Non-Null Count   Dtype  \n",
            "---  ------                     --------------   -----  \n",
            " 0   vlr_renda_media_fam        296062 non-null  float64\n",
            " 1   qtd_comodos_domic_fam      296062 non-null  float64\n",
            " 2   cod_material_piso_fam      296062 non-null  float64\n",
            " 3   cod_agua_canalizada_fam    296062 non-null  float64\n",
            " 4   cod_abaste_agua_domic_fam  296062 non-null  float64\n",
            " 5   cod_calcamento_domic_fam   296062 non-null  float64\n",
            " 6   qtde_pessoas               296062 non-null  int64  \n",
            " 7   marc_pbf                   296062 non-null  int64  \n",
            "dtypes: float64(6), int64(2)\n",
            "memory usage: 18.1 MB\n"
          ]
        }
      ],
      "source": [
        "final_features = ['vlr_renda_media_fam',\n",
        "'qtd_comodos_domic_fam',\n",
        "'cod_material_piso_fam',\n",
        "'cod_agua_canalizada_fam',\n",
        "'cod_abaste_agua_domic_fam',\n",
        "'cod_calcamento_domic_fam',\n",
        "'qtde_pessoas',\n",
        "'marc_pbf' ]\n",
        "\n",
        "treated_data_RN = treated_data_RN[final_features]\n",
        "\n",
        "treated_data_RN.info()"
      ]
    },
    {
      "cell_type": "code",
      "execution_count": 16,
      "metadata": {},
      "outputs": [
        {
          "data": {
            "text/html": [
              "<div>\n",
              "<style scoped>\n",
              "    .dataframe tbody tr th:only-of-type {\n",
              "        vertical-align: middle;\n",
              "    }\n",
              "\n",
              "    .dataframe tbody tr th {\n",
              "        vertical-align: top;\n",
              "    }\n",
              "\n",
              "    .dataframe thead th {\n",
              "        text-align: right;\n",
              "    }\n",
              "</style>\n",
              "<table border=\"1\" class=\"dataframe\">\n",
              "  <thead>\n",
              "    <tr style=\"text-align: right;\">\n",
              "      <th></th>\n",
              "      <th>vlr_renda_media_fam</th>\n",
              "      <th>qtd_comodos_domic_fam</th>\n",
              "      <th>cod_material_piso_fam</th>\n",
              "      <th>cod_agua_canalizada_fam</th>\n",
              "      <th>cod_abaste_agua_domic_fam</th>\n",
              "      <th>cod_calcamento_domic_fam</th>\n",
              "      <th>qtde_pessoas</th>\n",
              "      <th>marc_pbf</th>\n",
              "    </tr>\n",
              "  </thead>\n",
              "  <tbody>\n",
              "    <tr>\n",
              "      <th>0</th>\n",
              "      <td>312.0</td>\n",
              "      <td>4.0</td>\n",
              "      <td>2.0</td>\n",
              "      <td>1.0</td>\n",
              "      <td>1.0</td>\n",
              "      <td>1.0</td>\n",
              "      <td>3</td>\n",
              "      <td>0</td>\n",
              "    </tr>\n",
              "    <tr>\n",
              "      <th>1</th>\n",
              "      <td>75.0</td>\n",
              "      <td>4.0</td>\n",
              "      <td>5.0</td>\n",
              "      <td>2.0</td>\n",
              "      <td>4.0</td>\n",
              "      <td>1.0</td>\n",
              "      <td>2</td>\n",
              "      <td>1</td>\n",
              "    </tr>\n",
              "    <tr>\n",
              "      <th>2</th>\n",
              "      <td>60.0</td>\n",
              "      <td>5.0</td>\n",
              "      <td>2.0</td>\n",
              "      <td>1.0</td>\n",
              "      <td>1.0</td>\n",
              "      <td>3.0</td>\n",
              "      <td>5</td>\n",
              "      <td>1</td>\n",
              "    </tr>\n",
              "    <tr>\n",
              "      <th>3</th>\n",
              "      <td>394.0</td>\n",
              "      <td>5.0</td>\n",
              "      <td>5.0</td>\n",
              "      <td>1.0</td>\n",
              "      <td>1.0</td>\n",
              "      <td>1.0</td>\n",
              "      <td>2</td>\n",
              "      <td>0</td>\n",
              "    </tr>\n",
              "    <tr>\n",
              "      <th>4</th>\n",
              "      <td>66.0</td>\n",
              "      <td>5.0</td>\n",
              "      <td>2.0</td>\n",
              "      <td>1.0</td>\n",
              "      <td>1.0</td>\n",
              "      <td>1.0</td>\n",
              "      <td>3</td>\n",
              "      <td>1</td>\n",
              "    </tr>\n",
              "  </tbody>\n",
              "</table>\n",
              "</div>"
            ],
            "text/plain": [
              "   vlr_renda_media_fam  qtd_comodos_domic_fam  cod_material_piso_fam  \\\n",
              "0                312.0                    4.0                    2.0   \n",
              "1                 75.0                    4.0                    5.0   \n",
              "2                 60.0                    5.0                    2.0   \n",
              "3                394.0                    5.0                    5.0   \n",
              "4                 66.0                    5.0                    2.0   \n",
              "\n",
              "   cod_agua_canalizada_fam  cod_abaste_agua_domic_fam  \\\n",
              "0                      1.0                        1.0   \n",
              "1                      2.0                        4.0   \n",
              "2                      1.0                        1.0   \n",
              "3                      1.0                        1.0   \n",
              "4                      1.0                        1.0   \n",
              "\n",
              "   cod_calcamento_domic_fam  qtde_pessoas  marc_pbf  \n",
              "0                       1.0             3         0  \n",
              "1                       1.0             2         1  \n",
              "2                       3.0             5         1  \n",
              "3                       1.0             2         0  \n",
              "4                       1.0             3         1  "
            ]
          },
          "execution_count": 16,
          "metadata": {},
          "output_type": "execute_result"
        }
      ],
      "source": [
        "treated_data_RN.head()"
      ]
    },
    {
      "cell_type": "markdown",
      "metadata": {
        "id": "MGNcxaEWFGL-"
      },
      "source": [
        "### Treinando o modelo XGBoost"
      ]
    },
    {
      "cell_type": "code",
      "execution_count": 10,
      "metadata": {
        "colab": {
          "base_uri": "https://localhost:8080/"
        },
        "id": "vmb92FcSFGL9",
        "outputId": "62c82e94-86c5-4447-9a89-9fa908703cca"
      },
      "outputs": [
        {
          "name": "stdout",
          "output_type": "stream",
          "text": [
            "marc_pbf\n",
            "1    56.74\n",
            "0    43.26\n",
            "Name: proportion, dtype: float64\n"
          ]
        }
      ],
      "source": [
        "# analisando a distribuição da variável alvo (marc_pbf)\n",
        "target_distribution = treated_data_RN['marc_pbf'].value_counts(normalize=True) * 100\n",
        "\n",
        "print(round(target_distribution, 2))"
      ]
    },
    {
      "cell_type": "code",
      "execution_count": 11,
      "metadata": {
        "colab": {
          "base_uri": "https://localhost:8080/"
        },
        "id": "LuxXSuBdFGL-",
        "outputId": "77ccdd96-f063-4cce-c300-34b5af6596ff"
      },
      "outputs": [
        {
          "name": "stdout",
          "output_type": "stream",
          "text": [
            "marc_pbf\n",
            "0    89679\n",
            "1    89679\n",
            "Name: count, dtype: int64\n"
          ]
        }
      ],
      "source": [
        "# separar X (features) e y (target)\n",
        "X = treated_data_RN.drop('marc_pbf', axis=1)\n",
        "y = treated_data_RN['marc_pbf']\n",
        "\n",
        "# treino e teste\n",
        "X_train, X_test, y_train, y_test = train_test_split(X, y, test_size=0.3, random_state=42)\n",
        "\n",
        "# criando uma instância do RandomUnderSampling\n",
        "rus = RandomUnderSampler(random_state=42, sampling_strategy = 'majority')\n",
        "\n",
        "# balanceando os dados\n",
        "X_resampled, y_resampled = rus.fit_resample(X_train, y_train)\n",
        "\n",
        "print(y_resampled.value_counts())"
      ]
    },
    {
      "cell_type": "code",
      "execution_count": 12,
      "metadata": {
        "colab": {
          "base_uri": "https://localhost:8080/"
        },
        "id": "zRg3jc7ccAYN",
        "outputId": "349addaf-5d6e-4128-f5f6-725866d20580"
      },
      "outputs": [
        {
          "name": "stdout",
          "output_type": "stream",
          "text": [
            "Primeiros dados escalados (padronizados):\n",
            "[[-0.12485031 -0.602914   -0.72537277 -0.39178363 -0.45627415 -0.85437521\n",
            "  -1.37479098]\n",
            " [ 0.13504909 -0.602914   -0.72537277 -0.39178363 -0.45627415  1.22999908\n",
            "   0.90668609]\n",
            " [ 4.64343735  0.1538476   1.28227208 -0.39178363  1.7490837   1.22999908\n",
            "  -1.37479098]\n",
            " [ 1.40335816  3.93765562  1.28227208 -0.39178363 -0.45627415  0.18781194\n",
            "   0.14619374]\n",
            " [-0.81791538  0.91060921  1.28227208 -0.39178363 -0.45627415 -0.85437521\n",
            "   0.14619374]]\n"
          ]
        }
      ],
      "source": [
        "# aplicar padronização nas features\n",
        "scaler = StandardScaler()\n",
        "X_train_scaled = scaler.fit_transform(X_resampled)\n",
        "X_test_scaled = scaler.transform(X_test)\n",
        "\n",
        "print(\"Primeiros dados escalados (padronizados):\")\n",
        "print(X_train_scaled[:5])"
      ]
    },
    {
      "cell_type": "code",
      "execution_count": 13,
      "metadata": {
        "colab": {
          "base_uri": "https://localhost:8080/",
          "height": 254
        },
        "id": "zmILgmbigedB",
        "outputId": "83c66b36-dba8-4023-9b08-4a25e7729f77"
      },
      "outputs": [
        {
          "data": {
            "text/html": [
              "<style>#sk-container-id-1 {color: black;}#sk-container-id-1 pre{padding: 0;}#sk-container-id-1 div.sk-toggleable {background-color: white;}#sk-container-id-1 label.sk-toggleable__label {cursor: pointer;display: block;width: 100%;margin-bottom: 0;padding: 0.3em;box-sizing: border-box;text-align: center;}#sk-container-id-1 label.sk-toggleable__label-arrow:before {content: \"▸\";float: left;margin-right: 0.25em;color: #696969;}#sk-container-id-1 label.sk-toggleable__label-arrow:hover:before {color: black;}#sk-container-id-1 div.sk-estimator:hover label.sk-toggleable__label-arrow:before {color: black;}#sk-container-id-1 div.sk-toggleable__content {max-height: 0;max-width: 0;overflow: hidden;text-align: left;background-color: #f0f8ff;}#sk-container-id-1 div.sk-toggleable__content pre {margin: 0.2em;color: black;border-radius: 0.25em;background-color: #f0f8ff;}#sk-container-id-1 input.sk-toggleable__control:checked~div.sk-toggleable__content {max-height: 200px;max-width: 100%;overflow: auto;}#sk-container-id-1 input.sk-toggleable__control:checked~label.sk-toggleable__label-arrow:before {content: \"▾\";}#sk-container-id-1 div.sk-estimator input.sk-toggleable__control:checked~label.sk-toggleable__label {background-color: #d4ebff;}#sk-container-id-1 div.sk-label input.sk-toggleable__control:checked~label.sk-toggleable__label {background-color: #d4ebff;}#sk-container-id-1 input.sk-hidden--visually {border: 0;clip: rect(1px 1px 1px 1px);clip: rect(1px, 1px, 1px, 1px);height: 1px;margin: -1px;overflow: hidden;padding: 0;position: absolute;width: 1px;}#sk-container-id-1 div.sk-estimator {font-family: monospace;background-color: #f0f8ff;border: 1px dotted black;border-radius: 0.25em;box-sizing: border-box;margin-bottom: 0.5em;}#sk-container-id-1 div.sk-estimator:hover {background-color: #d4ebff;}#sk-container-id-1 div.sk-parallel-item::after {content: \"\";width: 100%;border-bottom: 1px solid gray;flex-grow: 1;}#sk-container-id-1 div.sk-label:hover label.sk-toggleable__label {background-color: #d4ebff;}#sk-container-id-1 div.sk-serial::before {content: \"\";position: absolute;border-left: 1px solid gray;box-sizing: border-box;top: 0;bottom: 0;left: 50%;z-index: 0;}#sk-container-id-1 div.sk-serial {display: flex;flex-direction: column;align-items: center;background-color: white;padding-right: 0.2em;padding-left: 0.2em;position: relative;}#sk-container-id-1 div.sk-item {position: relative;z-index: 1;}#sk-container-id-1 div.sk-parallel {display: flex;align-items: stretch;justify-content: center;background-color: white;position: relative;}#sk-container-id-1 div.sk-item::before, #sk-container-id-1 div.sk-parallel-item::before {content: \"\";position: absolute;border-left: 1px solid gray;box-sizing: border-box;top: 0;bottom: 0;left: 50%;z-index: -1;}#sk-container-id-1 div.sk-parallel-item {display: flex;flex-direction: column;z-index: 1;position: relative;background-color: white;}#sk-container-id-1 div.sk-parallel-item:first-child::after {align-self: flex-end;width: 50%;}#sk-container-id-1 div.sk-parallel-item:last-child::after {align-self: flex-start;width: 50%;}#sk-container-id-1 div.sk-parallel-item:only-child::after {width: 0;}#sk-container-id-1 div.sk-dashed-wrapped {border: 1px dashed gray;margin: 0 0.4em 0.5em 0.4em;box-sizing: border-box;padding-bottom: 0.4em;background-color: white;}#sk-container-id-1 div.sk-label label {font-family: monospace;font-weight: bold;display: inline-block;line-height: 1.2em;}#sk-container-id-1 div.sk-label-container {text-align: center;}#sk-container-id-1 div.sk-container {/* jupyter's `normalize.less` sets `[hidden] { display: none; }` but bootstrap.min.css set `[hidden] { display: none !important; }` so we also need the `!important` here to be able to override the default hidden behavior on the sphinx rendered scikit-learn.org. See: https://github.com/scikit-learn/scikit-learn/issues/21755 */display: inline-block !important;position: relative;}#sk-container-id-1 div.sk-text-repr-fallback {display: none;}</style><div id=\"sk-container-id-1\" class=\"sk-top-container\"><div class=\"sk-text-repr-fallback\"><pre>XGBClassifier(base_score=None, booster=None, callbacks=None,\n",
              "              colsample_bylevel=None, colsample_bynode=None,\n",
              "              colsample_bytree=None, device=None, early_stopping_rounds=None,\n",
              "              enable_categorical=False, eval_metric=None, feature_types=None,\n",
              "              feature_weights=None, gamma=None, grow_policy=None,\n",
              "              importance_type=None, interaction_constraints=None,\n",
              "              learning_rate=None, max_bin=None, max_cat_threshold=None,\n",
              "              max_cat_to_onehot=None, max_delta_step=None, max_depth=None,\n",
              "              max_leaves=None, min_child_weight=None, missing=nan,\n",
              "              monotone_constraints=None, multi_strategy=None, n_estimators=None,\n",
              "              n_jobs=None, num_parallel_tree=None, ...)</pre><b>In a Jupyter environment, please rerun this cell to show the HTML representation or trust the notebook. <br />On GitHub, the HTML representation is unable to render, please try loading this page with nbviewer.org.</b></div><div class=\"sk-container\" hidden><div class=\"sk-item\"><div class=\"sk-estimator sk-toggleable\"><input class=\"sk-toggleable__control sk-hidden--visually\" id=\"sk-estimator-id-1\" type=\"checkbox\" checked><label for=\"sk-estimator-id-1\" class=\"sk-toggleable__label sk-toggleable__label-arrow\">XGBClassifier</label><div class=\"sk-toggleable__content\"><pre>XGBClassifier(base_score=None, booster=None, callbacks=None,\n",
              "              colsample_bylevel=None, colsample_bynode=None,\n",
              "              colsample_bytree=None, device=None, early_stopping_rounds=None,\n",
              "              enable_categorical=False, eval_metric=None, feature_types=None,\n",
              "              feature_weights=None, gamma=None, grow_policy=None,\n",
              "              importance_type=None, interaction_constraints=None,\n",
              "              learning_rate=None, max_bin=None, max_cat_threshold=None,\n",
              "              max_cat_to_onehot=None, max_delta_step=None, max_depth=None,\n",
              "              max_leaves=None, min_child_weight=None, missing=nan,\n",
              "              monotone_constraints=None, multi_strategy=None, n_estimators=None,\n",
              "              n_jobs=None, num_parallel_tree=None, ...)</pre></div></div></div></div></div>"
            ],
            "text/plain": [
              "XGBClassifier(base_score=None, booster=None, callbacks=None,\n",
              "              colsample_bylevel=None, colsample_bynode=None,\n",
              "              colsample_bytree=None, device=None, early_stopping_rounds=None,\n",
              "              enable_categorical=False, eval_metric=None, feature_types=None,\n",
              "              feature_weights=None, gamma=None, grow_policy=None,\n",
              "              importance_type=None, interaction_constraints=None,\n",
              "              learning_rate=None, max_bin=None, max_cat_threshold=None,\n",
              "              max_cat_to_onehot=None, max_delta_step=None, max_depth=None,\n",
              "              max_leaves=None, min_child_weight=None, missing=nan,\n",
              "              monotone_constraints=None, multi_strategy=None, n_estimators=None,\n",
              "              n_jobs=None, num_parallel_tree=None, ...)"
            ]
          },
          "execution_count": 13,
          "metadata": {},
          "output_type": "execute_result"
        }
      ],
      "source": [
        "final_model = xgb.XGBClassifier()\n",
        "final_model.fit(X_train_scaled, y_resampled)"
      ]
    },
    {
      "cell_type": "code",
      "execution_count": 14,
      "metadata": {
        "colab": {
          "base_uri": "https://localhost:8080/"
        },
        "id": "Z4ACptCogf_F",
        "outputId": "b2781ca7-0b2c-4c45-ee18-c319d2d479f9"
      },
      "outputs": [
        {
          "name": "stdout",
          "output_type": "stream",
          "text": [
            "              precision    recall  f1-score   support\n",
            "\n",
            "           0       0.93      0.82      0.87     38411\n",
            "           1       0.88      0.95      0.91     50408\n",
            "\n",
            "    accuracy                           0.90     88819\n",
            "   macro avg       0.90      0.89      0.89     88819\n",
            "weighted avg       0.90      0.90      0.90     88819\n",
            "\n"
          ]
        }
      ],
      "source": [
        "# Faça previsões nos dados de teste\n",
        "y_pred = final_model.predict(X_test_scaled)\n",
        "\n",
        "# Imprima o relatório de classificação\n",
        "print(classification_report(y_test, y_pred))"
      ]
    },
    {
      "cell_type": "code",
      "execution_count": null,
      "metadata": {},
      "outputs": [
        {
          "data": {
            "text/plain": [
              "['/home/erlon/AdministracaoPublica/MlApi/XGBoostRNModelReduced.joblib']"
            ]
          },
          "execution_count": 15,
          "metadata": {},
          "output_type": "execute_result"
        }
      ],
      "source": [
        "joblib.dump(final_model, '/home/erlon/AdministracaoPublica/MlApi/model/XGBoostRNModelReduced.joblib')"
      ]
    },
    {
      "cell_type": "markdown",
      "metadata": {
        "id": "KwclhD17FGMA"
      },
      "source": [
        "### Selecionando features com SelectKBests"
      ]
    },
    {
      "cell_type": "code",
      "execution_count": null,
      "metadata": {
        "colab": {
          "base_uri": "https://localhost:8080/"
        },
        "id": "u2HCzx9RoOtu",
        "outputId": "d11150fe-ab6f-4f17-a380-f297b0697287"
      },
      "outputs": [],
      "source": [
        "selector = SelectKBest(score_func=f_classif, k=5)\n",
        "X_train_selected = selector.fit_transform(X_resampled, y_resampled)\n",
        "X_test_selected = selector.transform(X_test)\n",
        "\n",
        "selected_columns = X_train.columns[selector.get_support()]\n",
        "print(\"Características selecionadas:\", selected_columns)"
      ]
    },
    {
      "cell_type": "code",
      "execution_count": null,
      "metadata": {
        "colab": {
          "base_uri": "https://localhost:8080/",
          "height": 254
        },
        "id": "GV2gsVxYxQhH",
        "outputId": "e6aa07e7-3c6a-4bbc-bf99-c59c39050a1b"
      },
      "outputs": [],
      "source": [
        "# Treine o modelo final com o melhor valor de k\n",
        "final_model = xgb.XGBClassifier()\n",
        "final_model.fit(X_train_selected, y_resampled)"
      ]
    },
    {
      "cell_type": "code",
      "execution_count": null,
      "metadata": {
        "colab": {
          "base_uri": "https://localhost:8080/"
        },
        "id": "XysFNdmzxWx6",
        "outputId": "42d2f364-be48-491e-ef00-1cbc1f4d4a61"
      },
      "outputs": [],
      "source": [
        "# Faça previsões nos dados de teste\n",
        "y_pred_selected = final_model.predict(X_test_selected)\n",
        "\n",
        "# Imprima o relatório de classificação\n",
        "print(classification_report(y_test, y_pred_selected))"
      ]
    }
  ],
  "metadata": {
    "colab": {
      "provenance": []
    },
    "kernelspec": {
      "display_name": ".venv",
      "language": "python",
      "name": "python3"
    },
    "language_info": {
      "codemirror_mode": {
        "name": "ipython",
        "version": 3
      },
      "file_extension": ".py",
      "mimetype": "text/x-python",
      "name": "python",
      "nbconvert_exporter": "python",
      "pygments_lexer": "ipython3",
      "version": "3.12.3"
    }
  },
  "nbformat": 4,
  "nbformat_minor": 0
}
