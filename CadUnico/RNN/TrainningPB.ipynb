{
  "cells": [
    {
      "cell_type": "markdown",
      "metadata": {
        "id": "view-in-github",
        "colab_type": "text"
      },
      "source": [
        "<a href=\"https://colab.research.google.com/github/mariabandeira/AdministracaoPublica/blob/main/CadUnico/RNN/TrainningPB.ipynb\" target=\"_parent\"><img src=\"https://colab.research.google.com/assets/colab-badge.svg\" alt=\"Open In Colab\"/></a>"
      ]
    },
    {
      "cell_type": "code",
      "execution_count": 1,
      "metadata": {
        "id": "r1st9bEiFGLr"
      },
      "outputs": [],
      "source": [
        "import pandas as pd\n",
        "from sklearn.preprocessing import StandardScaler\n",
        "from sklearn.model_selection import train_test_split\n",
        "import xgboost as xgb\n",
        "from sklearn.model_selection import train_test_split\n",
        "from sklearn.metrics import classification_report\n",
        "from sklearn.feature_selection import SelectKBest, f_classif\n",
        "from imblearn.under_sampling import RandomUnderSampler\n",
        "import numpy as np"
      ]
    },
    {
      "cell_type": "code",
      "execution_count": 2,
      "metadata": {
        "id": "Bnx9llaFbFBj"
      },
      "outputs": [],
      "source": [
        "treated_data_PB = pd.read_csv('https://raw.githubusercontent.com/mariabandeira/AdministracaoPublica/refs/heads/main/CadUnico/BasesPB/cadunico_pb_cleaned.csv', sep=',', encoding='utf-8')"
      ]
    },
    {
      "cell_type": "code",
      "execution_count": 3,
      "metadata": {
        "id": "DvhZZ1gIkBKv"
      },
      "outputs": [],
      "source": [
        "treated_data_PB.dropna(inplace=True)\n",
        "treated_data_PB.drop_duplicates(inplace=True)"
      ]
    },
    {
      "cell_type": "markdown",
      "metadata": {
        "id": "MGNcxaEWFGL-"
      },
      "source": [
        "### Treinando o modelo RNN"
      ]
    },
    {
      "cell_type": "code",
      "execution_count": 4,
      "metadata": {
        "colab": {
          "base_uri": "https://localhost:8080/"
        },
        "id": "vmb92FcSFGL9",
        "outputId": "e976866a-cf1c-4db3-d574-6faaf8e77d27"
      },
      "outputs": [
        {
          "output_type": "stream",
          "name": "stdout",
          "text": [
            "marc_pbf\n",
            "1    60.96\n",
            "0    39.04\n",
            "Name: proportion, dtype: float64\n"
          ]
        }
      ],
      "source": [
        "# analisando a distribuição da variável alvo (marc_pbf)\n",
        "target_distribution = treated_data_PB['marc_pbf'].value_counts(normalize=True) * 100\n",
        "\n",
        "print(round(target_distribution, 2))"
      ]
    },
    {
      "cell_type": "code",
      "execution_count": 5,
      "metadata": {
        "colab": {
          "base_uri": "https://localhost:8080/"
        },
        "id": "LuxXSuBdFGL-",
        "outputId": "adea8128-c04f-4ce7-a621-c7e3c687a2f8"
      },
      "outputs": [
        {
          "output_type": "stream",
          "name": "stdout",
          "text": [
            "marc_pbf\n",
            "0    49935\n",
            "1    49935\n",
            "Name: count, dtype: int64\n"
          ]
        }
      ],
      "source": [
        "# separar X (features) e y (target)\n",
        "X = treated_data_PB.drop('marc_pbf', axis=1)\n",
        "y = treated_data_PB['marc_pbf']\n",
        "\n",
        "# treino e teste\n",
        "X_train, X_test, y_train, y_test = train_test_split(X, y, test_size=0.3, random_state=42)\n",
        "\n",
        "# criando uma instância do RandomUnderSampling\n",
        "rus = RandomUnderSampler(random_state=42, sampling_strategy = 'majority')\n",
        "\n",
        "# balanceando os dados\n",
        "X_resampled, y_resampled = rus.fit_resample(X_train, y_train)\n",
        "\n",
        "print(y_resampled.value_counts())"
      ]
    },
    {
      "cell_type": "code",
      "execution_count": 6,
      "metadata": {
        "colab": {
          "base_uri": "https://localhost:8080/"
        },
        "id": "zRg3jc7ccAYN",
        "outputId": "4f4b2023-a078-4785-9b42-c7b0e3e1b155"
      },
      "outputs": [
        {
          "output_type": "stream",
          "name": "stdout",
          "text": [
            "Primeiros dados escalados (padronizados):\n",
            "[[-1.94675229  0.25998787 -0.66351538  0.         -1.13901679  0.21086124\n",
            "   1.58901493 -0.30371528 -0.63344419 -0.68283037 -0.32494349 -0.64034823\n",
            "  -0.30392907 -1.16344252  0.          0.08346976  0.07556882]\n",
            " [-0.56513795 -0.13902563 -0.66351538  0.         -1.13901679 -1.08954091\n",
            "  -0.53557624 -0.30371528 -0.63344419 -0.68283037 -0.32494349 -0.64034823\n",
            "  -0.30392907 -1.16344252  0.          0.08346976  1.48597033]\n",
            " [-0.56513795  0.18154932 -0.66351538  0.          0.17970507  0.21086124\n",
            "   1.58901493 -0.30371528 -0.63344419 -0.68283037 -0.32494349 -0.64034823\n",
            "  -0.30392907 -1.16344252  0.          0.08346976  0.78076958]\n",
            " [ 0.81647638  0.31796419 -0.66351538  0.          0.839066    0.21086124\n",
            "  -0.53557624 -0.30371528 -0.63344419 -0.68283037 -0.32494349 -0.64034823\n",
            "  -0.30392907 -1.16344252  0.          0.08346976 -0.62963193]\n",
            " [-0.56513795  0.42709609 -0.66351538  0.          1.49842693  1.51126339\n",
            "   1.58901493 -0.30371528 -0.63344419 -0.68283037 -0.32494349 -0.64034823\n",
            "  -0.30392907 -1.16344252  0.          0.08346976 -0.62963193]]\n"
          ]
        }
      ],
      "source": [
        "# aplicar padronização nas features\n",
        "scaler = StandardScaler()\n",
        "X_train_scaled = scaler.fit_transform(X_resampled)\n",
        "X_test_scaled = scaler.transform(X_test)\n",
        "\n",
        "print(\"Primeiros dados escalados (padronizados):\")\n",
        "print(X_train_scaled[:5])"
      ]
    },
    {
      "cell_type": "code",
      "execution_count": 7,
      "metadata": {
        "id": "zmILgmbigedB"
      },
      "outputs": [],
      "source": [
        "# Ajustar formato para a RNN (samples, time steps, features)\n",
        "X_train_rnn = np.expand_dims(X_train_scaled, axis=1)\n",
        "X_test_rnn = np.expand_dims(X_test_scaled, axis=1)"
      ]
    },
    {
      "cell_type": "code",
      "execution_count": 8,
      "metadata": {
        "id": "MCWikKHstX5b"
      },
      "outputs": [],
      "source": [
        "import tensorflow as tf\n",
        "from tensorflow.keras.models import Sequential\n",
        "from tensorflow.keras.layers import Dense, SimpleRNN"
      ]
    },
    {
      "cell_type": "code",
      "execution_count": 9,
      "metadata": {
        "colab": {
          "base_uri": "https://localhost:8080/"
        },
        "id": "Z4ACptCogf_F",
        "outputId": "d16058b0-b6b6-49c7-b800-ba7bdfe19b45"
      },
      "outputs": [
        {
          "output_type": "stream",
          "name": "stderr",
          "text": [
            "/usr/local/lib/python3.11/dist-packages/keras/src/layers/rnn/rnn.py:200: UserWarning: Do not pass an `input_shape`/`input_dim` argument to a layer. When using Sequential models, prefer using an `Input(shape)` object as the first layer in the model instead.\n",
            "  super().__init__(**kwargs)\n"
          ]
        }
      ],
      "source": [
        "# Construir a RNN\n",
        "model = Sequential([\n",
        "    SimpleRNN(32, activation='relu', input_shape=(1, X_train.shape[1])),\n",
        "    Dense(16, activation='relu'),\n",
        "    Dense(1, activation='sigmoid')\n",
        "])\n"
      ]
    },
    {
      "cell_type": "code",
      "execution_count": 10,
      "metadata": {
        "id": "E7S5KRBMtdCS"
      },
      "outputs": [],
      "source": [
        "model.compile(optimizer='adam', loss='binary_crossentropy', metrics=['accuracy'])"
      ]
    },
    {
      "cell_type": "code",
      "execution_count": 11,
      "metadata": {
        "colab": {
          "base_uri": "https://localhost:8080/"
        },
        "id": "m-1hja2gtgXj",
        "outputId": "42c0470e-219e-49c6-ee39-83b1f4c9fc9d"
      },
      "outputs": [
        {
          "output_type": "stream",
          "name": "stdout",
          "text": [
            "Epoch 1/20\n",
            "\u001b[1m3121/3121\u001b[0m \u001b[32m━━━━━━━━━━━━━━━━━━━━\u001b[0m\u001b[37m\u001b[0m \u001b[1m15s\u001b[0m 4ms/step - accuracy: 0.7951 - loss: 0.4410 - val_accuracy: 0.8594 - val_loss: 0.3640\n",
            "Epoch 2/20\n",
            "\u001b[1m3121/3121\u001b[0m \u001b[32m━━━━━━━━━━━━━━━━━━━━\u001b[0m\u001b[37m\u001b[0m \u001b[1m12s\u001b[0m 4ms/step - accuracy: 0.8425 - loss: 0.3723 - val_accuracy: 0.8569 - val_loss: 0.3683\n",
            "Epoch 3/20\n",
            "\u001b[1m3121/3121\u001b[0m \u001b[32m━━━━━━━━━━━━━━━━━━━━\u001b[0m\u001b[37m\u001b[0m \u001b[1m21s\u001b[0m 4ms/step - accuracy: 0.8450 - loss: 0.3668 - val_accuracy: 0.8580 - val_loss: 0.3718\n",
            "Epoch 4/20\n",
            "\u001b[1m3121/3121\u001b[0m \u001b[32m━━━━━━━━━━━━━━━━━━━━\u001b[0m\u001b[37m\u001b[0m \u001b[1m13s\u001b[0m 4ms/step - accuracy: 0.8430 - loss: 0.3687 - val_accuracy: 0.8643 - val_loss: 0.3575\n",
            "Epoch 5/20\n",
            "\u001b[1m3121/3121\u001b[0m \u001b[32m━━━━━━━━━━━━━━━━━━━━\u001b[0m\u001b[37m\u001b[0m \u001b[1m10s\u001b[0m 3ms/step - accuracy: 0.8447 - loss: 0.3662 - val_accuracy: 0.8623 - val_loss: 0.3584\n",
            "Epoch 6/20\n",
            "\u001b[1m3121/3121\u001b[0m \u001b[32m━━━━━━━━━━━━━━━━━━━━\u001b[0m\u001b[37m\u001b[0m \u001b[1m24s\u001b[0m 5ms/step - accuracy: 0.8444 - loss: 0.3648 - val_accuracy: 0.8637 - val_loss: 0.3602\n",
            "Epoch 7/20\n",
            "\u001b[1m3121/3121\u001b[0m \u001b[32m━━━━━━━━━━━━━━━━━━━━\u001b[0m\u001b[37m\u001b[0m \u001b[1m13s\u001b[0m 4ms/step - accuracy: 0.8460 - loss: 0.3631 - val_accuracy: 0.8602 - val_loss: 0.3646\n",
            "Epoch 8/20\n",
            "\u001b[1m3121/3121\u001b[0m \u001b[32m━━━━━━━━━━━━━━━━━━━━\u001b[0m\u001b[37m\u001b[0m \u001b[1m13s\u001b[0m 4ms/step - accuracy: 0.8469 - loss: 0.3617 - val_accuracy: 0.8641 - val_loss: 0.3540\n",
            "Epoch 9/20\n",
            "\u001b[1m3121/3121\u001b[0m \u001b[32m━━━━━━━━━━━━━━━━━━━━\u001b[0m\u001b[37m\u001b[0m \u001b[1m18s\u001b[0m 3ms/step - accuracy: 0.8450 - loss: 0.3627 - val_accuracy: 0.8632 - val_loss: 0.3559\n",
            "Epoch 10/20\n",
            "\u001b[1m3121/3121\u001b[0m \u001b[32m━━━━━━━━━━━━━━━━━━━━\u001b[0m\u001b[37m\u001b[0m \u001b[1m12s\u001b[0m 4ms/step - accuracy: 0.8457 - loss: 0.3628 - val_accuracy: 0.8603 - val_loss: 0.3603\n",
            "Epoch 11/20\n",
            "\u001b[1m3121/3121\u001b[0m \u001b[32m━━━━━━━━━━━━━━━━━━━━\u001b[0m\u001b[37m\u001b[0m \u001b[1m12s\u001b[0m 4ms/step - accuracy: 0.8452 - loss: 0.3636 - val_accuracy: 0.8640 - val_loss: 0.3564\n",
            "Epoch 12/20\n",
            "\u001b[1m3121/3121\u001b[0m \u001b[32m━━━━━━━━━━━━━━━━━━━━\u001b[0m\u001b[37m\u001b[0m \u001b[1m19s\u001b[0m 3ms/step - accuracy: 0.8473 - loss: 0.3592 - val_accuracy: 0.8637 - val_loss: 0.3556\n",
            "Epoch 13/20\n",
            "\u001b[1m3121/3121\u001b[0m \u001b[32m━━━━━━━━━━━━━━━━━━━━\u001b[0m\u001b[37m\u001b[0m \u001b[1m21s\u001b[0m 3ms/step - accuracy: 0.8458 - loss: 0.3600 - val_accuracy: 0.8627 - val_loss: 0.3571\n",
            "Epoch 14/20\n",
            "\u001b[1m3121/3121\u001b[0m \u001b[32m━━━━━━━━━━━━━━━━━━━━\u001b[0m\u001b[37m\u001b[0m \u001b[1m20s\u001b[0m 3ms/step - accuracy: 0.8463 - loss: 0.3609 - val_accuracy: 0.8593 - val_loss: 0.3667\n",
            "Epoch 15/20\n",
            "\u001b[1m3121/3121\u001b[0m \u001b[32m━━━━━━━━━━━━━━━━━━━━\u001b[0m\u001b[37m\u001b[0m \u001b[1m22s\u001b[0m 4ms/step - accuracy: 0.8455 - loss: 0.3609 - val_accuracy: 0.8633 - val_loss: 0.3540\n",
            "Epoch 16/20\n",
            "\u001b[1m3121/3121\u001b[0m \u001b[32m━━━━━━━━━━━━━━━━━━━━\u001b[0m\u001b[37m\u001b[0m \u001b[1m10s\u001b[0m 3ms/step - accuracy: 0.8469 - loss: 0.3598 - val_accuracy: 0.8633 - val_loss: 0.3562\n",
            "Epoch 17/20\n",
            "\u001b[1m3121/3121\u001b[0m \u001b[32m━━━━━━━━━━━━━━━━━━━━\u001b[0m\u001b[37m\u001b[0m \u001b[1m13s\u001b[0m 4ms/step - accuracy: 0.8462 - loss: 0.3615 - val_accuracy: 0.8626 - val_loss: 0.3581\n",
            "Epoch 18/20\n",
            "\u001b[1m3121/3121\u001b[0m \u001b[32m━━━━━━━━━━━━━━━━━━━━\u001b[0m\u001b[37m\u001b[0m \u001b[1m13s\u001b[0m 4ms/step - accuracy: 0.8447 - loss: 0.3610 - val_accuracy: 0.8637 - val_loss: 0.3588\n",
            "Epoch 19/20\n",
            "\u001b[1m3121/3121\u001b[0m \u001b[32m━━━━━━━━━━━━━━━━━━━━\u001b[0m\u001b[37m\u001b[0m \u001b[1m10s\u001b[0m 3ms/step - accuracy: 0.8447 - loss: 0.3604 - val_accuracy: 0.8644 - val_loss: 0.3544\n",
            "Epoch 20/20\n",
            "\u001b[1m3121/3121\u001b[0m \u001b[32m━━━━━━━━━━━━━━━━━━━━\u001b[0m\u001b[37m\u001b[0m \u001b[1m14s\u001b[0m 4ms/step - accuracy: 0.8469 - loss: 0.3586 - val_accuracy: 0.8648 - val_loss: 0.3528\n"
          ]
        },
        {
          "output_type": "execute_result",
          "data": {
            "text/plain": [
              "<keras.src.callbacks.history.History at 0x7e8b3d09a750>"
            ]
          },
          "metadata": {},
          "execution_count": 11
        }
      ],
      "source": [
        "model.fit(X_train_rnn, y_resampled, epochs=20, batch_size=32, validation_data=(X_test_rnn, y_test))"
      ]
    },
    {
      "cell_type": "code",
      "execution_count": 12,
      "metadata": {
        "colab": {
          "base_uri": "https://localhost:8080/"
        },
        "id": "oI0TRoVGv0dl",
        "outputId": "8f3b2201-d710-400b-87e2-b7a96ff1c64f"
      },
      "outputs": [
        {
          "output_type": "stream",
          "name": "stdout",
          "text": [
            "\u001b[1m1708/1708\u001b[0m \u001b[32m━━━━━━━━━━━━━━━━━━━━\u001b[0m\u001b[37m\u001b[0m \u001b[1m2s\u001b[0m 1ms/step\n"
          ]
        }
      ],
      "source": [
        "y_pred_prob = model.predict(X_test_rnn)\n",
        "y_pred = (y_pred_prob > 0.5).astype(int)"
      ]
    },
    {
      "cell_type": "code",
      "execution_count": 13,
      "metadata": {
        "colab": {
          "base_uri": "https://localhost:8080/"
        },
        "id": "3pBCDfKZv6n1",
        "outputId": "eeaf6574-b49f-46aa-ebbe-4331c8c31d2d"
      },
      "outputs": [
        {
          "output_type": "stream",
          "name": "stdout",
          "text": [
            "              precision    recall  f1-score   support\n",
            "\n",
            "           0       0.88      0.76      0.81     21189\n",
            "           1       0.86      0.93      0.89     33467\n",
            "\n",
            "    accuracy                           0.86     54656\n",
            "   macro avg       0.87      0.85      0.85     54656\n",
            "weighted avg       0.87      0.86      0.86     54656\n",
            "\n"
          ]
        }
      ],
      "source": [
        "print(classification_report(y_test, y_pred))"
      ]
    },
    {
      "cell_type": "markdown",
      "metadata": {
        "id": "KwclhD17FGMA"
      },
      "source": [
        "### Selecionando features com SelectKBests"
      ]
    },
    {
      "cell_type": "code",
      "execution_count": 14,
      "metadata": {
        "colab": {
          "base_uri": "https://localhost:8080/"
        },
        "id": "u2HCzx9RoOtu",
        "outputId": "30606094-9bbd-47db-f891-e807280d3820"
      },
      "outputs": [
        {
          "output_type": "stream",
          "name": "stdout",
          "text": [
            "Características selecionadas: Index(['vlr_renda_media_fam', 'qtd_comodos_domic_fam',\n",
            "       'cod_agua_canalizada_fam', 'cod_abaste_agua_domic_fam', 'qtde_pessoas'],\n",
            "      dtype='object')\n"
          ]
        },
        {
          "output_type": "stream",
          "name": "stderr",
          "text": [
            "/usr/local/lib/python3.11/dist-packages/sklearn/feature_selection/_univariate_selection.py:111: UserWarning: Features [ 3 14] are constant.\n",
            "  warnings.warn(\"Features %s are constant.\" % constant_features_idx, UserWarning)\n",
            "/usr/local/lib/python3.11/dist-packages/sklearn/feature_selection/_univariate_selection.py:112: RuntimeWarning: invalid value encountered in divide\n",
            "  f = msb / msw\n"
          ]
        }
      ],
      "source": [
        "selector = SelectKBest(score_func=f_classif, k=5)\n",
        "X_train_selected = selector.fit_transform(X_resampled, y_resampled)\n",
        "X_test_selected = selector.transform(X_test)\n",
        "\n",
        "selected_columns = X_train.columns[selector.get_support()]\n",
        "print(\"Características selecionadas:\", selected_columns)"
      ]
    },
    {
      "cell_type": "code",
      "execution_count": 15,
      "metadata": {
        "id": "GV2gsVxYxQhH"
      },
      "outputs": [],
      "source": [
        "scaler = StandardScaler()\n",
        "X_train_scaled = scaler.fit_transform(X_train_selected)\n",
        "X_test_scaled = scaler.transform(X_test_selected)"
      ]
    },
    {
      "cell_type": "code",
      "execution_count": 16,
      "metadata": {
        "id": "XP5JdeSEwY-C"
      },
      "outputs": [],
      "source": [
        "X_train_rnn = np.expand_dims(X_train_scaled, axis=1)\n",
        "X_test_rnn = np.expand_dims(X_test_scaled, axis=1)"
      ]
    },
    {
      "cell_type": "code",
      "execution_count": 17,
      "metadata": {
        "colab": {
          "base_uri": "https://localhost:8080/"
        },
        "id": "XysFNdmzxWx6",
        "outputId": "39227e44-175f-4a6e-8553-7e4878b0f389"
      },
      "outputs": [
        {
          "output_type": "stream",
          "name": "stderr",
          "text": [
            "/usr/local/lib/python3.11/dist-packages/keras/src/layers/rnn/rnn.py:200: UserWarning: Do not pass an `input_shape`/`input_dim` argument to a layer. When using Sequential models, prefer using an `Input(shape)` object as the first layer in the model instead.\n",
            "  super().__init__(**kwargs)\n"
          ]
        }
      ],
      "source": [
        "model = Sequential([\n",
        "    SimpleRNN(32, activation='relu', input_shape=(1, X_train_scaled.shape[1])),\n",
        "    Dense(16, activation='relu'),\n",
        "    Dense(1, activation='sigmoid')\n",
        "])"
      ]
    },
    {
      "cell_type": "code",
      "execution_count": 18,
      "metadata": {
        "id": "-jYQuSGrwflT"
      },
      "outputs": [],
      "source": [
        "model.compile(optimizer='adam', loss='binary_crossentropy', metrics=['accuracy'])"
      ]
    },
    {
      "cell_type": "code",
      "execution_count": 19,
      "metadata": {
        "colab": {
          "base_uri": "https://localhost:8080/"
        },
        "id": "BUlcpTxNwh97",
        "outputId": "f406d650-537a-4473-91a6-cf6c2bef5e46"
      },
      "outputs": [
        {
          "output_type": "stream",
          "name": "stdout",
          "text": [
            "Epoch 1/20\n",
            "\u001b[1m3121/3121\u001b[0m \u001b[32m━━━━━━━━━━━━━━━━━━━━\u001b[0m\u001b[37m\u001b[0m \u001b[1m15s\u001b[0m 4ms/step - accuracy: 0.8186 - loss: 0.4155 - val_accuracy: 0.8594 - val_loss: 0.3708\n",
            "Epoch 2/20\n",
            "\u001b[1m3121/3121\u001b[0m \u001b[32m━━━━━━━━━━━━━━━━━━━━\u001b[0m\u001b[37m\u001b[0m \u001b[1m17s\u001b[0m 3ms/step - accuracy: 0.8435 - loss: 0.3713 - val_accuracy: 0.8636 - val_loss: 0.3659\n",
            "Epoch 3/20\n",
            "\u001b[1m3121/3121\u001b[0m \u001b[32m━━━━━━━━━━━━━━━━━━━━\u001b[0m\u001b[37m\u001b[0m \u001b[1m10s\u001b[0m 3ms/step - accuracy: 0.8461 - loss: 0.3693 - val_accuracy: 0.8637 - val_loss: 0.3637\n",
            "Epoch 4/20\n",
            "\u001b[1m3121/3121\u001b[0m \u001b[32m━━━━━━━━━━━━━━━━━━━━\u001b[0m\u001b[37m\u001b[0m \u001b[1m13s\u001b[0m 4ms/step - accuracy: 0.8457 - loss: 0.3684 - val_accuracy: 0.8627 - val_loss: 0.3650\n",
            "Epoch 5/20\n",
            "\u001b[1m3121/3121\u001b[0m \u001b[32m━━━━━━━━━━━━━━━━━━━━\u001b[0m\u001b[37m\u001b[0m \u001b[1m11s\u001b[0m 3ms/step - accuracy: 0.8457 - loss: 0.3656 - val_accuracy: 0.8657 - val_loss: 0.3592\n",
            "Epoch 6/20\n",
            "\u001b[1m3121/3121\u001b[0m \u001b[32m━━━━━━━━━━━━━━━━━━━━\u001b[0m\u001b[37m\u001b[0m \u001b[1m23s\u001b[0m 4ms/step - accuracy: 0.8455 - loss: 0.3682 - val_accuracy: 0.8624 - val_loss: 0.3652\n",
            "Epoch 7/20\n",
            "\u001b[1m3121/3121\u001b[0m \u001b[32m━━━━━━━━━━━━━━━━━━━━\u001b[0m\u001b[37m\u001b[0m \u001b[1m18s\u001b[0m 3ms/step - accuracy: 0.8459 - loss: 0.3673 - val_accuracy: 0.8641 - val_loss: 0.3663\n",
            "Epoch 8/20\n",
            "\u001b[1m3121/3121\u001b[0m \u001b[32m━━━━━━━━━━━━━━━━━━━━\u001b[0m\u001b[37m\u001b[0m \u001b[1m12s\u001b[0m 4ms/step - accuracy: 0.8464 - loss: 0.3671 - val_accuracy: 0.8624 - val_loss: 0.3644\n",
            "Epoch 9/20\n",
            "\u001b[1m3121/3121\u001b[0m \u001b[32m━━━━━━━━━━━━━━━━━━━━\u001b[0m\u001b[37m\u001b[0m \u001b[1m12s\u001b[0m 4ms/step - accuracy: 0.8462 - loss: 0.3654 - val_accuracy: 0.8662 - val_loss: 0.3560\n",
            "Epoch 10/20\n",
            "\u001b[1m3121/3121\u001b[0m \u001b[32m━━━━━━━━━━━━━━━━━━━━\u001b[0m\u001b[37m\u001b[0m \u001b[1m12s\u001b[0m 4ms/step - accuracy: 0.8471 - loss: 0.3654 - val_accuracy: 0.8642 - val_loss: 0.3631\n",
            "Epoch 11/20\n",
            "\u001b[1m3121/3121\u001b[0m \u001b[32m━━━━━━━━━━━━━━━━━━━━\u001b[0m\u001b[37m\u001b[0m \u001b[1m19s\u001b[0m 3ms/step - accuracy: 0.8467 - loss: 0.3654 - val_accuracy: 0.8577 - val_loss: 0.3696\n",
            "Epoch 12/20\n",
            "\u001b[1m3121/3121\u001b[0m \u001b[32m━━━━━━━━━━━━━━━━━━━━\u001b[0m\u001b[37m\u001b[0m \u001b[1m13s\u001b[0m 4ms/step - accuracy: 0.8453 - loss: 0.3675 - val_accuracy: 0.8642 - val_loss: 0.3593\n",
            "Epoch 13/20\n",
            "\u001b[1m3121/3121\u001b[0m \u001b[32m━━━━━━━━━━━━━━━━━━━━\u001b[0m\u001b[37m\u001b[0m \u001b[1m20s\u001b[0m 4ms/step - accuracy: 0.8466 - loss: 0.3649 - val_accuracy: 0.8661 - val_loss: 0.3574\n",
            "Epoch 14/20\n",
            "\u001b[1m3121/3121\u001b[0m \u001b[32m━━━━━━━━━━━━━━━━━━━━\u001b[0m\u001b[37m\u001b[0m \u001b[1m12s\u001b[0m 4ms/step - accuracy: 0.8457 - loss: 0.3667 - val_accuracy: 0.8636 - val_loss: 0.3607\n",
            "Epoch 15/20\n",
            "\u001b[1m3121/3121\u001b[0m \u001b[32m━━━━━━━━━━━━━━━━━━━━\u001b[0m\u001b[37m\u001b[0m \u001b[1m12s\u001b[0m 4ms/step - accuracy: 0.8476 - loss: 0.3645 - val_accuracy: 0.8633 - val_loss: 0.3641\n",
            "Epoch 16/20\n",
            "\u001b[1m3121/3121\u001b[0m \u001b[32m━━━━━━━━━━━━━━━━━━━━\u001b[0m\u001b[37m\u001b[0m \u001b[1m21s\u001b[0m 4ms/step - accuracy: 0.8447 - loss: 0.3684 - val_accuracy: 0.8661 - val_loss: 0.3555\n",
            "Epoch 17/20\n",
            "\u001b[1m3121/3121\u001b[0m \u001b[32m━━━━━━━━━━━━━━━━━━━━\u001b[0m\u001b[37m\u001b[0m \u001b[1m10s\u001b[0m 3ms/step - accuracy: 0.8485 - loss: 0.3620 - val_accuracy: 0.8643 - val_loss: 0.3588\n",
            "Epoch 18/20\n",
            "\u001b[1m3121/3121\u001b[0m \u001b[32m━━━━━━━━━━━━━━━━━━━━\u001b[0m\u001b[37m\u001b[0m \u001b[1m13s\u001b[0m 4ms/step - accuracy: 0.8465 - loss: 0.3666 - val_accuracy: 0.8665 - val_loss: 0.3576\n",
            "Epoch 19/20\n",
            "\u001b[1m3121/3121\u001b[0m \u001b[32m━━━━━━━━━━━━━━━━━━━━\u001b[0m\u001b[37m\u001b[0m \u001b[1m18s\u001b[0m 3ms/step - accuracy: 0.8475 - loss: 0.3636 - val_accuracy: 0.8661 - val_loss: 0.3569\n",
            "Epoch 20/20\n",
            "\u001b[1m3121/3121\u001b[0m \u001b[32m━━━━━━━━━━━━━━━━━━━━\u001b[0m\u001b[37m\u001b[0m \u001b[1m22s\u001b[0m 4ms/step - accuracy: 0.8457 - loss: 0.3673 - val_accuracy: 0.8628 - val_loss: 0.3626\n"
          ]
        },
        {
          "output_type": "execute_result",
          "data": {
            "text/plain": [
              "<keras.src.callbacks.history.History at 0x7e8b3266ea90>"
            ]
          },
          "metadata": {},
          "execution_count": 19
        }
      ],
      "source": [
        "model.fit(X_train_rnn, y_resampled, epochs=20, batch_size=32, validation_data=(X_test_rnn, y_test))"
      ]
    },
    {
      "cell_type": "code",
      "execution_count": 20,
      "metadata": {
        "colab": {
          "base_uri": "https://localhost:8080/"
        },
        "id": "xchsX32Ty9KI",
        "outputId": "e332acd6-69a0-4a19-b694-9ed9badf1099"
      },
      "outputs": [
        {
          "output_type": "stream",
          "name": "stdout",
          "text": [
            "\u001b[1m1708/1708\u001b[0m \u001b[32m━━━━━━━━━━━━━━━━━━━━\u001b[0m\u001b[37m\u001b[0m \u001b[1m2s\u001b[0m 1ms/step\n"
          ]
        }
      ],
      "source": [
        "y_pred_prob = model.predict(X_test_rnn)\n",
        "y_pred = (y_pred_prob > 0.5).astype(int)"
      ]
    },
    {
      "cell_type": "code",
      "execution_count": 21,
      "metadata": {
        "colab": {
          "base_uri": "https://localhost:8080/"
        },
        "id": "qUV3df9LzDhp",
        "outputId": "ea580e15-0586-42a5-c967-e6da3d5773be"
      },
      "outputs": [
        {
          "output_type": "stream",
          "name": "stdout",
          "text": [
            "              precision    recall  f1-score   support\n",
            "\n",
            "           0       0.87      0.76      0.81     21189\n",
            "           1       0.86      0.93      0.89     33467\n",
            "\n",
            "    accuracy                           0.86     54656\n",
            "   macro avg       0.86      0.84      0.85     54656\n",
            "weighted avg       0.86      0.86      0.86     54656\n",
            "\n"
          ]
        }
      ],
      "source": [
        "print(classification_report(y_test, y_pred))"
      ]
    }
  ],
  "metadata": {
    "colab": {
      "provenance": [],
      "include_colab_link": true
    },
    "kernelspec": {
      "display_name": "Python 3",
      "language": "python",
      "name": "python3"
    },
    "language_info": {
      "codemirror_mode": {
        "name": "ipython",
        "version": 3
      },
      "file_extension": ".py",
      "mimetype": "text/x-python",
      "name": "python",
      "nbconvert_exporter": "python",
      "pygments_lexer": "ipython3",
      "version": "3.10.7"
    }
  },
  "nbformat": 4,
  "nbformat_minor": 0
}