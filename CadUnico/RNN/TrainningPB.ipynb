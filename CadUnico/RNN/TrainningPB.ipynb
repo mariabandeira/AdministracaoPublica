{
  "cells": [
    {
      "cell_type": "markdown",
      "metadata": {
        "id": "view-in-github",
        "colab_type": "text"
      },
      "source": [
        "<a href=\"https://colab.research.google.com/github/mariabandeira/AdministracaoPublica/blob/main/CadUnico/RNN/TrainningPB.ipynb\" target=\"_parent\"><img src=\"https://colab.research.google.com/assets/colab-badge.svg\" alt=\"Open In Colab\"/></a>"
      ]
    },
    {
      "cell_type": "code",
      "execution_count": 77,
      "metadata": {
        "id": "r1st9bEiFGLr"
      },
      "outputs": [],
      "source": [
        "import pandas as pd\n",
        "import numpy as np\n",
        "import matplotlib.pyplot as plt\n",
        "from sklearn.preprocessing import StandardScaler\n",
        "from sklearn.model_selection import train_test_split\n",
        "from sklearn.metrics import classification_report, accuracy_score\n",
        "from sklearn.feature_selection import SelectKBest, f_classif\n",
        "from imblearn.under_sampling import RandomUnderSampler\n",
        "from tensorflow.keras.models import Sequential\n",
        "from tensorflow.keras.layers import Dense, SimpleRNN, Dropout\n",
        "from tensorflow.keras.callbacks import EarlyStopping\n"
      ]
    },
    {
      "cell_type": "code",
      "execution_count": 78,
      "metadata": {
        "id": "Bnx9llaFbFBj"
      },
      "outputs": [],
      "source": [
        "treated_data_PB = pd.read_csv('https://raw.githubusercontent.com/mariabandeira/AdministracaoPublica/refs/heads/main/CadUnico/BasesPB/cadunico_pb_cleaned.csv', sep=',', encoding='utf-8')"
      ]
    },
    {
      "cell_type": "code",
      "execution_count": 79,
      "metadata": {
        "id": "DvhZZ1gIkBKv"
      },
      "outputs": [],
      "source": [
        "treated_data_PB.dropna(inplace=True)\n",
        "treated_data_PB.drop_duplicates(inplace=True)"
      ]
    },
    {
      "cell_type": "markdown",
      "metadata": {
        "id": "MGNcxaEWFGL-"
      },
      "source": [
        "### Treinando o modelo RNN"
      ]
    },
    {
      "cell_type": "code",
      "execution_count": 80,
      "metadata": {
        "colab": {
          "base_uri": "https://localhost:8080/"
        },
        "id": "vmb92FcSFGL9",
        "outputId": "3b049a71-dc9e-40c9-e794-1704682bfffc"
      },
      "outputs": [
        {
          "output_type": "stream",
          "name": "stdout",
          "text": [
            "marc_pbf\n",
            "1    60.96\n",
            "0    39.04\n",
            "Name: proportion, dtype: float64\n"
          ]
        }
      ],
      "source": [
        "# analisando a distribuição da variável alvo (marc_pbf)\n",
        "target_distribution = treated_data_PB['marc_pbf'].value_counts(normalize=True) * 100\n",
        "\n",
        "print(round(target_distribution, 2))"
      ]
    },
    {
      "cell_type": "code",
      "execution_count": 81,
      "metadata": {
        "colab": {
          "base_uri": "https://localhost:8080/"
        },
        "id": "LuxXSuBdFGL-",
        "outputId": "1dbeddb4-9da6-4bf1-821a-f52b7e4df9dc"
      },
      "outputs": [
        {
          "output_type": "stream",
          "name": "stdout",
          "text": [
            "marc_pbf\n",
            "0    49935\n",
            "1    49935\n",
            "Name: count, dtype: int64\n"
          ]
        }
      ],
      "source": [
        "# separar X (features) e y (target)\n",
        "X = treated_data_PB.drop('marc_pbf', axis=1)\n",
        "y = treated_data_PB['marc_pbf']\n",
        "\n",
        "# treino e teste\n",
        "X_train, X_test, y_train, y_test = train_test_split(X, y, test_size=0.3, random_state=42)\n",
        "\n",
        "# criando uma instância do RandomUnderSampling\n",
        "rus = RandomUnderSampler(random_state=42, sampling_strategy = 'majority')\n",
        "\n",
        "# balanceando os dados\n",
        "X_resampled, y_resampled = rus.fit_resample(X_train, y_train)\n",
        "\n",
        "print(y_resampled.value_counts())"
      ]
    },
    {
      "cell_type": "code",
      "execution_count": 82,
      "metadata": {
        "colab": {
          "base_uri": "https://localhost:8080/"
        },
        "id": "zRg3jc7ccAYN",
        "outputId": "11a1866e-9317-477d-dd8e-c87dc50fa265"
      },
      "outputs": [
        {
          "output_type": "stream",
          "name": "stdout",
          "text": [
            "Primeiros dados escalados (padronizados):\n",
            "[[-1.94675229  0.25998787 -0.66351538  0.         -1.13901679  0.21086124\n",
            "   1.58901493 -0.30371528 -0.63344419 -0.68283037 -0.32494349 -0.64034823\n",
            "  -0.30392907 -1.16344252  0.          0.08346976  0.07556882]\n",
            " [-0.56513795 -0.13902563 -0.66351538  0.         -1.13901679 -1.08954091\n",
            "  -0.53557624 -0.30371528 -0.63344419 -0.68283037 -0.32494349 -0.64034823\n",
            "  -0.30392907 -1.16344252  0.          0.08346976  1.48597033]\n",
            " [-0.56513795  0.18154932 -0.66351538  0.          0.17970507  0.21086124\n",
            "   1.58901493 -0.30371528 -0.63344419 -0.68283037 -0.32494349 -0.64034823\n",
            "  -0.30392907 -1.16344252  0.          0.08346976  0.78076958]\n",
            " [ 0.81647638  0.31796419 -0.66351538  0.          0.839066    0.21086124\n",
            "  -0.53557624 -0.30371528 -0.63344419 -0.68283037 -0.32494349 -0.64034823\n",
            "  -0.30392907 -1.16344252  0.          0.08346976 -0.62963193]\n",
            " [-0.56513795  0.42709609 -0.66351538  0.          1.49842693  1.51126339\n",
            "   1.58901493 -0.30371528 -0.63344419 -0.68283037 -0.32494349 -0.64034823\n",
            "  -0.30392907 -1.16344252  0.          0.08346976 -0.62963193]]\n"
          ]
        }
      ],
      "source": [
        "# aplicar padronização nas features\n",
        "scaler = StandardScaler()\n",
        "X_train_scaled = scaler.fit_transform(X_resampled)\n",
        "X_test_scaled = scaler.transform(X_test)\n",
        "\n",
        "print(\"Primeiros dados escalados (padronizados):\")\n",
        "print(X_train_scaled[:5])"
      ]
    },
    {
      "cell_type": "code",
      "execution_count": 83,
      "metadata": {
        "id": "zmILgmbigedB"
      },
      "outputs": [],
      "source": [
        "# Ajustar formato para a RNN (samples, time steps, features)\n",
        "X_train_rnn = np.expand_dims(X_train_scaled, axis=1)\n",
        "X_test_rnn = np.expand_dims(X_test_scaled, axis=1)"
      ]
    },
    {
      "cell_type": "code",
      "execution_count": 84,
      "metadata": {
        "colab": {
          "base_uri": "https://localhost:8080/"
        },
        "id": "Z4ACptCogf_F",
        "outputId": "e6e7dca1-ad40-475e-f795-89c9f45e9714"
      },
      "outputs": [
        {
          "output_type": "stream",
          "name": "stderr",
          "text": [
            "/usr/local/lib/python3.11/dist-packages/keras/src/layers/rnn/rnn.py:200: UserWarning: Do not pass an `input_shape`/`input_dim` argument to a layer. When using Sequential models, prefer using an `Input(shape)` object as the first layer in the model instead.\n",
            "  super().__init__(**kwargs)\n"
          ]
        }
      ],
      "source": [
        "# Construir a RNN\n",
        "model = Sequential([\n",
        "    SimpleRNN(32, activation='relu', input_shape=(1, X_train.shape[1])),\n",
        "    Dense(16, activation='relu'),\n",
        "    Dense(1, activation='sigmoid')\n",
        "])"
      ]
    },
    {
      "cell_type": "code",
      "execution_count": 85,
      "metadata": {
        "id": "E7S5KRBMtdCS"
      },
      "outputs": [],
      "source": [
        "model.compile(optimizer='adam', loss='binary_crossentropy', metrics=['accuracy'])\n",
        "early_stopping = EarlyStopping(monitor='val_loss', patience=10)"
      ]
    },
    {
      "cell_type": "code",
      "execution_count": 86,
      "metadata": {
        "colab": {
          "base_uri": "https://localhost:8080/"
        },
        "id": "m-1hja2gtgXj",
        "outputId": "14443944-3f16-4ba6-acc8-639b5ef4b781"
      },
      "outputs": [
        {
          "output_type": "stream",
          "name": "stdout",
          "text": [
            "Epoch 1/20\n",
            "\u001b[1m3121/3121\u001b[0m \u001b[32m━━━━━━━━━━━━━━━━━━━━\u001b[0m\u001b[37m\u001b[0m \u001b[1m13s\u001b[0m 4ms/step - accuracy: 0.7922 - loss: 0.4391 - val_accuracy: 0.8549 - val_loss: 0.3670\n",
            "Epoch 2/20\n",
            "\u001b[1m3121/3121\u001b[0m \u001b[32m━━━━━━━━━━━━━━━━━━━━\u001b[0m\u001b[37m\u001b[0m \u001b[1m12s\u001b[0m 4ms/step - accuracy: 0.8429 - loss: 0.3701 - val_accuracy: 0.8560 - val_loss: 0.3688\n",
            "Epoch 3/20\n",
            "\u001b[1m3121/3121\u001b[0m \u001b[32m━━━━━━━━━━━━━━━━━━━━\u001b[0m\u001b[37m\u001b[0m \u001b[1m12s\u001b[0m 4ms/step - accuracy: 0.8441 - loss: 0.3686 - val_accuracy: 0.8544 - val_loss: 0.3689\n",
            "Epoch 4/20\n",
            "\u001b[1m3121/3121\u001b[0m \u001b[32m━━━━━━━━━━━━━━━━━━━━\u001b[0m\u001b[37m\u001b[0m \u001b[1m18s\u001b[0m 3ms/step - accuracy: 0.8435 - loss: 0.3671 - val_accuracy: 0.8631 - val_loss: 0.3556\n",
            "Epoch 5/20\n",
            "\u001b[1m3121/3121\u001b[0m \u001b[32m━━━━━━━━━━━━━━━━━━━━\u001b[0m\u001b[37m\u001b[0m \u001b[1m11s\u001b[0m 3ms/step - accuracy: 0.8448 - loss: 0.3651 - val_accuracy: 0.8613 - val_loss: 0.3588\n",
            "Epoch 6/20\n",
            "\u001b[1m3121/3121\u001b[0m \u001b[32m━━━━━━━━━━━━━━━━━━━━\u001b[0m\u001b[37m\u001b[0m \u001b[1m11s\u001b[0m 3ms/step - accuracy: 0.8438 - loss: 0.3664 - val_accuracy: 0.8599 - val_loss: 0.3628\n",
            "Epoch 7/20\n",
            "\u001b[1m3121/3121\u001b[0m \u001b[32m━━━━━━━━━━━━━━━━━━━━\u001b[0m\u001b[37m\u001b[0m \u001b[1m22s\u001b[0m 4ms/step - accuracy: 0.8442 - loss: 0.3650 - val_accuracy: 0.8634 - val_loss: 0.3575\n",
            "Epoch 8/20\n",
            "\u001b[1m3121/3121\u001b[0m \u001b[32m━━━━━━━━━━━━━━━━━━━━\u001b[0m\u001b[37m\u001b[0m \u001b[1m18s\u001b[0m 3ms/step - accuracy: 0.8457 - loss: 0.3597 - val_accuracy: 0.8582 - val_loss: 0.3677\n",
            "Epoch 9/20\n",
            "\u001b[1m3121/3121\u001b[0m \u001b[32m━━━━━━━━━━━━━━━━━━━━\u001b[0m\u001b[37m\u001b[0m \u001b[1m11s\u001b[0m 3ms/step - accuracy: 0.8453 - loss: 0.3623 - val_accuracy: 0.8633 - val_loss: 0.3564\n",
            "Epoch 10/20\n",
            "\u001b[1m3121/3121\u001b[0m \u001b[32m━━━━━━━━━━━━━━━━━━━━\u001b[0m\u001b[37m\u001b[0m \u001b[1m11s\u001b[0m 3ms/step - accuracy: 0.8458 - loss: 0.3620 - val_accuracy: 0.8640 - val_loss: 0.3570\n",
            "Epoch 11/20\n",
            "\u001b[1m3121/3121\u001b[0m \u001b[32m━━━━━━━━━━━━━━━━━━━━\u001b[0m\u001b[37m\u001b[0m \u001b[1m22s\u001b[0m 4ms/step - accuracy: 0.8455 - loss: 0.3602 - val_accuracy: 0.8663 - val_loss: 0.3521\n",
            "Epoch 12/20\n",
            "\u001b[1m3121/3121\u001b[0m \u001b[32m━━━━━━━━━━━━━━━━━━━━\u001b[0m\u001b[37m\u001b[0m \u001b[1m12s\u001b[0m 4ms/step - accuracy: 0.8463 - loss: 0.3603 - val_accuracy: 0.8637 - val_loss: 0.3618\n",
            "Epoch 13/20\n",
            "\u001b[1m3121/3121\u001b[0m \u001b[32m━━━━━━━━━━━━━━━━━━━━\u001b[0m\u001b[37m\u001b[0m \u001b[1m18s\u001b[0m 3ms/step - accuracy: 0.8435 - loss: 0.3636 - val_accuracy: 0.8624 - val_loss: 0.3602\n",
            "Epoch 14/20\n",
            "\u001b[1m3121/3121\u001b[0m \u001b[32m━━━━━━━━━━━━━━━━━━━━\u001b[0m\u001b[37m\u001b[0m \u001b[1m11s\u001b[0m 3ms/step - accuracy: 0.8459 - loss: 0.3616 - val_accuracy: 0.8632 - val_loss: 0.3589\n",
            "Epoch 15/20\n",
            "\u001b[1m3121/3121\u001b[0m \u001b[32m━━━━━━━━━━━━━━━━━━━━\u001b[0m\u001b[37m\u001b[0m \u001b[1m21s\u001b[0m 3ms/step - accuracy: 0.8456 - loss: 0.3612 - val_accuracy: 0.8639 - val_loss: 0.3528\n",
            "Epoch 16/20\n",
            "\u001b[1m3121/3121\u001b[0m \u001b[32m━━━━━━━━━━━━━━━━━━━━\u001b[0m\u001b[37m\u001b[0m \u001b[1m12s\u001b[0m 4ms/step - accuracy: 0.8473 - loss: 0.3580 - val_accuracy: 0.8622 - val_loss: 0.3606\n",
            "Epoch 17/20\n",
            "\u001b[1m3121/3121\u001b[0m \u001b[32m━━━━━━━━━━━━━━━━━━━━\u001b[0m\u001b[37m\u001b[0m \u001b[1m18s\u001b[0m 3ms/step - accuracy: 0.8470 - loss: 0.3619 - val_accuracy: 0.8636 - val_loss: 0.3572\n",
            "Epoch 18/20\n",
            "\u001b[1m3121/3121\u001b[0m \u001b[32m━━━━━━━━━━━━━━━━━━━━\u001b[0m\u001b[37m\u001b[0m \u001b[1m11s\u001b[0m 3ms/step - accuracy: 0.8449 - loss: 0.3609 - val_accuracy: 0.8646 - val_loss: 0.3537\n",
            "Epoch 19/20\n",
            "\u001b[1m3121/3121\u001b[0m \u001b[32m━━━━━━━━━━━━━━━━━━━━\u001b[0m\u001b[37m\u001b[0m \u001b[1m11s\u001b[0m 3ms/step - accuracy: 0.8486 - loss: 0.3573 - val_accuracy: 0.8632 - val_loss: 0.3586\n",
            "Epoch 20/20\n",
            "\u001b[1m3121/3121\u001b[0m \u001b[32m━━━━━━━━━━━━━━━━━━━━\u001b[0m\u001b[37m\u001b[0m \u001b[1m22s\u001b[0m 4ms/step - accuracy: 0.8444 - loss: 0.3617 - val_accuracy: 0.8610 - val_loss: 0.3608\n"
          ]
        }
      ],
      "source": [
        "history = model.fit(X_train_rnn, y_resampled, epochs=20, batch_size=32, validation_data=(X_test_rnn, y_test))"
      ]
    },
    {
      "cell_type": "code",
      "execution_count": 87,
      "metadata": {
        "colab": {
          "base_uri": "https://localhost:8080/"
        },
        "id": "oI0TRoVGv0dl",
        "outputId": "99f61248-e441-431e-a260-4c1194bd8db2"
      },
      "outputs": [
        {
          "output_type": "stream",
          "name": "stdout",
          "text": [
            "\u001b[1m1708/1708\u001b[0m \u001b[32m━━━━━━━━━━━━━━━━━━━━\u001b[0m\u001b[37m\u001b[0m \u001b[1m2s\u001b[0m 1ms/step\n",
            "              precision    recall  f1-score   support\n",
            "\n",
            "           0       0.86      0.76      0.81     21189\n",
            "           1       0.86      0.92      0.89     33467\n",
            "\n",
            "    accuracy                           0.86     54656\n",
            "   macro avg       0.86      0.84      0.85     54656\n",
            "weighted avg       0.86      0.86      0.86     54656\n",
            "\n"
          ]
        }
      ],
      "source": [
        "y_pred_prob = model.predict(X_test_rnn)\n",
        "y_pred = (y_pred_prob > 0.5).astype(int)\n",
        "print(classification_report(y_test, y_pred))"
      ]
    },
    {
      "cell_type": "code",
      "source": [
        "import matplotlib.pyplot as plt\n",
        "from sklearn.metrics import accuracy_score\n",
        "\n",
        "plt.plot(history.history['loss'])\n",
        "plt.plot(history.history['val_loss'])\n",
        "plt.title('Metrica de erro')\n",
        "plt.ylabel('Erro')\n",
        "plt.xlabel('Epoca')\n",
        "plt.legend(['Treinamento', 'Validacao'])\n",
        "plt.show()\n",
        "\n",
        "pred = np.round(model.predict(X_train_rnn))\n",
        "acc_train = accuracy_score(y_resampled, pred)\n",
        "\n",
        "pred = np.round(model.predict(X_test_rnn))\n",
        "acc_val = accuracy_score(y_test, pred)\n",
        "\n",
        "print(f'\\n--> Acuracia (treino): {acc_train:.4f}')\n",
        "print(f'--> Acuracia (validacao): {acc_val:.4f}')\n",
        "print(f\"--> acc_train - acc_val = {acc_train - acc_val:.4f}\")\n",
        "print(f\"--> E_val - E_in = {(history.history['val_loss'][-1] - history.history['loss'][-1]):.4f}\")"
      ],
      "metadata": {
        "colab": {
          "base_uri": "https://localhost:8080/",
          "height": 597
        },
        "id": "fMbEAtmSxroF",
        "outputId": "91b2863a-b25a-4794-a28d-fe9584245f02"
      },
      "execution_count": 88,
      "outputs": [
        {
          "output_type": "display_data",
          "data": {
            "text/plain": [
              "<Figure size 640x480 with 1 Axes>"
            ],
            "image/png": "[encoded data removed]"
          },
          "metadata": {}
        },
        {
          "output_type": "stream",
          "name": "stdout",
          "text": [
            "\u001b[1m3121/3121\u001b[0m \u001b[32m━━━━━━━━━━━━━━━━━━━━\u001b[0m\u001b[37m\u001b[0m \u001b[1m4s\u001b[0m 1ms/step\n",
            "\u001b[1m1708/1708\u001b[0m \u001b[32m━━━━━━━━━━━━━━━━━━━━\u001b[0m\u001b[37m\u001b[0m \u001b[1m3s\u001b[0m 2ms/step\n",
            "\n",
            "--> Acuracia (treino): 0.8458\n",
            "--> Acuracia (validacao): 0.8610\n",
            "--> acc_train - acc_val = -0.0152\n",
            "--> E_val - E_in = 0.0011\n"
          ]
        }
      ]
    },
    {
      "cell_type": "code",
      "source": [
        "model = Sequential()\n",
        "model.add(Dense(32, input_shape=(1, X_train.shape[1]), activation='relu'))\n",
        "model.add(Dense(16, activation='relu'))\n",
        "model.add(Dense(16, activation='relu'))\n",
        "model.add(Dense(1, activation='sigmoid'))\n",
        "\n",
        "model.compile(optimizer='adam', loss='binary_crossentropy', metrics=['accuracy'])\n",
        "\n",
        "early_stopping = EarlyStopping(monitor='val_loss', patience=10)\n",
        "\n",
        "model.summary()"
      ],
      "metadata": {
        "colab": {
          "base_uri": "https://localhost:8080/",
          "height": 328
        },
        "id": "h3PJjU5gsqE4",
        "outputId": "e13f3363-0229-41b3-aadb-c66fe05c59a4"
      },
      "execution_count": 89,
      "outputs": [
        {
          "output_type": "stream",
          "name": "stderr",
          "text": [
            "/usr/local/lib/python3.11/dist-packages/keras/src/layers/core/dense.py:87: UserWarning: Do not pass an `input_shape`/`input_dim` argument to a layer. When using Sequential models, prefer using an `Input(shape)` object as the first layer in the model instead.\n",
            "  super().__init__(activity_regularizer=activity_regularizer, **kwargs)\n"
          ]
        },
        {
          "output_type": "display_data",
          "data": {
            "text/plain": [
              "\u001b[1mModel: \"sequential_14\"\u001b[0m\n"
            ],
            "text/html": [
              "<pre style=\"white-space:pre;overflow-x:auto;line-height:normal;font-family:Menlo,'DejaVu Sans Mono',consolas,'Courier New',monospace\"><span style=\"font-weight: bold\">Model: \"sequential_14\"</span>\n",
              "</pre>\n"
            ]
          },
          "metadata": {}
        },
        {
          "output_type": "display_data",
          "data": {
            "text/plain": [
              "┏━━━━━━━━━━━━━━━━━━━━━━━━━━━━━━━━━┳━━━━━━━━━━━━━━━━━━━━━━━━┳━━━━━━━━━━━━━━━┓\n",
              "┃\u001b[1m \u001b[0m\u001b[1mLayer (type)                   \u001b[0m\u001b[1m \u001b[0m┃\u001b[1m \u001b[0m\u001b[1mOutput Shape          \u001b[0m\u001b[1m \u001b[0m┃\u001b[1m \u001b[0m\u001b[1m      Param #\u001b[0m\u001b[1m \u001b[0m┃\n",
              "┡━━━━━━━━━━━━━━━━━━━━━━━━━━━━━━━━━╇━━━━━━━━━━━━━━━━━━━━━━━━╇━━━━━━━━━━━━━━━┩\n",
              "│ dense_39 (\u001b[38;5;33mDense\u001b[0m)                │ (\u001b[38;5;45mNone\u001b[0m, \u001b[38;5;34m1\u001b[0m, \u001b[38;5;34m32\u001b[0m)          │           \u001b[38;5;34m576\u001b[0m │\n",
              "├─────────────────────────────────┼────────────────────────┼───────────────┤\n",
              "│ dense_40 (\u001b[38;5;33mDense\u001b[0m)                │ (\u001b[38;5;45mNone\u001b[0m, \u001b[38;5;34m1\u001b[0m, \u001b[38;5;34m16\u001b[0m)          │           \u001b[38;5;34m528\u001b[0m │\n",
              "├─────────────────────────────────┼────────────────────────┼───────────────┤\n",
              "│ dense_41 (\u001b[38;5;33mDense\u001b[0m)                │ (\u001b[38;5;45mNone\u001b[0m, \u001b[38;5;34m1\u001b[0m, \u001b[38;5;34m16\u001b[0m)          │           \u001b[38;5;34m272\u001b[0m │\n",
              "├─────────────────────────────────┼────────────────────────┼───────────────┤\n",
              "│ dense_42 (\u001b[38;5;33mDense\u001b[0m)                │ (\u001b[38;5;45mNone\u001b[0m, \u001b[38;5;34m1\u001b[0m, \u001b[38;5;34m1\u001b[0m)           │            \u001b[38;5;34m17\u001b[0m │\n",
              "└─────────────────────────────────┴────────────────────────┴───────────────┘\n"
            ],
            "text/html": [
              "<pre style=\"white-space:pre;overflow-x:auto;line-height:normal;font-family:Menlo,'DejaVu Sans Mono',consolas,'Courier New',monospace\">┏━━━━━━━━━━━━━━━━━━━━━━━━━━━━━━━━━┳━━━━━━━━━━━━━━━━━━━━━━━━┳━━━━━━━━━━━━━━━┓\n",
              "┃<span style=\"font-weight: bold\"> Layer (type)                    </span>┃<span style=\"font-weight: bold\"> Output Shape           </span>┃<span style=\"font-weight: bold\">       Param # </span>┃\n",
              "┡━━━━━━━━━━━━━━━━━━━━━━━━━━━━━━━━━╇━━━━━━━━━━━━━━━━━━━━━━━━╇━━━━━━━━━━━━━━━┩\n",
              "│ dense_39 (<span style=\"color: #0087ff; text-decoration-color: #0087ff\">Dense</span>)                │ (<span style=\"color: #00d7ff; text-decoration-color: #00d7ff\">None</span>, <span style=\"color: #00af00; text-decoration-color: #00af00\">1</span>, <span style=\"color: #00af00; text-decoration-color: #00af00\">32</span>)          │           <span style=\"color: #00af00; text-decoration-color: #00af00\">576</span> │\n",
              "├─────────────────────────────────┼────────────────────────┼───────────────┤\n",
              "│ dense_40 (<span style=\"color: #0087ff; text-decoration-color: #0087ff\">Dense</span>)                │ (<span style=\"color: #00d7ff; text-decoration-color: #00d7ff\">None</span>, <span style=\"color: #00af00; text-decoration-color: #00af00\">1</span>, <span style=\"color: #00af00; text-decoration-color: #00af00\">16</span>)          │           <span style=\"color: #00af00; text-decoration-color: #00af00\">528</span> │\n",
              "├─────────────────────────────────┼────────────────────────┼───────────────┤\n",
              "│ dense_41 (<span style=\"color: #0087ff; text-decoration-color: #0087ff\">Dense</span>)                │ (<span style=\"color: #00d7ff; text-decoration-color: #00d7ff\">None</span>, <span style=\"color: #00af00; text-decoration-color: #00af00\">1</span>, <span style=\"color: #00af00; text-decoration-color: #00af00\">16</span>)          │           <span style=\"color: #00af00; text-decoration-color: #00af00\">272</span> │\n",
              "├─────────────────────────────────┼────────────────────────┼───────────────┤\n",
              "│ dense_42 (<span style=\"color: #0087ff; text-decoration-color: #0087ff\">Dense</span>)                │ (<span style=\"color: #00d7ff; text-decoration-color: #00d7ff\">None</span>, <span style=\"color: #00af00; text-decoration-color: #00af00\">1</span>, <span style=\"color: #00af00; text-decoration-color: #00af00\">1</span>)           │            <span style=\"color: #00af00; text-decoration-color: #00af00\">17</span> │\n",
              "└─────────────────────────────────┴────────────────────────┴───────────────┘\n",
              "</pre>\n"
            ]
          },
          "metadata": {}
        },
        {
          "output_type": "display_data",
          "data": {
            "text/plain": [
              "\u001b[1m Total params: \u001b[0m\u001b[38;5;34m1,393\u001b[0m (5.44 KB)\n"
            ],
            "text/html": [
              "<pre style=\"white-space:pre;overflow-x:auto;line-height:normal;font-family:Menlo,'DejaVu Sans Mono',consolas,'Courier New',monospace\"><span style=\"font-weight: bold\"> Total params: </span><span style=\"color: #00af00; text-decoration-color: #00af00\">1,393</span> (5.44 KB)\n",
              "</pre>\n"
            ]
          },
          "metadata": {}
        },
        {
          "output_type": "display_data",
          "data": {
            "text/plain": [
              "\u001b[1m Trainable params: \u001b[0m\u001b[38;5;34m1,393\u001b[0m (5.44 KB)\n"
            ],
            "text/html": [
              "<pre style=\"white-space:pre;overflow-x:auto;line-height:normal;font-family:Menlo,'DejaVu Sans Mono',consolas,'Courier New',monospace\"><span style=\"font-weight: bold\"> Trainable params: </span><span style=\"color: #00af00; text-decoration-color: #00af00\">1,393</span> (5.44 KB)\n",
              "</pre>\n"
            ]
          },
          "metadata": {}
        },
        {
          "output_type": "display_data",
          "data": {
            "text/plain": [
              "\u001b[1m Non-trainable params: \u001b[0m\u001b[38;5;34m0\u001b[0m (0.00 B)\n"
            ],
            "text/html": [
              "<pre style=\"white-space:pre;overflow-x:auto;line-height:normal;font-family:Menlo,'DejaVu Sans Mono',consolas,'Courier New',monospace\"><span style=\"font-weight: bold\"> Non-trainable params: </span><span style=\"color: #00af00; text-decoration-color: #00af00\">0</span> (0.00 B)\n",
              "</pre>\n"
            ]
          },
          "metadata": {}
        }
      ]
    },
    {
      "cell_type": "code",
      "source": [
        "history = model.fit(X_train_rnn, y_resampled, epochs=20, batch_size=32, validation_data=(X_test_rnn, y_test))"
      ],
      "metadata": {
        "colab": {
          "base_uri": "https://localhost:8080/"
        },
        "id": "kIyg8DdUtk2l",
        "outputId": "e780d0cc-2200-4613-e256-6713274d1e31"
      },
      "execution_count": 90,
      "outputs": [
        {
          "output_type": "stream",
          "name": "stdout",
          "text": [
            "Epoch 1/20\n",
            "\u001b[1m3121/3121\u001b[0m \u001b[32m━━━━━━━━━━━━━━━━━━━━\u001b[0m\u001b[37m\u001b[0m \u001b[1m13s\u001b[0m 4ms/step - accuracy: 0.8031 - loss: 0.4286 - val_accuracy: 0.8560 - val_loss: 0.3678\n",
            "Epoch 2/20\n",
            "\u001b[1m3121/3121\u001b[0m \u001b[32m━━━━━━━━━━━━━━━━━━━━\u001b[0m\u001b[37m\u001b[0m \u001b[1m12s\u001b[0m 4ms/step - accuracy: 0.8409 - loss: 0.3709 - val_accuracy: 0.8609 - val_loss: 0.3578\n",
            "Epoch 3/20\n",
            "\u001b[1m3121/3121\u001b[0m \u001b[32m━━━━━━━━━━━━━━━━━━━━\u001b[0m\u001b[37m\u001b[0m \u001b[1m19s\u001b[0m 3ms/step - accuracy: 0.8422 - loss: 0.3714 - val_accuracy: 0.8576 - val_loss: 0.3649\n",
            "Epoch 4/20\n",
            "\u001b[1m3121/3121\u001b[0m \u001b[32m━━━━━━━━━━━━━━━━━━━━\u001b[0m\u001b[37m\u001b[0m \u001b[1m10s\u001b[0m 3ms/step - accuracy: 0.8428 - loss: 0.3668 - val_accuracy: 0.8632 - val_loss: 0.3578\n",
            "Epoch 5/20\n",
            "\u001b[1m3121/3121\u001b[0m \u001b[32m━━━━━━━━━━━━━━━━━━━━\u001b[0m\u001b[37m\u001b[0m \u001b[1m10s\u001b[0m 3ms/step - accuracy: 0.8450 - loss: 0.3654 - val_accuracy: 0.8621 - val_loss: 0.3532\n",
            "Epoch 6/20\n",
            "\u001b[1m3121/3121\u001b[0m \u001b[32m━━━━━━━━━━━━━━━━━━━━\u001b[0m\u001b[37m\u001b[0m \u001b[1m22s\u001b[0m 4ms/step - accuracy: 0.8454 - loss: 0.3646 - val_accuracy: 0.8651 - val_loss: 0.3542\n",
            "Epoch 7/20\n",
            "\u001b[1m3121/3121\u001b[0m \u001b[32m━━━━━━━━━━━━━━━━━━━━\u001b[0m\u001b[37m\u001b[0m \u001b[1m9s\u001b[0m 3ms/step - accuracy: 0.8431 - loss: 0.3647 - val_accuracy: 0.8635 - val_loss: 0.3612\n",
            "Epoch 8/20\n",
            "\u001b[1m3121/3121\u001b[0m \u001b[32m━━━━━━━━━━━━━━━━━━━━\u001b[0m\u001b[37m\u001b[0m \u001b[1m10s\u001b[0m 3ms/step - accuracy: 0.8457 - loss: 0.3612 - val_accuracy: 0.8639 - val_loss: 0.3608\n",
            "Epoch 9/20\n",
            "\u001b[1m3121/3121\u001b[0m \u001b[32m━━━━━━━━━━━━━━━━━━━━\u001b[0m\u001b[37m\u001b[0m \u001b[1m10s\u001b[0m 3ms/step - accuracy: 0.8447 - loss: 0.3642 - val_accuracy: 0.8632 - val_loss: 0.3556\n",
            "Epoch 10/20\n",
            "\u001b[1m3121/3121\u001b[0m \u001b[32m━━━━━━━━━━━━━━━━━━━━\u001b[0m\u001b[37m\u001b[0m \u001b[1m10s\u001b[0m 3ms/step - accuracy: 0.8452 - loss: 0.3621 - val_accuracy: 0.8637 - val_loss: 0.3558\n",
            "Epoch 11/20\n",
            "\u001b[1m3121/3121\u001b[0m \u001b[32m━━━━━━━━━━━━━━━━━━━━\u001b[0m\u001b[37m\u001b[0m \u001b[1m12s\u001b[0m 4ms/step - accuracy: 0.8456 - loss: 0.3607 - val_accuracy: 0.8644 - val_loss: 0.3527\n",
            "Epoch 12/20\n",
            "\u001b[1m3121/3121\u001b[0m \u001b[32m━━━━━━━━━━━━━━━━━━━━\u001b[0m\u001b[37m\u001b[0m \u001b[1m17s\u001b[0m 3ms/step - accuracy: 0.8455 - loss: 0.3611 - val_accuracy: 0.8641 - val_loss: 0.3551\n",
            "Epoch 13/20\n",
            "\u001b[1m3121/3121\u001b[0m \u001b[32m━━━━━━━━━━━━━━━━━━━━\u001b[0m\u001b[37m\u001b[0m \u001b[1m11s\u001b[0m 3ms/step - accuracy: 0.8471 - loss: 0.3599 - val_accuracy: 0.8631 - val_loss: 0.3584\n",
            "Epoch 14/20\n",
            "\u001b[1m3121/3121\u001b[0m \u001b[32m━━━━━━━━━━━━━━━━━━━━\u001b[0m\u001b[37m\u001b[0m \u001b[1m11s\u001b[0m 3ms/step - accuracy: 0.8468 - loss: 0.3594 - val_accuracy: 0.8611 - val_loss: 0.3608\n",
            "Epoch 15/20\n",
            "\u001b[1m3121/3121\u001b[0m \u001b[32m━━━━━━━━━━━━━━━━━━━━\u001b[0m\u001b[37m\u001b[0m \u001b[1m10s\u001b[0m 3ms/step - accuracy: 0.8451 - loss: 0.3607 - val_accuracy: 0.8645 - val_loss: 0.3578\n",
            "Epoch 16/20\n",
            "\u001b[1m3121/3121\u001b[0m \u001b[32m━━━━━━━━━━━━━━━━━━━━\u001b[0m\u001b[37m\u001b[0m \u001b[1m12s\u001b[0m 4ms/step - accuracy: 0.8473 - loss: 0.3599 - val_accuracy: 0.8642 - val_loss: 0.3531\n",
            "Epoch 17/20\n",
            "\u001b[1m3121/3121\u001b[0m \u001b[32m━━━━━━━━━━━━━━━━━━━━\u001b[0m\u001b[37m\u001b[0m \u001b[1m12s\u001b[0m 4ms/step - accuracy: 0.8451 - loss: 0.3627 - val_accuracy: 0.8655 - val_loss: 0.3513\n",
            "Epoch 18/20\n",
            "\u001b[1m3121/3121\u001b[0m \u001b[32m━━━━━━━━━━━━━━━━━━━━\u001b[0m\u001b[37m\u001b[0m \u001b[1m18s\u001b[0m 3ms/step - accuracy: 0.8474 - loss: 0.3571 - val_accuracy: 0.8621 - val_loss: 0.3589\n",
            "Epoch 19/20\n",
            "\u001b[1m3121/3121\u001b[0m \u001b[32m━━━━━━━━━━━━━━━━━━━━\u001b[0m\u001b[37m\u001b[0m \u001b[1m11s\u001b[0m 3ms/step - accuracy: 0.8477 - loss: 0.3572 - val_accuracy: 0.8644 - val_loss: 0.3542\n",
            "Epoch 20/20\n",
            "\u001b[1m3121/3121\u001b[0m \u001b[32m━━━━━━━━━━━━━━━━━━━━\u001b[0m\u001b[37m\u001b[0m \u001b[1m10s\u001b[0m 3ms/step - accuracy: 0.8479 - loss: 0.3553 - val_accuracy: 0.8654 - val_loss: 0.3523\n"
          ]
        }
      ]
    },
    {
      "cell_type": "code",
      "source": [
        "y_pred_prob = model.predict(X_test_rnn)\n",
        "y_pred = (y_pred_prob > 0.5).astype(int)\n",
        "y_pred = y_pred.flatten()\n",
        "print(classification_report(y_test, y_pred))"
      ],
      "metadata": {
        "colab": {
          "base_uri": "https://localhost:8080/"
        },
        "id": "L2HHaB3q67cx",
        "outputId": "fdc4ceb2-6ea8-4a23-cc83-afe47f799ab2"
      },
      "execution_count": 91,
      "outputs": [
        {
          "output_type": "stream",
          "name": "stdout",
          "text": [
            "\u001b[1m1708/1708\u001b[0m \u001b[32m━━━━━━━━━━━━━━━━━━━━\u001b[0m\u001b[37m\u001b[0m \u001b[1m2s\u001b[0m 1ms/step\n",
            "              precision    recall  f1-score   support\n",
            "\n",
            "           0       0.88      0.76      0.81     21189\n",
            "           1       0.86      0.93      0.89     33467\n",
            "\n",
            "    accuracy                           0.87     54656\n",
            "   macro avg       0.87      0.85      0.85     54656\n",
            "weighted avg       0.87      0.87      0.86     54656\n",
            "\n"
          ]
        }
      ]
    },
    {
      "cell_type": "code",
      "source": [
        "import matplotlib.pyplot as plt\n",
        "from sklearn.metrics import accuracy_score\n",
        "\n",
        "plt.plot(history.history['loss'])\n",
        "plt.plot(history.history['val_loss'])\n",
        "plt.title('Metrica de erro')\n",
        "plt.ylabel('Erro')\n",
        "plt.xlabel('Epoca')\n",
        "plt.legend(['Treinamento', 'Validacao'])\n",
        "plt.show()\n",
        "\n",
        "pred = np.round(model.predict(X_train_rnn)).flatten() # Flatten the prediction to 1D\n",
        "acc_train = accuracy_score(y_resampled, pred)\n",
        "\n",
        "pred = np.round(model.predict(X_test_rnn)).flatten() # Flatten the prediction to 1D\n",
        "acc_val = accuracy_score(y_test, pred)\n",
        "\n",
        "print(f'\\n--> Acuracia (treino): {acc_train:.4f}')\n",
        "print(f'--> Acuracia (validacao): {acc_val:.4f}')\n",
        "print(f\"--> acc_train - acc_val = {acc_train - acc_val:.4f}\")\n",
        "print(f\"--> E_val - E_in = {(history.history['val_loss'][-1] - history.history['loss'][-1]):.4f}\")"
      ],
      "metadata": {
        "colab": {
          "base_uri": "https://localhost:8080/",
          "height": 597
        },
        "id": "fCymG1u168Uh",
        "outputId": "5a198cf0-38c4-46c7-92e9-ba86aecc070a"
      },
      "execution_count": 92,
      "outputs": [
        {
          "output_type": "display_data",
          "data": {
            "text/plain": [
              "<Figure size 640x480 with 1 Axes>"
            ],
            "image/png": "[encoded data removed]"
          },
          "metadata": {}
        },
        {
          "output_type": "stream",
          "name": "stdout",
          "text": [
            "\u001b[1m3121/3121\u001b[0m \u001b[32m━━━━━━━━━━━━━━━━━━━━\u001b[0m\u001b[37m\u001b[0m \u001b[1m4s\u001b[0m 1ms/step\n",
            "\u001b[1m1708/1708\u001b[0m \u001b[32m━━━━━━━━━━━━━━━━━━━━\u001b[0m\u001b[37m\u001b[0m \u001b[1m2s\u001b[0m 1ms/step\n",
            "\n",
            "--> Acuracia (treino): 0.8478\n",
            "--> Acuracia (validacao): 0.8654\n",
            "--> acc_train - acc_val = -0.0176\n",
            "--> E_val - E_in = -0.0059\n"
          ]
        }
      ]
    },
    {
      "cell_type": "markdown",
      "metadata": {
        "id": "KwclhD17FGMA"
      },
      "source": [
        "### Selecionando features com SelectKBests"
      ]
    },
    {
      "cell_type": "code",
      "execution_count": 93,
      "metadata": {
        "colab": {
          "base_uri": "https://localhost:8080/"
        },
        "id": "u2HCzx9RoOtu",
        "outputId": "ff25213f-48f9-49bb-e8e8-4378aa9dadc2"
      },
      "outputs": [
        {
          "output_type": "stream",
          "name": "stdout",
          "text": [
            "Características selecionadas: Index(['vlr_renda_media_fam', 'qtd_comodos_domic_fam',\n",
            "       'cod_agua_canalizada_fam', 'cod_abaste_agua_domic_fam', 'qtde_pessoas'],\n",
            "      dtype='object')\n"
          ]
        },
        {
          "output_type": "stream",
          "name": "stderr",
          "text": [
            "/usr/local/lib/python3.11/dist-packages/sklearn/feature_selection/_univariate_selection.py:111: UserWarning: Features [ 3 14] are constant.\n",
            "  warnings.warn(\"Features %s are constant.\" % constant_features_idx, UserWarning)\n",
            "/usr/local/lib/python3.11/dist-packages/sklearn/feature_selection/_univariate_selection.py:112: RuntimeWarning: invalid value encountered in divide\n",
            "  f = msb / msw\n"
          ]
        }
      ],
      "source": [
        "selector = SelectKBest(score_func=f_classif, k=5)\n",
        "X_train_selected = selector.fit_transform(X_resampled, y_resampled)\n",
        "X_test_selected = selector.transform(X_test)\n",
        "\n",
        "selected_columns = X_train.columns[selector.get_support()]\n",
        "print(\"Características selecionadas:\", selected_columns)"
      ]
    },
    {
      "cell_type": "code",
      "execution_count": 94,
      "metadata": {
        "id": "GV2gsVxYxQhH"
      },
      "outputs": [],
      "source": [
        "scaler = StandardScaler()\n",
        "X_train_scaled = scaler.fit_transform(X_train_selected)\n",
        "X_test_scaled = scaler.transform(X_test_selected)"
      ]
    },
    {
      "cell_type": "code",
      "execution_count": 95,
      "metadata": {
        "id": "XP5JdeSEwY-C"
      },
      "outputs": [],
      "source": [
        "X_train_rnn = np.expand_dims(X_train_scaled, axis=1)\n",
        "X_test_rnn = np.expand_dims(X_test_scaled, axis=1)"
      ]
    },
    {
      "cell_type": "code",
      "source": [
        "model = Sequential()\n",
        "model.add(Dense(32, input_shape=(1, X_train_scaled.shape[1]), activation='relu'))\n",
        "model.add(Dense(16, activation='relu'))\n",
        "model.add(Dense(16, activation='relu'))\n",
        "model.add(Dense(1, activation='sigmoid'))\n",
        "\n",
        "model.compile(optimizer='adam', loss='binary_crossentropy', metrics=['accuracy'])\n",
        "\n",
        "early_stopping = EarlyStopping(monitor='val_loss', patience=10)\n",
        "\n",
        "model.summary()"
      ],
      "metadata": {
        "colab": {
          "base_uri": "https://localhost:8080/",
          "height": 328
        },
        "id": "0T4ROAdKtqeg",
        "outputId": "7ebe2c17-be87-40db-b0d0-ab01424e5195"
      },
      "execution_count": 96,
      "outputs": [
        {
          "output_type": "stream",
          "name": "stderr",
          "text": [
            "/usr/local/lib/python3.11/dist-packages/keras/src/layers/core/dense.py:87: UserWarning: Do not pass an `input_shape`/`input_dim` argument to a layer. When using Sequential models, prefer using an `Input(shape)` object as the first layer in the model instead.\n",
            "  super().__init__(activity_regularizer=activity_regularizer, **kwargs)\n"
          ]
        },
        {
          "output_type": "display_data",
          "data": {
            "text/plain": [
              "\u001b[1mModel: \"sequential_15\"\u001b[0m\n"
            ],
            "text/html": [
              "<pre style=\"white-space:pre;overflow-x:auto;line-height:normal;font-family:Menlo,'DejaVu Sans Mono',consolas,'Courier New',monospace\"><span style=\"font-weight: bold\">Model: \"sequential_15\"</span>\n",
              "</pre>\n"
            ]
          },
          "metadata": {}
        },
        {
          "output_type": "display_data",
          "data": {
            "text/plain": [
              "┏━━━━━━━━━━━━━━━━━━━━━━━━━━━━━━━━━┳━━━━━━━━━━━━━━━━━━━━━━━━┳━━━━━━━━━━━━━━━┓\n",
              "┃\u001b[1m \u001b[0m\u001b[1mLayer (type)                   \u001b[0m\u001b[1m \u001b[0m┃\u001b[1m \u001b[0m\u001b[1mOutput Shape          \u001b[0m\u001b[1m \u001b[0m┃\u001b[1m \u001b[0m\u001b[1m      Param #\u001b[0m\u001b[1m \u001b[0m┃\n",
              "┡━━━━━━━━━━━━━━━━━━━━━━━━━━━━━━━━━╇━━━━━━━━━━━━━━━━━━━━━━━━╇━━━━━━━━━━━━━━━┩\n",
              "│ dense_43 (\u001b[38;5;33mDense\u001b[0m)                │ (\u001b[38;5;45mNone\u001b[0m, \u001b[38;5;34m1\u001b[0m, \u001b[38;5;34m32\u001b[0m)          │           \u001b[38;5;34m192\u001b[0m │\n",
              "├─────────────────────────────────┼────────────────────────┼───────────────┤\n",
              "│ dense_44 (\u001b[38;5;33mDense\u001b[0m)                │ (\u001b[38;5;45mNone\u001b[0m, \u001b[38;5;34m1\u001b[0m, \u001b[38;5;34m16\u001b[0m)          │           \u001b[38;5;34m528\u001b[0m │\n",
              "├─────────────────────────────────┼────────────────────────┼───────────────┤\n",
              "│ dense_45 (\u001b[38;5;33mDense\u001b[0m)                │ (\u001b[38;5;45mNone\u001b[0m, \u001b[38;5;34m1\u001b[0m, \u001b[38;5;34m16\u001b[0m)          │           \u001b[38;5;34m272\u001b[0m │\n",
              "├─────────────────────────────────┼────────────────────────┼───────────────┤\n",
              "│ dense_46 (\u001b[38;5;33mDense\u001b[0m)                │ (\u001b[38;5;45mNone\u001b[0m, \u001b[38;5;34m1\u001b[0m, \u001b[38;5;34m1\u001b[0m)           │            \u001b[38;5;34m17\u001b[0m │\n",
              "└─────────────────────────────────┴────────────────────────┴───────────────┘\n"
            ],
            "text/html": [
              "<pre style=\"white-space:pre;overflow-x:auto;line-height:normal;font-family:Menlo,'DejaVu Sans Mono',consolas,'Courier New',monospace\">┏━━━━━━━━━━━━━━━━━━━━━━━━━━━━━━━━━┳━━━━━━━━━━━━━━━━━━━━━━━━┳━━━━━━━━━━━━━━━┓\n",
              "┃<span style=\"font-weight: bold\"> Layer (type)                    </span>┃<span style=\"font-weight: bold\"> Output Shape           </span>┃<span style=\"font-weight: bold\">       Param # </span>┃\n",
              "┡━━━━━━━━━━━━━━━━━━━━━━━━━━━━━━━━━╇━━━━━━━━━━━━━━━━━━━━━━━━╇━━━━━━━━━━━━━━━┩\n",
              "│ dense_43 (<span style=\"color: #0087ff; text-decoration-color: #0087ff\">Dense</span>)                │ (<span style=\"color: #00d7ff; text-decoration-color: #00d7ff\">None</span>, <span style=\"color: #00af00; text-decoration-color: #00af00\">1</span>, <span style=\"color: #00af00; text-decoration-color: #00af00\">32</span>)          │           <span style=\"color: #00af00; text-decoration-color: #00af00\">192</span> │\n",
              "├─────────────────────────────────┼────────────────────────┼───────────────┤\n",
              "│ dense_44 (<span style=\"color: #0087ff; text-decoration-color: #0087ff\">Dense</span>)                │ (<span style=\"color: #00d7ff; text-decoration-color: #00d7ff\">None</span>, <span style=\"color: #00af00; text-decoration-color: #00af00\">1</span>, <span style=\"color: #00af00; text-decoration-color: #00af00\">16</span>)          │           <span style=\"color: #00af00; text-decoration-color: #00af00\">528</span> │\n",
              "├─────────────────────────────────┼────────────────────────┼───────────────┤\n",
              "│ dense_45 (<span style=\"color: #0087ff; text-decoration-color: #0087ff\">Dense</span>)                │ (<span style=\"color: #00d7ff; text-decoration-color: #00d7ff\">None</span>, <span style=\"color: #00af00; text-decoration-color: #00af00\">1</span>, <span style=\"color: #00af00; text-decoration-color: #00af00\">16</span>)          │           <span style=\"color: #00af00; text-decoration-color: #00af00\">272</span> │\n",
              "├─────────────────────────────────┼────────────────────────┼───────────────┤\n",
              "│ dense_46 (<span style=\"color: #0087ff; text-decoration-color: #0087ff\">Dense</span>)                │ (<span style=\"color: #00d7ff; text-decoration-color: #00d7ff\">None</span>, <span style=\"color: #00af00; text-decoration-color: #00af00\">1</span>, <span style=\"color: #00af00; text-decoration-color: #00af00\">1</span>)           │            <span style=\"color: #00af00; text-decoration-color: #00af00\">17</span> │\n",
              "└─────────────────────────────────┴────────────────────────┴───────────────┘\n",
              "</pre>\n"
            ]
          },
          "metadata": {}
        },
        {
          "output_type": "display_data",
          "data": {
            "text/plain": [
              "\u001b[1m Total params: \u001b[0m\u001b[38;5;34m1,009\u001b[0m (3.94 KB)\n"
            ],
            "text/html": [
              "<pre style=\"white-space:pre;overflow-x:auto;line-height:normal;font-family:Menlo,'DejaVu Sans Mono',consolas,'Courier New',monospace\"><span style=\"font-weight: bold\"> Total params: </span><span style=\"color: #00af00; text-decoration-color: #00af00\">1,009</span> (3.94 KB)\n",
              "</pre>\n"
            ]
          },
          "metadata": {}
        },
        {
          "output_type": "display_data",
          "data": {
            "text/plain": [
              "\u001b[1m Trainable params: \u001b[0m\u001b[38;5;34m1,009\u001b[0m (3.94 KB)\n"
            ],
            "text/html": [
              "<pre style=\"white-space:pre;overflow-x:auto;line-height:normal;font-family:Menlo,'DejaVu Sans Mono',consolas,'Courier New',monospace\"><span style=\"font-weight: bold\"> Trainable params: </span><span style=\"color: #00af00; text-decoration-color: #00af00\">1,009</span> (3.94 KB)\n",
              "</pre>\n"
            ]
          },
          "metadata": {}
        },
        {
          "output_type": "display_data",
          "data": {
            "text/plain": [
              "\u001b[1m Non-trainable params: \u001b[0m\u001b[38;5;34m0\u001b[0m (0.00 B)\n"
            ],
            "text/html": [
              "<pre style=\"white-space:pre;overflow-x:auto;line-height:normal;font-family:Menlo,'DejaVu Sans Mono',consolas,'Courier New',monospace\"><span style=\"font-weight: bold\"> Non-trainable params: </span><span style=\"color: #00af00; text-decoration-color: #00af00\">0</span> (0.00 B)\n",
              "</pre>\n"
            ]
          },
          "metadata": {}
        }
      ]
    },
    {
      "cell_type": "code",
      "source": [
        "history = model.fit(X_train_rnn, y_resampled, epochs=20, batch_size=32, validation_data=(X_test_rnn, y_test), callbacks=[early_stopping])"
      ],
      "metadata": {
        "colab": {
          "base_uri": "https://localhost:8080/"
        },
        "id": "Yw1-Qssn0fFb",
        "outputId": "c468fe1d-6fe0-4010-aec2-aa10e329e381"
      },
      "execution_count": 97,
      "outputs": [
        {
          "output_type": "stream",
          "name": "stdout",
          "text": [
            "Epoch 1/20\n",
            "\u001b[1m3121/3121\u001b[0m \u001b[32m━━━━━━━━━━━━━━━━━━━━\u001b[0m\u001b[37m\u001b[0m \u001b[1m14s\u001b[0m 4ms/step - accuracy: 0.8103 - loss: 0.4208 - val_accuracy: 0.8582 - val_loss: 0.3689\n",
            "Epoch 2/20\n",
            "\u001b[1m3121/3121\u001b[0m \u001b[32m━━━━━━━━━━━━━━━━━━━━\u001b[0m\u001b[37m\u001b[0m \u001b[1m12s\u001b[0m 4ms/step - accuracy: 0.8481 - loss: 0.3650 - val_accuracy: 0.8635 - val_loss: 0.3601\n",
            "Epoch 3/20\n",
            "\u001b[1m3121/3121\u001b[0m \u001b[32m━━━━━━━━━━━━━━━━━━━━\u001b[0m\u001b[37m\u001b[0m \u001b[1m12s\u001b[0m 4ms/step - accuracy: 0.8436 - loss: 0.3684 - val_accuracy: 0.8657 - val_loss: 0.3612\n",
            "Epoch 4/20\n",
            "\u001b[1m3121/3121\u001b[0m \u001b[32m━━━━━━━━━━━━━━━━━━━━\u001b[0m\u001b[37m\u001b[0m \u001b[1m9s\u001b[0m 3ms/step - accuracy: 0.8453 - loss: 0.3673 - val_accuracy: 0.8633 - val_loss: 0.3591\n",
            "Epoch 5/20\n",
            "\u001b[1m3121/3121\u001b[0m \u001b[32m━━━━━━━━━━━━━━━━━━━━\u001b[0m\u001b[37m\u001b[0m \u001b[1m10s\u001b[0m 3ms/step - accuracy: 0.8437 - loss: 0.3676 - val_accuracy: 0.8628 - val_loss: 0.3630\n",
            "Epoch 6/20\n",
            "\u001b[1m3121/3121\u001b[0m \u001b[32m━━━━━━━━━━━━━━━━━━━━\u001b[0m\u001b[37m\u001b[0m \u001b[1m11s\u001b[0m 3ms/step - accuracy: 0.8447 - loss: 0.3666 - val_accuracy: 0.8652 - val_loss: 0.3566\n",
            "Epoch 7/20\n",
            "\u001b[1m3121/3121\u001b[0m \u001b[32m━━━━━━━━━━━━━━━━━━━━\u001b[0m\u001b[37m\u001b[0m \u001b[1m10s\u001b[0m 3ms/step - accuracy: 0.8431 - loss: 0.3700 - val_accuracy: 0.8666 - val_loss: 0.3611\n",
            "Epoch 8/20\n",
            "\u001b[1m3121/3121\u001b[0m \u001b[32m━━━━━━━━━━━━━━━━━━━━\u001b[0m\u001b[37m\u001b[0m \u001b[1m22s\u001b[0m 4ms/step - accuracy: 0.8437 - loss: 0.3694 - val_accuracy: 0.8667 - val_loss: 0.3574\n",
            "Epoch 9/20\n",
            "\u001b[1m3121/3121\u001b[0m \u001b[32m━━━━━━━━━━━━━━━━━━━━\u001b[0m\u001b[37m\u001b[0m \u001b[1m12s\u001b[0m 4ms/step - accuracy: 0.8456 - loss: 0.3664 - val_accuracy: 0.8640 - val_loss: 0.3624\n",
            "Epoch 10/20\n",
            "\u001b[1m3121/3121\u001b[0m \u001b[32m━━━━━━━━━━━━━━━━━━━━\u001b[0m\u001b[37m\u001b[0m \u001b[1m9s\u001b[0m 3ms/step - accuracy: 0.8477 - loss: 0.3645 - val_accuracy: 0.8631 - val_loss: 0.3656\n",
            "Epoch 11/20\n",
            "\u001b[1m3121/3121\u001b[0m \u001b[32m━━━━━━━━━━━━━━━━━━━━\u001b[0m\u001b[37m\u001b[0m \u001b[1m10s\u001b[0m 3ms/step - accuracy: 0.8484 - loss: 0.3603 - val_accuracy: 0.8626 - val_loss: 0.3700\n",
            "Epoch 12/20\n",
            "\u001b[1m3121/3121\u001b[0m \u001b[32m━━━━━━━━━━━━━━━━━━━━\u001b[0m\u001b[37m\u001b[0m \u001b[1m11s\u001b[0m 3ms/step - accuracy: 0.8424 - loss: 0.3711 - val_accuracy: 0.8665 - val_loss: 0.3580\n",
            "Epoch 13/20\n",
            "\u001b[1m3121/3121\u001b[0m \u001b[32m━━━━━━━━━━━━━━━━━━━━\u001b[0m\u001b[37m\u001b[0m \u001b[1m10s\u001b[0m 3ms/step - accuracy: 0.8461 - loss: 0.3633 - val_accuracy: 0.8671 - val_loss: 0.3564\n",
            "Epoch 14/20\n",
            "\u001b[1m3121/3121\u001b[0m \u001b[32m━━━━━━━━━━━━━━━━━━━━\u001b[0m\u001b[37m\u001b[0m \u001b[1m10s\u001b[0m 3ms/step - accuracy: 0.8481 - loss: 0.3613 - val_accuracy: 0.8657 - val_loss: 0.3540\n",
            "Epoch 15/20\n",
            "\u001b[1m3121/3121\u001b[0m \u001b[32m━━━━━━━━━━━━━━━━━━━━\u001b[0m\u001b[37m\u001b[0m \u001b[1m12s\u001b[0m 4ms/step - accuracy: 0.8449 - loss: 0.3684 - val_accuracy: 0.8665 - val_loss: 0.3554\n",
            "Epoch 16/20\n",
            "\u001b[1m3121/3121\u001b[0m \u001b[32m━━━━━━━━━━━━━━━━━━━━\u001b[0m\u001b[37m\u001b[0m \u001b[1m19s\u001b[0m 3ms/step - accuracy: 0.8458 - loss: 0.3650 - val_accuracy: 0.8611 - val_loss: 0.3673\n",
            "Epoch 17/20\n",
            "\u001b[1m3121/3121\u001b[0m \u001b[32m━━━━━━━━━━━━━━━━━━━━\u001b[0m\u001b[37m\u001b[0m \u001b[1m11s\u001b[0m 3ms/step - accuracy: 0.8458 - loss: 0.3661 - val_accuracy: 0.8643 - val_loss: 0.3605\n",
            "Epoch 18/20\n",
            "\u001b[1m3121/3121\u001b[0m \u001b[32m━━━━━━━━━━━━━━━━━━━━\u001b[0m\u001b[37m\u001b[0m \u001b[1m10s\u001b[0m 3ms/step - accuracy: 0.8474 - loss: 0.3621 - val_accuracy: 0.8690 - val_loss: 0.3498\n",
            "Epoch 19/20\n",
            "\u001b[1m3121/3121\u001b[0m \u001b[32m━━━━━━━━━━━━━━━━━━━━\u001b[0m\u001b[37m\u001b[0m \u001b[1m10s\u001b[0m 3ms/step - accuracy: 0.8474 - loss: 0.3629 - val_accuracy: 0.8657 - val_loss: 0.3622\n",
            "Epoch 20/20\n",
            "\u001b[1m3121/3121\u001b[0m \u001b[32m━━━━━━━━━━━━━━━━━━━━\u001b[0m\u001b[37m\u001b[0m \u001b[1m9s\u001b[0m 3ms/step - accuracy: 0.8475 - loss: 0.3619 - val_accuracy: 0.8665 - val_loss: 0.3599\n"
          ]
        }
      ]
    },
    {
      "cell_type": "code",
      "source": [
        "y_pred_prob = model.predict(X_test_rnn)\n",
        "y_pred = (y_pred_prob > 0.5).astype(int)\n",
        "y_pred = y_pred.flatten()\n",
        "print(classification_report(y_test, y_pred))"
      ],
      "metadata": {
        "colab": {
          "base_uri": "https://localhost:8080/"
        },
        "id": "m5-24yD90kYq",
        "outputId": "2cf88561-6fab-449e-c495-418920e990f1"
      },
      "execution_count": 98,
      "outputs": [
        {
          "output_type": "stream",
          "name": "stdout",
          "text": [
            "\u001b[1m1708/1708\u001b[0m \u001b[32m━━━━━━━━━━━━━━━━━━━━\u001b[0m\u001b[37m\u001b[0m \u001b[1m3s\u001b[0m 1ms/step\n",
            "              precision    recall  f1-score   support\n",
            "\n",
            "           0       0.89      0.75      0.81     21189\n",
            "           1       0.86      0.94      0.90     33467\n",
            "\n",
            "    accuracy                           0.87     54656\n",
            "   macro avg       0.87      0.85      0.85     54656\n",
            "weighted avg       0.87      0.87      0.86     54656\n",
            "\n"
          ]
        }
      ]
    },
    {
      "cell_type": "code",
      "source": [
        "plt.plot(history.history['loss'])\n",
        "plt.plot(history.history['val_loss'])\n",
        "plt.title('Metrica de erro')\n",
        "plt.ylabel('Erro')\n",
        "plt.xlabel('Epoca')\n",
        "plt.legend(['Treinamento', 'Validacao'])\n",
        "plt.show()\n",
        "\n",
        "pred = np.round(model.predict(X_train_rnn)).flatten()\n",
        "acc_train = accuracy_score(y_resampled, pred)\n",
        "\n",
        "pred = np.round(model.predict(X_test_rnn)).flatten()\n",
        "acc_val = accuracy_score(y_test, pred)\n",
        "\n",
        "print(f'\\n--> Acuracia (treino): {acc_train:.4f}')\n",
        "print(f'--> Acuracia (validacao): {acc_val:.4f}')\n",
        "print(f\"--> acc_train - acc_val = {acc_train - acc_val:.4f}\")\n",
        "print(f\"--> E_val - E_in = {(history.history['val_loss'][-1] - history.history['loss'][-1]):.4f}\")\n",
        "\n",
        "# BOCA DO JACARÉ: Overfitting"
      ],
      "metadata": {
        "colab": {
          "base_uri": "https://localhost:8080/",
          "height": 597
        },
        "id": "vBbATkZF0oAC",
        "outputId": "501b22af-2538-432c-b79d-b580eb74e133"
      },
      "execution_count": 99,
      "outputs": [
        {
          "output_type": "display_data",
          "data": {
            "text/plain": [
              "<Figure size 640x480 with 1 Axes>"
            ],
            "image/png": "[encoded data removed]"
          },
          "metadata": {}
        },
        {
          "output_type": "stream",
          "name": "stdout",
          "text": [
            "\u001b[1m3121/3121\u001b[0m \u001b[32m━━━━━━━━━━━━━━━━━━━━\u001b[0m\u001b[37m\u001b[0m \u001b[1m3s\u001b[0m 1ms/step\n",
            "\u001b[1m1708/1708\u001b[0m \u001b[32m━━━━━━━━━━━━━━━━━━━━\u001b[0m\u001b[37m\u001b[0m \u001b[1m2s\u001b[0m 1ms/step\n",
            "\n",
            "--> Acuracia (treino): 0.8470\n",
            "--> Acuracia (validacao): 0.8665\n",
            "--> acc_train - acc_val = -0.0195\n",
            "--> E_val - E_in = -0.0040\n"
          ]
        }
      ]
    }
  ],
  "metadata": {
    "colab": {
      "provenance": [],
      "include_colab_link": true
    },
    "kernelspec": {
      "display_name": "Python 3",
      "language": "python",
      "name": "python3"
    },
    "language_info": {
      "codemirror_mode": {
        "name": "ipython",
        "version": 3
      },
      "file_extension": ".py",
      "mimetype": "text/x-python",
      "name": "python",
      "nbconvert_exporter": "python",
      "pygments_lexer": "ipython3",
      "version": "3.10.7"
    }
  },
  "nbformat": 4,
  "nbformat_minor": 0
}