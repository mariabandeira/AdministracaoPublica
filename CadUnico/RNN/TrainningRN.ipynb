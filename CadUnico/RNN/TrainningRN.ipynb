{
  "cells": [
    {
      "cell_type": "markdown",
      "metadata": {
        "id": "view-in-github"
      },
      "source": [
        "<a href=\"https://colab.research.google.com/github/mariabandeira/AdministracaoPublica/blob/main/CadUnico/KNN/TrainningPB.ipynb\" target=\"_parent\"><img src=\"https://colab.research.google.com/assets/colab-badge.svg\" alt=\"Open In Colab\"/></a>"
      ]
    },
    {
      "cell_type": "code",
      "execution_count": null,
      "metadata": {
        "id": "r1st9bEiFGLr"
      },
      "outputs": [],
      "source": [
        "import pandas as pd\n",
        "import matplotlib.pyplot as plt\n",
        "import seaborn as sns\n",
        "from sklearn.preprocessing import StandardScaler\n",
        "from imblearn.over_sampling import SMOTE\n",
        "from sklearn.model_selection import train_test_split\n",
        "import xgboost as xgb\n",
        "from sklearn.model_selection import train_test_split\n",
        "from sklearn.metrics import classification_report, roc_auc_score, confusion_matrix\n",
        "from sklearn.feature_selection import SelectKBest, f_classif\n",
        "from sklearn.model_selection import GridSearchCV\n",
        "from sklearn.pipeline import Pipeline\n",
        "from sklearn.metrics import make_scorer, accuracy_score\n",
        "from imblearn.under_sampling import RandomUnderSampler\n",
        "from sklearn.ensemble import RandomForestClassifier\n",
        "import numpy as np"
      ]
    },
    {
      "cell_type": "code",
      "execution_count": 6,
      "metadata": {
        "id": "Bnx9llaFbFBj"
      },
      "outputs": [],
      "source": [
        "treated_data_RN = pd.read_csv('./BasesRN/cadunico_rn_cleaned.csv', sep=';', encoding='utf-8')"
      ]
    },
    {
      "cell_type": "code",
      "source": [
        "treated_data_RN.dropna(inplace=True)\n",
        "treated_data_RN.drop_duplicates(inplace=True)"
      ],
      "metadata": {
        "id": "DvhZZ1gIkBKv"
      },
      "execution_count": 7,
      "outputs": []
    },
    {
      "cell_type": "markdown",
      "metadata": {
        "id": "MGNcxaEWFGL-"
      },
      "source": [
        "### Treinando o modelo RNN"
      ]
    },
    {
      "cell_type": "code",
      "execution_count": 8,
      "metadata": {
        "colab": {
          "base_uri": "https://localhost:8080/"
        },
        "id": "vmb92FcSFGL9",
        "outputId": "b49d183e-1f6e-4634-f46c-f80582117c7c"
      },
      "outputs": [
        {
          "output_type": "stream",
          "name": "stdout",
          "text": [
            "marc_pbf\n",
            "1    56.74\n",
            "0    43.26\n",
            "Name: proportion, dtype: float64\n"
          ]
        }
      ],
      "source": [
        "# analisando a distribuição da variável alvo (marc_pbf)\n",
        "target_distribution = treated_data_RN['marc_pbf'].value_counts(normalize=True) * 100\n",
        "\n",
        "print(round(target_distribution, 2))"
      ]
    },
    {
      "cell_type": "code",
      "execution_count": 9,
      "metadata": {
        "colab": {
          "base_uri": "https://localhost:8080/"
        },
        "id": "LuxXSuBdFGL-",
        "outputId": "df3ce477-32f0-4e96-b9b1-7a137ef598f6"
      },
      "outputs": [
        {
          "output_type": "stream",
          "name": "stdout",
          "text": [
            "marc_pbf\n",
            "0    89679\n",
            "1    89679\n",
            "Name: count, dtype: int64\n"
          ]
        }
      ],
      "source": [
        "# separar X (features) e y (target)\n",
        "X = treated_data_RN.drop('marc_pbf', axis=1)\n",
        "y = treated_data_RN['marc_pbf']\n",
        "\n",
        "# treino e teste\n",
        "X_train, X_test, y_train, y_test = train_test_split(X, y, test_size=0.3, random_state=42)\n",
        "\n",
        "# criando uma instância do RandomUnderSampling\n",
        "rus = RandomUnderSampler(random_state=42, sampling_strategy = 'majority')\n",
        "\n",
        "# balanceando os dados\n",
        "X_resampled, y_resampled = rus.fit_resample(X_train, y_train)\n",
        "\n",
        "print(y_resampled.value_counts())"
      ]
    },
    {
      "cell_type": "code",
      "execution_count": 10,
      "metadata": {
        "colab": {
          "base_uri": "https://localhost:8080/"
        },
        "id": "zRg3jc7ccAYN",
        "outputId": "5182b301-5214-4a81-8066-5c34c066659a"
      },
      "outputs": [
        {
          "output_type": "stream",
          "name": "stdout",
          "text": [
            "Primeiros dados escalados (padronizados):\n",
            "[[-0.84487543 -1.96467582 -0.12485031 -0.57790393 -0.602914   -1.16411791\n",
            "  -0.72537277 -0.28287978 -0.39178363 -0.45627415 -0.16908028 -0.46355174\n",
            "  -0.23932997 -0.85437521  0.05656285 -1.37479098]\n",
            " [-0.55264356  0.71176597  0.13504909 -0.57790393 -0.602914    0.30866763\n",
            "  -0.72537277 -0.28287978 -0.39178363 -0.45627415 -0.16908028 -0.46355174\n",
            "  -0.23932997  1.22999908  0.05656285  0.90668609]\n",
            " [-0.75095372 -0.62645493  4.64343735  1.7303914   0.1538476  -1.16411791\n",
            "   1.28227208 -0.28287978 -0.39178363  1.7490837  -0.16908028  2.00891719\n",
            "  -0.23932997  1.22999908  0.05656285 -1.37479098]\n",
            " [ 0.81400362  0.71176597  1.40335816  1.7303914   3.93765562  1.78145316\n",
            "   1.28227208 -0.28287978 -0.39178363 -0.45627415 -0.16908028 -0.46355174\n",
            "  -0.23932997  0.18781194  0.05656285  0.14619374]\n",
            " [ 1.32648826 -0.62645493 -0.81791538 -0.57790393  0.91060921  0.30866763\n",
            "   1.28227208 -0.28287978 -0.39178363 -0.45627415 -0.16908028 -0.46355174\n",
            "  -0.23932997 -0.85437521  0.05656285  0.14619374]]\n"
          ]
        }
      ],
      "source": [
        "# aplicar padronização nas features\n",
        "scaler = StandardScaler()\n",
        "X_train_scaled = scaler.fit_transform(X_resampled)\n",
        "X_test_scaled = scaler.transform(X_test)\n",
        "\n",
        "print(\"Primeiros dados escalados (padronizados):\")\n",
        "print(X_train_scaled[:5])"
      ]
    },
    {
      "cell_type": "code",
      "execution_count": 11,
      "metadata": {
        "id": "zmILgmbigedB"
      },
      "outputs": [],
      "source": [
        "# Ajustar formato para a RNN (samples, time steps, features)\n",
        "X_train_rnn = np.expand_dims(X_train_scaled, axis=1)\n",
        "X_test_rnn = np.expand_dims(X_test_scaled, axis=1)"
      ]
    },
    {
      "cell_type": "code",
      "source": [
        "import tensorflow as tf\n",
        "from tensorflow.keras.models import Sequential\n",
        "from tensorflow.keras.layers import Dense, SimpleRNN\n",
        "from tensorflow.keras.callbacks import EarlyStopping"
      ],
      "metadata": {
        "id": "MCWikKHstX5b"
      },
      "execution_count": 15,
      "outputs": []
    },
    {
      "cell_type": "code",
      "execution_count": 13,
      "metadata": {
        "id": "Z4ACptCogf_F",
        "colab": {
          "base_uri": "https://localhost:8080/"
        },
        "outputId": "d68dfb6a-c89a-4549-a308-69c7c2514041"
      },
      "outputs": [
        {
          "output_type": "stream",
          "name": "stderr",
          "text": [
            "/usr/local/lib/python3.11/dist-packages/keras/src/layers/rnn/rnn.py:200: UserWarning: Do not pass an `input_shape`/`input_dim` argument to a layer. When using Sequential models, prefer using an `Input(shape)` object as the first layer in the model instead.\n",
            "  super().__init__(**kwargs)\n"
          ]
        }
      ],
      "source": [
        "# Construir a RNN\n",
        "model = Sequential([\n",
        "    SimpleRNN(32, activation='relu', input_shape=(1, X_train.shape[1])),\n",
        "    Dense(16, activation='relu'),\n",
        "    Dense(1, activation='sigmoid')\n",
        "])\n"
      ]
    },
    {
      "cell_type": "code",
      "source": [
        "model.compile(optimizer='adam', loss='binary_crossentropy', metrics=['accuracy'])"
      ],
      "metadata": {
        "id": "E7S5KRBMtdCS"
      },
      "execution_count": 14,
      "outputs": []
    },
    {
      "cell_type": "code",
      "source": [
        "early_stop = EarlyStopping(monitor='val_loss', patience=5, restore_best_weights=True)"
      ],
      "metadata": {
        "id": "6p9vzedpCKaS"
      },
      "execution_count": 16,
      "outputs": []
    },
    {
      "cell_type": "code",
      "source": [
        "model.fit(X_train_rnn, y_resampled, epochs=20, batch_size=32, validation_data=(X_test_rnn, y_test), callbacks=[early_stop])"
      ],
      "metadata": {
        "colab": {
          "base_uri": "https://localhost:8080/"
        },
        "id": "m-1hja2gtgXj",
        "outputId": "4fbdf2dd-1ae3-46a7-9c25-6d3499ad29c1"
      },
      "execution_count": 17,
      "outputs": [
        {
          "output_type": "stream",
          "name": "stdout",
          "text": [
            "Epoch 1/20\n",
            "\u001b[1m5605/5605\u001b[0m \u001b[32m━━━━━━━━━━━━━━━━━━━━\u001b[0m\u001b[37m\u001b[0m \u001b[1m21s\u001b[0m 3ms/step - accuracy: 0.8520 - loss: 0.3598 - val_accuracy: 0.8889 - val_loss: 0.2996\n",
            "Epoch 2/20\n",
            "\u001b[1m5605/5605\u001b[0m \u001b[32m━━━━━━━━━━━━━━━━━━━━\u001b[0m\u001b[37m\u001b[0m \u001b[1m18s\u001b[0m 3ms/step - accuracy: 0.8831 - loss: 0.3064 - val_accuracy: 0.8892 - val_loss: 0.2992\n",
            "Epoch 3/20\n",
            "\u001b[1m5605/5605\u001b[0m \u001b[32m━━━━━━━━━━━━━━━━━━━━\u001b[0m\u001b[37m\u001b[0m \u001b[1m19s\u001b[0m 3ms/step - accuracy: 0.8857 - loss: 0.3014 - val_accuracy: 0.8904 - val_loss: 0.2956\n",
            "Epoch 4/20\n",
            "\u001b[1m5605/5605\u001b[0m \u001b[32m━━━━━━━━━━━━━━━━━━━━\u001b[0m\u001b[37m\u001b[0m \u001b[1m18s\u001b[0m 3ms/step - accuracy: 0.8863 - loss: 0.2996 - val_accuracy: 0.8922 - val_loss: 0.2994\n",
            "Epoch 5/20\n",
            "\u001b[1m5605/5605\u001b[0m \u001b[32m━━━━━━━━━━━━━━━━━━━━\u001b[0m\u001b[37m\u001b[0m \u001b[1m20s\u001b[0m 3ms/step - accuracy: 0.8867 - loss: 0.2993 - val_accuracy: 0.8916 - val_loss: 0.2984\n",
            "Epoch 6/20\n",
            "\u001b[1m5605/5605\u001b[0m \u001b[32m━━━━━━━━━━━━━━━━━━━━\u001b[0m\u001b[37m\u001b[0m \u001b[1m20s\u001b[0m 3ms/step - accuracy: 0.8884 - loss: 0.2971 - val_accuracy: 0.8945 - val_loss: 0.2935\n",
            "Epoch 7/20\n",
            "\u001b[1m5605/5605\u001b[0m \u001b[32m━━━━━━━━━━━━━━━━━━━━\u001b[0m\u001b[37m\u001b[0m \u001b[1m19s\u001b[0m 3ms/step - accuracy: 0.8891 - loss: 0.2944 - val_accuracy: 0.8939 - val_loss: 0.2930\n",
            "Epoch 8/20\n",
            "\u001b[1m5605/5605\u001b[0m \u001b[32m━━━━━━━━━━━━━━━━━━━━\u001b[0m\u001b[37m\u001b[0m \u001b[1m18s\u001b[0m 3ms/step - accuracy: 0.8878 - loss: 0.2982 - val_accuracy: 0.8935 - val_loss: 0.2947\n",
            "Epoch 9/20\n",
            "\u001b[1m5605/5605\u001b[0m \u001b[32m━━━━━━━━━━━━━━━━━━━━\u001b[0m\u001b[37m\u001b[0m \u001b[1m19s\u001b[0m 3ms/step - accuracy: 0.8880 - loss: 0.2967 - val_accuracy: 0.8933 - val_loss: 0.2959\n",
            "Epoch 10/20\n",
            "\u001b[1m5605/5605\u001b[0m \u001b[32m━━━━━━━━━━━━━━━━━━━━\u001b[0m\u001b[37m\u001b[0m \u001b[1m22s\u001b[0m 3ms/step - accuracy: 0.8898 - loss: 0.2932 - val_accuracy: 0.8943 - val_loss: 0.2928\n",
            "Epoch 11/20\n",
            "\u001b[1m5605/5605\u001b[0m \u001b[32m━━━━━━━━━━━━━━━━━━━━\u001b[0m\u001b[37m\u001b[0m \u001b[1m20s\u001b[0m 3ms/step - accuracy: 0.8887 - loss: 0.2960 - val_accuracy: 0.8936 - val_loss: 0.2956\n",
            "Epoch 12/20\n",
            "\u001b[1m5605/5605\u001b[0m \u001b[32m━━━━━━━━━━━━━━━━━━━━\u001b[0m\u001b[37m\u001b[0m \u001b[1m18s\u001b[0m 3ms/step - accuracy: 0.8900 - loss: 0.2938 - val_accuracy: 0.8953 - val_loss: 0.2956\n",
            "Epoch 13/20\n",
            "\u001b[1m5605/5605\u001b[0m \u001b[32m━━━━━━━━━━━━━━━━━━━━\u001b[0m\u001b[37m\u001b[0m \u001b[1m21s\u001b[0m 3ms/step - accuracy: 0.8896 - loss: 0.2946 - val_accuracy: 0.8933 - val_loss: 0.2944\n",
            "Epoch 14/20\n",
            "\u001b[1m5605/5605\u001b[0m \u001b[32m━━━━━━━━━━━━━━━━━━━━\u001b[0m\u001b[37m\u001b[0m \u001b[1m20s\u001b[0m 3ms/step - accuracy: 0.8890 - loss: 0.2944 - val_accuracy: 0.8944 - val_loss: 0.2962\n",
            "Epoch 15/20\n",
            "\u001b[1m5605/5605\u001b[0m \u001b[32m━━━━━━━━━━━━━━━━━━━━\u001b[0m\u001b[37m\u001b[0m \u001b[1m18s\u001b[0m 3ms/step - accuracy: 0.8894 - loss: 0.2940 - val_accuracy: 0.8953 - val_loss: 0.2944\n"
          ]
        },
        {
          "output_type": "execute_result",
          "data": {
            "text/plain": [
              "<keras.src.callbacks.history.History at 0x7b0ea863dd50>"
            ]
          },
          "metadata": {},
          "execution_count": 17
        }
      ]
    },
    {
      "cell_type": "code",
      "source": [
        "y_pred_prob = model.predict(X_test_rnn)\n",
        "y_pred = (y_pred_prob > 0.5).astype(int)"
      ],
      "metadata": {
        "colab": {
          "base_uri": "https://localhost:8080/"
        },
        "id": "oI0TRoVGv0dl",
        "outputId": "e9b30714-a458-4265-8e63-cbf40188065a"
      },
      "execution_count": 18,
      "outputs": [
        {
          "output_type": "stream",
          "name": "stdout",
          "text": [
            "\u001b[1m2776/2776\u001b[0m \u001b[32m━━━━━━━━━━━━━━━━━━━━\u001b[0m\u001b[37m\u001b[0m \u001b[1m4s\u001b[0m 1ms/step\n"
          ]
        }
      ]
    },
    {
      "cell_type": "code",
      "source": [
        "print(classification_report(y_test, y_pred))"
      ],
      "metadata": {
        "colab": {
          "base_uri": "https://localhost:8080/"
        },
        "id": "3pBCDfKZv6n1",
        "outputId": "f7683381-c954-4e57-c1f9-892cd4279cdf"
      },
      "execution_count": 19,
      "outputs": [
        {
          "output_type": "stream",
          "name": "stdout",
          "text": [
            "              precision    recall  f1-score   support\n",
            "\n",
            "           0       0.92      0.82      0.87     38411\n",
            "           1       0.88      0.95      0.91     50408\n",
            "\n",
            "    accuracy                           0.89     88819\n",
            "   macro avg       0.90      0.89      0.89     88819\n",
            "weighted avg       0.90      0.89      0.89     88819\n",
            "\n"
          ]
        }
      ]
    },
    {
      "cell_type": "markdown",
      "metadata": {
        "id": "KwclhD17FGMA"
      },
      "source": [
        "### Selecionando features com SelectKBests"
      ]
    },
    {
      "cell_type": "code",
      "source": [
        "selector = SelectKBest(score_func=f_classif, k=5)\n",
        "X_train_selected = selector.fit_transform(X_resampled, y_resampled)\n",
        "X_test_selected = selector.transform(X_test)\n",
        "\n",
        "selected_columns = X_train.columns[selector.get_support()]\n",
        "print(\"Características selecionadas:\", selected_columns)"
      ],
      "metadata": {
        "id": "u2HCzx9RoOtu",
        "colab": {
          "base_uri": "https://localhost:8080/"
        },
        "outputId": "89bd63c2-df95-4122-eeb0-1acf4fd5c183"
      },
      "execution_count": 20,
      "outputs": [
        {
          "output_type": "stream",
          "name": "stdout",
          "text": [
            "Características selecionadas: Index(['vlr_renda_media_fam', 'qtd_comodos_domic_fam', 'cod_material_piso_fam',\n",
            "       'cod_calcamento_domic_fam', 'qtde_pessoas'],\n",
            "      dtype='object')\n"
          ]
        }
      ]
    },
    {
      "cell_type": "code",
      "source": [
        "scaler = StandardScaler()\n",
        "X_train_scaled = scaler.fit_transform(X_train_selected)\n",
        "X_test_scaled = scaler.transform(X_test_selected)"
      ],
      "metadata": {
        "id": "GV2gsVxYxQhH"
      },
      "execution_count": 21,
      "outputs": []
    },
    {
      "cell_type": "code",
      "source": [
        "X_train_rnn = np.expand_dims(X_train_scaled, axis=1)\n",
        "X_test_rnn = np.expand_dims(X_test_scaled, axis=1)"
      ],
      "metadata": {
        "id": "XP5JdeSEwY-C"
      },
      "execution_count": 22,
      "outputs": []
    },
    {
      "cell_type": "code",
      "source": [
        "model = Sequential([\n",
        "    SimpleRNN(32, activation='relu', input_shape=(1, X_train_scaled.shape[1])),\n",
        "    Dense(16, activation='relu'),\n",
        "    Dense(1, activation='sigmoid')\n",
        "])"
      ],
      "metadata": {
        "colab": {
          "base_uri": "https://localhost:8080/"
        },
        "id": "XysFNdmzxWx6",
        "outputId": "1583f3a7-df59-4d2d-8d16-b8db3c931423"
      },
      "execution_count": 23,
      "outputs": [
        {
          "output_type": "stream",
          "name": "stderr",
          "text": [
            "/usr/local/lib/python3.11/dist-packages/keras/src/layers/rnn/rnn.py:200: UserWarning: Do not pass an `input_shape`/`input_dim` argument to a layer. When using Sequential models, prefer using an `Input(shape)` object as the first layer in the model instead.\n",
            "  super().__init__(**kwargs)\n"
          ]
        }
      ]
    },
    {
      "cell_type": "code",
      "source": [
        "model.compile(optimizer='adam', loss='binary_crossentropy', metrics=['accuracy'])"
      ],
      "metadata": {
        "id": "-jYQuSGrwflT"
      },
      "execution_count": 24,
      "outputs": []
    },
    {
      "cell_type": "code",
      "source": [
        "early_stop = EarlyStopping(monitor='val_loss', patience=5, restore_best_weights=True)"
      ],
      "metadata": {
        "id": "EHvTS2eDDm8B"
      },
      "execution_count": 25,
      "outputs": []
    },
    {
      "cell_type": "code",
      "source": [
        "model.fit(X_train_rnn, y_resampled, epochs=20, batch_size=32, validation_data=(X_test_rnn, y_test), callbacks=[early_stop])"
      ],
      "metadata": {
        "colab": {
          "base_uri": "https://localhost:8080/"
        },
        "id": "BUlcpTxNwh97",
        "outputId": "e1b1523a-fe7f-44eb-8b91-359beb1247bd"
      },
      "execution_count": 26,
      "outputs": [
        {
          "output_type": "stream",
          "name": "stdout",
          "text": [
            "Epoch 1/20\n",
            "\u001b[1m5605/5605\u001b[0m \u001b[32m━━━━━━━━━━━━━━━━━━━━\u001b[0m\u001b[37m\u001b[0m \u001b[1m24s\u001b[0m 4ms/step - accuracy: 0.8620 - loss: 0.3406 - val_accuracy: 0.8884 - val_loss: 0.3008\n",
            "Epoch 2/20\n",
            "\u001b[1m5605/5605\u001b[0m \u001b[32m━━━━━━━━━━━━━━━━━━━━\u001b[0m\u001b[37m\u001b[0m \u001b[1m18s\u001b[0m 3ms/step - accuracy: 0.8855 - loss: 0.3035 - val_accuracy: 0.8931 - val_loss: 0.2959\n",
            "Epoch 3/20\n",
            "\u001b[1m5605/5605\u001b[0m \u001b[32m━━━━━━━━━━━━━━━━━━━━\u001b[0m\u001b[37m\u001b[0m \u001b[1m17s\u001b[0m 3ms/step - accuracy: 0.8875 - loss: 0.3002 - val_accuracy: 0.8934 - val_loss: 0.2959\n",
            "Epoch 4/20\n",
            "\u001b[1m5605/5605\u001b[0m \u001b[32m━━━━━━━━━━━━━━━━━━━━\u001b[0m\u001b[37m\u001b[0m \u001b[1m18s\u001b[0m 3ms/step - accuracy: 0.8871 - loss: 0.3018 - val_accuracy: 0.8927 - val_loss: 0.2988\n",
            "Epoch 5/20\n",
            "\u001b[1m5605/5605\u001b[0m \u001b[32m━━━━━━━━━━━━━━━━━━━━\u001b[0m\u001b[37m\u001b[0m \u001b[1m21s\u001b[0m 3ms/step - accuracy: 0.8874 - loss: 0.3008 - val_accuracy: 0.8935 - val_loss: 0.2964\n",
            "Epoch 6/20\n",
            "\u001b[1m5605/5605\u001b[0m \u001b[32m━━━━━━━━━━━━━━━━━━━━\u001b[0m\u001b[37m\u001b[0m \u001b[1m21s\u001b[0m 3ms/step - accuracy: 0.8880 - loss: 0.2992 - val_accuracy: 0.8940 - val_loss: 0.2952\n",
            "Epoch 7/20\n",
            "\u001b[1m5605/5605\u001b[0m \u001b[32m━━━━━━━━━━━━━━━━━━━━\u001b[0m\u001b[37m\u001b[0m \u001b[1m18s\u001b[0m 3ms/step - accuracy: 0.8891 - loss: 0.2975 - val_accuracy: 0.8948 - val_loss: 0.2926\n",
            "Epoch 8/20\n",
            "\u001b[1m5605/5605\u001b[0m \u001b[32m━━━━━━━━━━━━━━━━━━━━\u001b[0m\u001b[37m\u001b[0m \u001b[1m21s\u001b[0m 3ms/step - accuracy: 0.8881 - loss: 0.2992 - val_accuracy: 0.8951 - val_loss: 0.2925\n",
            "Epoch 9/20\n",
            "\u001b[1m5605/5605\u001b[0m \u001b[32m━━━━━━━━━━━━━━━━━━━━\u001b[0m\u001b[37m\u001b[0m \u001b[1m20s\u001b[0m 3ms/step - accuracy: 0.8893 - loss: 0.2974 - val_accuracy: 0.8940 - val_loss: 0.2967\n",
            "Epoch 10/20\n",
            "\u001b[1m5605/5605\u001b[0m \u001b[32m━━━━━━━━━━━━━━━━━━━━\u001b[0m\u001b[37m\u001b[0m \u001b[1m20s\u001b[0m 3ms/step - accuracy: 0.8896 - loss: 0.2969 - val_accuracy: 0.8942 - val_loss: 0.2956\n",
            "Epoch 11/20\n",
            "\u001b[1m5605/5605\u001b[0m \u001b[32m━━━━━━━━━━━━━━━━━━━━\u001b[0m\u001b[37m\u001b[0m \u001b[1m21s\u001b[0m 3ms/step - accuracy: 0.8894 - loss: 0.2967 - val_accuracy: 0.8959 - val_loss: 0.2913\n",
            "Epoch 12/20\n",
            "\u001b[1m5605/5605\u001b[0m \u001b[32m━━━━━━━━━━━━━━━━━━━━\u001b[0m\u001b[37m\u001b[0m \u001b[1m20s\u001b[0m 3ms/step - accuracy: 0.8895 - loss: 0.2955 - val_accuracy: 0.8953 - val_loss: 0.2923\n",
            "Epoch 13/20\n",
            "\u001b[1m5605/5605\u001b[0m \u001b[32m━━━━━━━━━━━━━━━━━━━━\u001b[0m\u001b[37m\u001b[0m \u001b[1m18s\u001b[0m 3ms/step - accuracy: 0.8892 - loss: 0.2964 - val_accuracy: 0.8953 - val_loss: 0.2914\n",
            "Epoch 14/20\n",
            "\u001b[1m5605/5605\u001b[0m \u001b[32m━━━━━━━━━━━━━━━━━━━━\u001b[0m\u001b[37m\u001b[0m \u001b[1m20s\u001b[0m 3ms/step - accuracy: 0.8896 - loss: 0.2947 - val_accuracy: 0.8964 - val_loss: 0.2935\n",
            "Epoch 15/20\n",
            "\u001b[1m5605/5605\u001b[0m \u001b[32m━━━━━━━━━━━━━━━━━━━━\u001b[0m\u001b[37m\u001b[0m \u001b[1m20s\u001b[0m 3ms/step - accuracy: 0.8888 - loss: 0.2956 - val_accuracy: 0.8962 - val_loss: 0.2899\n",
            "Epoch 16/20\n",
            "\u001b[1m5605/5605\u001b[0m \u001b[32m━━━━━━━━━━━━━━━━━━━━\u001b[0m\u001b[37m\u001b[0m \u001b[1m21s\u001b[0m 3ms/step - accuracy: 0.8895 - loss: 0.2958 - val_accuracy: 0.8962 - val_loss: 0.2918\n",
            "Epoch 17/20\n",
            "\u001b[1m5605/5605\u001b[0m \u001b[32m━━━━━━━━━━━━━━━━━━━━\u001b[0m\u001b[37m\u001b[0m \u001b[1m22s\u001b[0m 3ms/step - accuracy: 0.8891 - loss: 0.2953 - val_accuracy: 0.8958 - val_loss: 0.2945\n",
            "Epoch 18/20\n",
            "\u001b[1m5605/5605\u001b[0m \u001b[32m━━━━━━━━━━━━━━━━━━━━\u001b[0m\u001b[37m\u001b[0m \u001b[1m18s\u001b[0m 3ms/step - accuracy: 0.8908 - loss: 0.2922 - val_accuracy: 0.8960 - val_loss: 0.2910\n",
            "Epoch 19/20\n",
            "\u001b[1m5605/5605\u001b[0m \u001b[32m━━━━━━━━━━━━━━━━━━━━\u001b[0m\u001b[37m\u001b[0m \u001b[1m20s\u001b[0m 3ms/step - accuracy: 0.8902 - loss: 0.2932 - val_accuracy: 0.8960 - val_loss: 0.2914\n",
            "Epoch 20/20\n",
            "\u001b[1m5605/5605\u001b[0m \u001b[32m━━━━━━━━━━━━━━━━━━━━\u001b[0m\u001b[37m\u001b[0m \u001b[1m18s\u001b[0m 3ms/step - accuracy: 0.8896 - loss: 0.2954 - val_accuracy: 0.8959 - val_loss: 0.2921\n"
          ]
        },
        {
          "output_type": "execute_result",
          "data": {
            "text/plain": [
              "<keras.src.callbacks.history.History at 0x7b0e91deb450>"
            ]
          },
          "metadata": {},
          "execution_count": 26
        }
      ]
    },
    {
      "cell_type": "code",
      "source": [
        "y_pred_prob = model.predict(X_test_rnn)\n",
        "y_pred = (y_pred_prob > 0.5).astype(int)"
      ],
      "metadata": {
        "colab": {
          "base_uri": "https://localhost:8080/"
        },
        "id": "xchsX32Ty9KI",
        "outputId": "47cc213f-90e1-4149-945f-e71dcce27581"
      },
      "execution_count": 27,
      "outputs": [
        {
          "output_type": "stream",
          "name": "stdout",
          "text": [
            "\u001b[1m2776/2776\u001b[0m \u001b[32m━━━━━━━━━━━━━━━━━━━━\u001b[0m\u001b[37m\u001b[0m \u001b[1m3s\u001b[0m 1ms/step\n"
          ]
        }
      ]
    },
    {
      "cell_type": "code",
      "source": [
        "print(classification_report(y_test, y_pred))"
      ],
      "metadata": {
        "id": "qUV3df9LzDhp",
        "outputId": "849525ab-3e81-4ff2-d928-9198a85ae919",
        "colab": {
          "base_uri": "https://localhost:8080/"
        }
      },
      "execution_count": 28,
      "outputs": [
        {
          "output_type": "stream",
          "name": "stdout",
          "text": [
            "              precision    recall  f1-score   support\n",
            "\n",
            "           0       0.93      0.82      0.87     38411\n",
            "           1       0.88      0.95      0.91     50408\n",
            "\n",
            "    accuracy                           0.90     88819\n",
            "   macro avg       0.90      0.89      0.89     88819\n",
            "weighted avg       0.90      0.90      0.90     88819\n",
            "\n"
          ]
        }
      ]
    }
  ],
  "metadata": {
    "colab": {
      "provenance": []
    },
    "kernelspec": {
      "display_name": "Python 3",
      "language": "python",
      "name": "python3"
    },
    "language_info": {
      "codemirror_mode": {
        "name": "ipython",
        "version": 3
      },
      "file_extension": ".py",
      "mimetype": "text/x-python",
      "name": "python",
      "nbconvert_exporter": "python",
      "pygments_lexer": "ipython3",
      "version": "3.10.7"
    }
  },
  "nbformat": 4,
  "nbformat_minor": 0
}