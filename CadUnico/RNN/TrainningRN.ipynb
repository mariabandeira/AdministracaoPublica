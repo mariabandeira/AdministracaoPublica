{
  "cells": [
    {
      "cell_type": "markdown",
      "metadata": {
        "id": "view-in-github"
      },
      "source": [
        "<a href=\"https://colab.research.google.com/github/mariabandeira/AdministracaoPublica/blob/main/CadUnico/KNN/TrainningPB.ipynb\" target=\"_parent\"><img src=\"https://colab.research.google.com/assets/colab-badge.svg\" alt=\"Open In Colab\"/></a>"
      ]
    },
    {
      "cell_type": "code",
      "execution_count": null,
      "metadata": {
        "id": "r1st9bEiFGLr"
      },
      "outputs": [],
      "source": [
        "import pandas as pd\n",
        "from sklearn.preprocessing import StandardScaler\n",
        "from sklearn.model_selection import train_test_split\n",
        "import xgboost as xgb\n",
        "from sklearn.model_selection import train_test_split\n",
        "from sklearn.metrics import classification_report\n",
        "from sklearn.feature_selection import SelectKBest, f_classif\n",
        "from imblearn.under_sampling import RandomUnderSampler\n",
        "import numpy as np"
      ]
    },
    {
      "cell_type": "code",
      "execution_count": 3,
      "metadata": {
        "id": "Bnx9llaFbFBj"
      },
      "outputs": [],
      "source": [
        "treated_data_RN = pd.read_csv('./BasesRN/cadunico_rn_cleaned.csv', sep=';', encoding='utf-8')"
      ]
    },
    {
      "cell_type": "code",
      "execution_count": 4,
      "metadata": {
        "id": "DvhZZ1gIkBKv"
      },
      "outputs": [],
      "source": [
        "treated_data_RN.dropna(inplace=True)\n",
        "treated_data_RN.drop_duplicates(inplace=True)"
      ]
    },
    {
      "cell_type": "markdown",
      "metadata": {
        "id": "MGNcxaEWFGL-"
      },
      "source": [
        "### Treinando o modelo RNN"
      ]
    },
    {
      "cell_type": "code",
      "execution_count": 8,
      "metadata": {
        "colab": {
          "base_uri": "https://localhost:8080/"
        },
        "id": "vmb92FcSFGL9",
        "outputId": "09acf982-76e2-4aa2-b2dc-e65a5bd8c8b4"
      },
      "outputs": [
        {
          "name": "stdout",
          "output_type": "stream",
          "text": [
            "marc_pbf\n",
            "1    56.74\n",
            "0    43.26\n",
            "Name: proportion, dtype: float64\n"
          ]
        }
      ],
      "source": [
        "# analisando a distribuição da variável alvo (marc_pbf)\n",
        "target_distribution = treated_data_RN['marc_pbf'].value_counts(normalize=True) * 100\n",
        "\n",
        "print(round(target_distribution, 2))"
      ]
    },
    {
      "cell_type": "code",
      "execution_count": 9,
      "metadata": {
        "colab": {
          "base_uri": "https://localhost:8080/"
        },
        "id": "LuxXSuBdFGL-",
        "outputId": "6d3af886-b2a4-4bec-d05e-40afebf45e6e"
      },
      "outputs": [
        {
          "name": "stdout",
          "output_type": "stream",
          "text": [
            "marc_pbf\n",
            "0    89679\n",
            "1    89679\n",
            "Name: count, dtype: int64\n"
          ]
        }
      ],
      "source": [
        "# separar X (features) e y (target)\n",
        "X = treated_data_RN.drop('marc_pbf', axis=1)\n",
        "y = treated_data_RN['marc_pbf']\n",
        "\n",
        "# treino e teste\n",
        "X_train, X_test, y_train, y_test = train_test_split(X, y, test_size=0.3, random_state=42)\n",
        "\n",
        "# criando uma instância do RandomUnderSampling\n",
        "rus = RandomUnderSampler(random_state=42, sampling_strategy = 'majority')\n",
        "\n",
        "# balanceando os dados\n",
        "X_resampled, y_resampled = rus.fit_resample(X_train, y_train)\n",
        "\n",
        "print(y_resampled.value_counts())"
      ]
    },
    {
      "cell_type": "code",
      "execution_count": 10,
      "metadata": {
        "colab": {
          "base_uri": "https://localhost:8080/"
        },
        "id": "zRg3jc7ccAYN",
        "outputId": "7e1b8fa9-e29c-49ab-bfa2-b63795d357e9"
      },
      "outputs": [
        {
          "name": "stdout",
          "output_type": "stream",
          "text": [
            "Primeiros dados escalados (padronizados):\n",
            "[[-0.84487543 -1.96467582 -0.12485031 -0.57790393 -0.602914   -1.16411791\n",
            "  -0.72537277 -0.28287978 -0.39178363 -0.45627415 -0.16908028 -0.46355174\n",
            "  -0.23932997 -0.85437521  0.05656285 -1.37479098]\n",
            " [-0.55264356  0.71176597  0.13504909 -0.57790393 -0.602914    0.30866763\n",
            "  -0.72537277 -0.28287978 -0.39178363 -0.45627415 -0.16908028 -0.46355174\n",
            "  -0.23932997  1.22999908  0.05656285  0.90668609]\n",
            " [-0.75095372 -0.62645493  4.64343735  1.7303914   0.1538476  -1.16411791\n",
            "   1.28227208 -0.28287978 -0.39178363  1.7490837  -0.16908028  2.00891719\n",
            "  -0.23932997  1.22999908  0.05656285 -1.37479098]\n",
            " [ 0.81400362  0.71176597  1.40335816  1.7303914   3.93765562  1.78145316\n",
            "   1.28227208 -0.28287978 -0.39178363 -0.45627415 -0.16908028 -0.46355174\n",
            "  -0.23932997  0.18781194  0.05656285  0.14619374]\n",
            " [ 1.32648826 -0.62645493 -0.81791538 -0.57790393  0.91060921  0.30866763\n",
            "   1.28227208 -0.28287978 -0.39178363 -0.45627415 -0.16908028 -0.46355174\n",
            "  -0.23932997 -0.85437521  0.05656285  0.14619374]]\n"
          ]
        }
      ],
      "source": [
        "# aplicar padronização nas features\n",
        "scaler = StandardScaler()\n",
        "X_train_scaled = scaler.fit_transform(X_resampled)\n",
        "X_test_scaled = scaler.transform(X_test)\n",
        "\n",
        "print(\"Primeiros dados escalados (padronizados):\")\n",
        "print(X_train_scaled[:5])"
      ]
    },
    {
      "cell_type": "code",
      "execution_count": 13,
      "metadata": {
        "id": "zmILgmbigedB"
      },
      "outputs": [],
      "source": [
        "# Ajustar formato para a RNN (samples, time steps, features)\n",
        "X_train_rnn = np.expand_dims(X_train_scaled, axis=1)\n",
        "X_test_rnn = np.expand_dims(X_test_scaled, axis=1)"
      ]
    },
    {
      "cell_type": "code",
      "execution_count": 14,
      "metadata": {
        "id": "MCWikKHstX5b"
      },
      "outputs": [],
      "source": [
        "import tensorflow as tf\n",
        "from tensorflow.keras.models import Sequential\n",
        "from tensorflow.keras.layers import Dense, SimpleRNN"
      ]
    },
    {
      "cell_type": "code",
      "execution_count": 15,
      "metadata": {
        "colab": {
          "base_uri": "https://localhost:8080/"
        },
        "id": "Z4ACptCogf_F",
        "outputId": "9bfc1ad3-c016-4398-d669-cfbf66304041"
      },
      "outputs": [
        {
          "name": "stderr",
          "output_type": "stream",
          "text": [
            "/usr/local/lib/python3.11/dist-packages/keras/src/layers/rnn/rnn.py:200: UserWarning: Do not pass an `input_shape`/`input_dim` argument to a layer. When using Sequential models, prefer using an `Input(shape)` object as the first layer in the model instead.\n",
            "  super().__init__(**kwargs)\n"
          ]
        }
      ],
      "source": [
        "# Construir a RNN\n",
        "model = Sequential([\n",
        "    SimpleRNN(32, activation='relu', input_shape=(1, X_train.shape[1])),\n",
        "    Dense(16, activation='relu'),\n",
        "    Dense(1, activation='sigmoid')\n",
        "])\n"
      ]
    },
    {
      "cell_type": "code",
      "execution_count": 16,
      "metadata": {
        "id": "E7S5KRBMtdCS"
      },
      "outputs": [],
      "source": [
        "model.compile(optimizer='adam', loss='binary_crossentropy', metrics=['accuracy'])"
      ]
    },
    {
      "cell_type": "code",
      "execution_count": 17,
      "metadata": {
        "colab": {
          "base_uri": "https://localhost:8080/"
        },
        "id": "m-1hja2gtgXj",
        "outputId": "75fd038a-8455-48a5-c135-4baeb83e1a28"
      },
      "outputs": [
        {
          "name": "stdout",
          "output_type": "stream",
          "text": [
            "Epoch 1/20\n",
            "\u001b[1m5605/5605\u001b[0m \u001b[32m━━━━━━━━━━━━━━━━━━━━\u001b[0m\u001b[37m\u001b[0m \u001b[1m27s\u001b[0m 4ms/step - accuracy: 0.8458 - loss: 0.3612 - val_accuracy: 0.8880 - val_loss: 0.3010\n",
            "Epoch 2/20\n",
            "\u001b[1m5605/5605\u001b[0m \u001b[32m━━━━━━━━━━━━━━━━━━━━\u001b[0m\u001b[37m\u001b[0m \u001b[1m39s\u001b[0m 4ms/step - accuracy: 0.8846 - loss: 0.3023 - val_accuracy: 0.8871 - val_loss: 0.3023\n",
            "Epoch 3/20\n",
            "\u001b[1m5605/5605\u001b[0m \u001b[32m━━━━━━━━━━━━━━━━━━━━\u001b[0m\u001b[37m\u001b[0m \u001b[1m20s\u001b[0m 4ms/step - accuracy: 0.8840 - loss: 0.3049 - val_accuracy: 0.8918 - val_loss: 0.2946\n",
            "Epoch 4/20\n",
            "\u001b[1m5605/5605\u001b[0m \u001b[32m━━━━━━━━━━━━━━━━━━━━\u001b[0m\u001b[37m\u001b[0m \u001b[1m20s\u001b[0m 4ms/step - accuracy: 0.8853 - loss: 0.3001 - val_accuracy: 0.8907 - val_loss: 0.3013\n",
            "Epoch 5/20\n",
            "\u001b[1m5605/5605\u001b[0m \u001b[32m━━━━━━━━━━━━━━━━━━━━\u001b[0m\u001b[37m\u001b[0m \u001b[1m20s\u001b[0m 4ms/step - accuracy: 0.8868 - loss: 0.2993 - val_accuracy: 0.8911 - val_loss: 0.2962\n",
            "Epoch 6/20\n",
            "\u001b[1m5605/5605\u001b[0m \u001b[32m━━━━━━━━━━━━━━━━━━━━\u001b[0m\u001b[37m\u001b[0m \u001b[1m19s\u001b[0m 3ms/step - accuracy: 0.8882 - loss: 0.2948 - val_accuracy: 0.8913 - val_loss: 0.2959\n",
            "Epoch 7/20\n",
            "\u001b[1m5605/5605\u001b[0m \u001b[32m━━━━━━━━━━━━━━━━━━━━\u001b[0m\u001b[37m\u001b[0m \u001b[1m22s\u001b[0m 4ms/step - accuracy: 0.8873 - loss: 0.2958 - val_accuracy: 0.8917 - val_loss: 0.2959\n",
            "Epoch 8/20\n",
            "\u001b[1m5605/5605\u001b[0m \u001b[32m━━━━━━━━━━━━━━━━━━━━\u001b[0m\u001b[37m\u001b[0m \u001b[1m20s\u001b[0m 4ms/step - accuracy: 0.8863 - loss: 0.3004 - val_accuracy: 0.8930 - val_loss: 0.2937\n",
            "Epoch 9/20\n",
            "\u001b[1m5605/5605\u001b[0m \u001b[32m━━━━━━━━━━━━━━━━━━━━\u001b[0m\u001b[37m\u001b[0m \u001b[1m21s\u001b[0m 4ms/step - accuracy: 0.8878 - loss: 0.2950 - val_accuracy: 0.8933 - val_loss: 0.2936\n",
            "Epoch 10/20\n",
            "\u001b[1m5605/5605\u001b[0m \u001b[32m━━━━━━━━━━━━━━━━━━━━\u001b[0m\u001b[37m\u001b[0m \u001b[1m21s\u001b[0m 4ms/step - accuracy: 0.8883 - loss: 0.2959 - val_accuracy: 0.8945 - val_loss: 0.2913\n",
            "Epoch 11/20\n",
            "\u001b[1m5605/5605\u001b[0m \u001b[32m━━━━━━━━━━━━━━━━━━━━\u001b[0m\u001b[37m\u001b[0m \u001b[1m20s\u001b[0m 4ms/step - accuracy: 0.8894 - loss: 0.2934 - val_accuracy: 0.8919 - val_loss: 0.3005\n",
            "Epoch 12/20\n",
            "\u001b[1m5605/5605\u001b[0m \u001b[32m━━━━━━━━━━━━━━━━━━━━\u001b[0m\u001b[37m\u001b[0m \u001b[1m21s\u001b[0m 4ms/step - accuracy: 0.8882 - loss: 0.2959 - val_accuracy: 0.8916 - val_loss: 0.2980\n",
            "Epoch 13/20\n",
            "\u001b[1m5605/5605\u001b[0m \u001b[32m━━━━━━━━━━━━━━━━━━━━\u001b[0m\u001b[37m\u001b[0m \u001b[1m40s\u001b[0m 4ms/step - accuracy: 0.8887 - loss: 0.2963 - val_accuracy: 0.8931 - val_loss: 0.2969\n",
            "Epoch 14/20\n",
            "\u001b[1m5605/5605\u001b[0m \u001b[32m━━━━━━━━━━━━━━━━━━━━\u001b[0m\u001b[37m\u001b[0m \u001b[1m21s\u001b[0m 4ms/step - accuracy: 0.8888 - loss: 0.2937 - val_accuracy: 0.8952 - val_loss: 0.2900\n",
            "Epoch 15/20\n",
            "\u001b[1m5605/5605\u001b[0m \u001b[32m━━━━━━━━━━━━━━━━━━━━\u001b[0m\u001b[37m\u001b[0m \u001b[1m20s\u001b[0m 4ms/step - accuracy: 0.8896 - loss: 0.2938 - val_accuracy: 0.8953 - val_loss: 0.2918\n",
            "Epoch 16/20\n",
            "\u001b[1m5605/5605\u001b[0m \u001b[32m━━━━━━━━━━━━━━━━━━━━\u001b[0m\u001b[37m\u001b[0m \u001b[1m21s\u001b[0m 4ms/step - accuracy: 0.8887 - loss: 0.2944 - val_accuracy: 0.8961 - val_loss: 0.2905\n",
            "Epoch 17/20\n",
            "\u001b[1m5605/5605\u001b[0m \u001b[32m━━━━━━━━━━━━━━━━━━━━\u001b[0m\u001b[37m\u001b[0m \u001b[1m26s\u001b[0m 5ms/step - accuracy: 0.8906 - loss: 0.2903 - val_accuracy: 0.8958 - val_loss: 0.2911\n",
            "Epoch 18/20\n",
            "\u001b[1m5605/5605\u001b[0m \u001b[32m━━━━━━━━━━━━━━━━━━━━\u001b[0m\u001b[37m\u001b[0m \u001b[1m37s\u001b[0m 4ms/step - accuracy: 0.8893 - loss: 0.2928 - val_accuracy: 0.8946 - val_loss: 0.2904\n",
            "Epoch 19/20\n",
            "\u001b[1m5605/5605\u001b[0m \u001b[32m━━━━━━━━━━━━━━━━━━━━\u001b[0m\u001b[37m\u001b[0m \u001b[1m40s\u001b[0m 4ms/step - accuracy: 0.8890 - loss: 0.2938 - val_accuracy: 0.8934 - val_loss: 0.2933\n",
            "Epoch 20/20\n",
            "\u001b[1m5605/5605\u001b[0m \u001b[32m━━━━━━━━━━━━━━━━━━━━\u001b[0m\u001b[37m\u001b[0m \u001b[1m21s\u001b[0m 4ms/step - accuracy: 0.8878 - loss: 0.2970 - val_accuracy: 0.8926 - val_loss: 0.2969\n"
          ]
        },
        {
          "data": {
            "text/plain": [
              "<keras.src.callbacks.history.History at 0x7bb4fad8a310>"
            ]
          },
          "execution_count": 17,
          "metadata": {},
          "output_type": "execute_result"
        }
      ],
      "source": [
        "model.fit(X_train_rnn, y_resampled, epochs=20, batch_size=32, validation_data=(X_test_rnn, y_test))"
      ]
    },
    {
      "cell_type": "code",
      "execution_count": 18,
      "metadata": {
        "colab": {
          "base_uri": "https://localhost:8080/"
        },
        "id": "oI0TRoVGv0dl",
        "outputId": "a70178b3-4c92-4c34-ee6e-d0da43fb233f"
      },
      "outputs": [
        {
          "name": "stdout",
          "output_type": "stream",
          "text": [
            "\u001b[1m2776/2776\u001b[0m \u001b[32m━━━━━━━━━━━━━━━━━━━━\u001b[0m\u001b[37m\u001b[0m \u001b[1m6s\u001b[0m 2ms/step\n"
          ]
        }
      ],
      "source": [
        "y_pred_prob = model.predict(X_test_rnn)\n",
        "y_pred = (y_pred_prob > 0.5).astype(int)"
      ]
    },
    {
      "cell_type": "code",
      "execution_count": 19,
      "metadata": {
        "colab": {
          "base_uri": "https://localhost:8080/"
        },
        "id": "3pBCDfKZv6n1",
        "outputId": "2b4cb383-3b29-4e5b-bb74-24c7fa5ec9c1"
      },
      "outputs": [
        {
          "name": "stdout",
          "output_type": "stream",
          "text": [
            "              precision    recall  f1-score   support\n",
            "\n",
            "           0       0.91      0.83      0.87     38411\n",
            "           1       0.88      0.94      0.91     50408\n",
            "\n",
            "    accuracy                           0.89     88819\n",
            "   macro avg       0.90      0.89      0.89     88819\n",
            "weighted avg       0.89      0.89      0.89     88819\n",
            "\n"
          ]
        }
      ],
      "source": [
        "print(classification_report(y_test, y_pred))"
      ]
    },
    {
      "cell_type": "markdown",
      "metadata": {
        "id": "KwclhD17FGMA"
      },
      "source": [
        "### Selecionando features com SelectKBests"
      ]
    },
    {
      "cell_type": "code",
      "execution_count": 20,
      "metadata": {
        "colab": {
          "base_uri": "https://localhost:8080/"
        },
        "id": "u2HCzx9RoOtu",
        "outputId": "85708ac9-b75a-4d02-9c3c-7df3e3787676"
      },
      "outputs": [
        {
          "name": "stdout",
          "output_type": "stream",
          "text": [
            "Características selecionadas: Index(['vlr_renda_media_fam', 'qtd_comodos_domic_fam', 'cod_material_piso_fam',\n",
            "       'cod_calcamento_domic_fam', 'qtde_pessoas'],\n",
            "      dtype='object')\n"
          ]
        }
      ],
      "source": [
        "selector = SelectKBest(score_func=f_classif, k=5)\n",
        "X_train_selected = selector.fit_transform(X_resampled, y_resampled)\n",
        "X_test_selected = selector.transform(X_test)\n",
        "\n",
        "selected_columns = X_train.columns[selector.get_support()]\n",
        "print(\"Características selecionadas:\", selected_columns)"
      ]
    },
    {
      "cell_type": "code",
      "execution_count": 22,
      "metadata": {
        "id": "GV2gsVxYxQhH"
      },
      "outputs": [],
      "source": [
        "scaler = StandardScaler()\n",
        "X_train_scaled = scaler.fit_transform(X_train_selected)\n",
        "X_test_scaled = scaler.transform(X_test_selected)"
      ]
    },
    {
      "cell_type": "code",
      "execution_count": 23,
      "metadata": {
        "id": "XP5JdeSEwY-C"
      },
      "outputs": [],
      "source": [
        "X_train_rnn = np.expand_dims(X_train_scaled, axis=1)\n",
        "X_test_rnn = np.expand_dims(X_test_scaled, axis=1)"
      ]
    },
    {
      "cell_type": "code",
      "execution_count": 24,
      "metadata": {
        "colab": {
          "base_uri": "https://localhost:8080/"
        },
        "id": "XysFNdmzxWx6",
        "outputId": "34a87d33-5379-49e6-bac7-df8b870aa726"
      },
      "outputs": [
        {
          "name": "stderr",
          "output_type": "stream",
          "text": [
            "/usr/local/lib/python3.11/dist-packages/keras/src/layers/rnn/rnn.py:200: UserWarning: Do not pass an `input_shape`/`input_dim` argument to a layer. When using Sequential models, prefer using an `Input(shape)` object as the first layer in the model instead.\n",
            "  super().__init__(**kwargs)\n"
          ]
        }
      ],
      "source": [
        "model = Sequential([\n",
        "    SimpleRNN(32, activation='relu', input_shape=(1, X_train_scaled.shape[1])),\n",
        "    Dense(16, activation='relu'),\n",
        "    Dense(1, activation='sigmoid')\n",
        "])"
      ]
    },
    {
      "cell_type": "code",
      "execution_count": 25,
      "metadata": {
        "id": "-jYQuSGrwflT"
      },
      "outputs": [],
      "source": [
        "model.compile(optimizer='adam', loss='binary_crossentropy', metrics=['accuracy'])"
      ]
    },
    {
      "cell_type": "code",
      "execution_count": 26,
      "metadata": {
        "colab": {
          "base_uri": "https://localhost:8080/"
        },
        "id": "BUlcpTxNwh97",
        "outputId": "37c13326-2802-4445-be2f-475916e22269"
      },
      "outputs": [
        {
          "name": "stdout",
          "output_type": "stream",
          "text": [
            "Epoch 1/20\n",
            "\u001b[1m5605/5605\u001b[0m \u001b[32m━━━━━━━━━━━━━━━━━━━━\u001b[0m\u001b[37m\u001b[0m \u001b[1m31s\u001b[0m 5ms/step - accuracy: 0.8624 - loss: 0.3410 - val_accuracy: 0.8911 - val_loss: 0.2987\n",
            "Epoch 2/20\n",
            "\u001b[1m5605/5605\u001b[0m \u001b[32m━━━━━━━━━━━━━━━━━━━━\u001b[0m\u001b[37m\u001b[0m \u001b[1m45s\u001b[0m 6ms/step - accuracy: 0.8862 - loss: 0.3023 - val_accuracy: 0.8918 - val_loss: 0.2988\n",
            "Epoch 3/20\n",
            "\u001b[1m5605/5605\u001b[0m \u001b[32m━━━━━━━━━━━━━━━━━━━━\u001b[0m\u001b[37m\u001b[0m \u001b[1m36s\u001b[0m 5ms/step - accuracy: 0.8869 - loss: 0.3003 - val_accuracy: 0.8902 - val_loss: 0.3026\n",
            "Epoch 4/20\n",
            "\u001b[1m5605/5605\u001b[0m \u001b[32m━━━━━━━━━━━━━━━━━━━━\u001b[0m\u001b[37m\u001b[0m \u001b[1m27s\u001b[0m 5ms/step - accuracy: 0.8893 - loss: 0.2964 - val_accuracy: 0.8927 - val_loss: 0.2969\n",
            "Epoch 5/20\n",
            "\u001b[1m5605/5605\u001b[0m \u001b[32m━━━━━━━━━━━━━━━━━━━━\u001b[0m\u001b[37m\u001b[0m \u001b[1m22s\u001b[0m 4ms/step - accuracy: 0.8878 - loss: 0.2980 - val_accuracy: 0.8923 - val_loss: 0.2993\n",
            "Epoch 6/20\n",
            "\u001b[1m5605/5605\u001b[0m \u001b[32m━━━━━━━━━━━━━━━━━━━━\u001b[0m\u001b[37m\u001b[0m \u001b[1m44s\u001b[0m 4ms/step - accuracy: 0.8890 - loss: 0.2980 - val_accuracy: 0.8942 - val_loss: 0.2932\n",
            "Epoch 7/20\n",
            "\u001b[1m5605/5605\u001b[0m \u001b[32m━━━━━━━━━━━━━━━━━━━━\u001b[0m\u001b[37m\u001b[0m \u001b[1m21s\u001b[0m 4ms/step - accuracy: 0.8874 - loss: 0.3002 - val_accuracy: 0.8877 - val_loss: 0.3017\n",
            "Epoch 8/20\n",
            "\u001b[1m5605/5605\u001b[0m \u001b[32m━━━━━━━━━━━━━━━━━━━━\u001b[0m\u001b[37m\u001b[0m \u001b[1m42s\u001b[0m 4ms/step - accuracy: 0.8874 - loss: 0.2996 - val_accuracy: 0.8947 - val_loss: 0.2964\n",
            "Epoch 9/20\n",
            "\u001b[1m5605/5605\u001b[0m \u001b[32m━━━━━━━━━━━━━━━━━━━━\u001b[0m\u001b[37m\u001b[0m \u001b[1m46s\u001b[0m 5ms/step - accuracy: 0.8888 - loss: 0.2989 - val_accuracy: 0.8951 - val_loss: 0.2924\n",
            "Epoch 10/20\n",
            "\u001b[1m5605/5605\u001b[0m \u001b[32m━━━━━━━━━━━━━━━━━━━━\u001b[0m\u001b[37m\u001b[0m \u001b[1m22s\u001b[0m 4ms/step - accuracy: 0.8887 - loss: 0.2983 - val_accuracy: 0.8954 - val_loss: 0.2922\n",
            "Epoch 11/20\n",
            "\u001b[1m5605/5605\u001b[0m \u001b[32m━━━━━━━━━━━━━━━━━━━━\u001b[0m\u001b[37m\u001b[0m \u001b[1m40s\u001b[0m 4ms/step - accuracy: 0.8889 - loss: 0.2957 - val_accuracy: 0.8957 - val_loss: 0.2918\n",
            "Epoch 12/20\n",
            "\u001b[1m5605/5605\u001b[0m \u001b[32m━━━━━━━━━━━━━━━━━━━━\u001b[0m\u001b[37m\u001b[0m \u001b[1m21s\u001b[0m 4ms/step - accuracy: 0.8881 - loss: 0.2981 - val_accuracy: 0.8964 - val_loss: 0.2915\n",
            "Epoch 13/20\n",
            "\u001b[1m5605/5605\u001b[0m \u001b[32m━━━━━━━━━━━━━━━━━━━━\u001b[0m\u001b[37m\u001b[0m \u001b[1m40s\u001b[0m 4ms/step - accuracy: 0.8880 - loss: 0.2977 - val_accuracy: 0.8952 - val_loss: 0.2939\n",
            "Epoch 14/20\n",
            "\u001b[1m5605/5605\u001b[0m \u001b[32m━━━━━━━━━━━━━━━━━━━━\u001b[0m\u001b[37m\u001b[0m \u001b[1m21s\u001b[0m 4ms/step - accuracy: 0.8904 - loss: 0.2949 - val_accuracy: 0.8947 - val_loss: 0.2967\n",
            "Epoch 15/20\n",
            "\u001b[1m5605/5605\u001b[0m \u001b[32m━━━━━━━━━━━━━━━━━━━━\u001b[0m\u001b[37m\u001b[0m \u001b[1m40s\u001b[0m 4ms/step - accuracy: 0.8895 - loss: 0.2970 - val_accuracy: 0.8970 - val_loss: 0.2893\n",
            "Epoch 16/20\n",
            "\u001b[1m5605/5605\u001b[0m \u001b[32m━━━━━━━━━━━━━━━━━━━━\u001b[0m\u001b[37m\u001b[0m \u001b[1m20s\u001b[0m 4ms/step - accuracy: 0.8907 - loss: 0.2941 - val_accuracy: 0.8961 - val_loss: 0.2958\n",
            "Epoch 17/20\n",
            "\u001b[1m5605/5605\u001b[0m \u001b[32m━━━━━━━━━━━━━━━━━━━━\u001b[0m\u001b[37m\u001b[0m \u001b[1m19s\u001b[0m 3ms/step - accuracy: 0.8897 - loss: 0.2965 - val_accuracy: 0.8968 - val_loss: 0.2900\n",
            "Epoch 18/20\n",
            "\u001b[1m5605/5605\u001b[0m \u001b[32m━━━━━━━━━━━━━━━━━━━━\u001b[0m\u001b[37m\u001b[0m \u001b[1m20s\u001b[0m 3ms/step - accuracy: 0.8905 - loss: 0.2943 - val_accuracy: 0.8955 - val_loss: 0.2920\n",
            "Epoch 19/20\n",
            "\u001b[1m5605/5605\u001b[0m \u001b[32m━━━━━━━━━━━━━━━━━━━━\u001b[0m\u001b[37m\u001b[0m \u001b[1m26s\u001b[0m 4ms/step - accuracy: 0.8900 - loss: 0.2935 - val_accuracy: 0.8968 - val_loss: 0.2886\n",
            "Epoch 20/20\n",
            "\u001b[1m5605/5605\u001b[0m \u001b[32m━━━━━━━━━━━━━━━━━━━━\u001b[0m\u001b[37m\u001b[0m \u001b[1m21s\u001b[0m 4ms/step - accuracy: 0.8896 - loss: 0.2952 - val_accuracy: 0.8953 - val_loss: 0.2939\n"
          ]
        },
        {
          "data": {
            "text/plain": [
              "<keras.src.callbacks.history.History at 0x7bb4f015cb10>"
            ]
          },
          "execution_count": 26,
          "metadata": {},
          "output_type": "execute_result"
        }
      ],
      "source": [
        "model.fit(X_train_rnn, y_resampled, epochs=20, batch_size=32, validation_data=(X_test_rnn, y_test))"
      ]
    },
    {
      "cell_type": "code",
      "execution_count": 27,
      "metadata": {
        "colab": {
          "base_uri": "https://localhost:8080/"
        },
        "id": "xchsX32Ty9KI",
        "outputId": "911f2baa-4ad8-4a81-cc26-344607f6b9b0"
      },
      "outputs": [
        {
          "name": "stdout",
          "output_type": "stream",
          "text": [
            "\u001b[1m2776/2776\u001b[0m \u001b[32m━━━━━━━━━━━━━━━━━━━━\u001b[0m\u001b[37m\u001b[0m \u001b[1m5s\u001b[0m 2ms/step\n"
          ]
        }
      ],
      "source": [
        "y_pred_prob = model.predict(X_test_rnn)\n",
        "y_pred = (y_pred_prob > 0.5).astype(int)"
      ]
    },
    {
      "cell_type": "code",
      "execution_count": 28,
      "metadata": {
        "colab": {
          "base_uri": "https://localhost:8080/"
        },
        "id": "qUV3df9LzDhp",
        "outputId": "539775ae-2fbf-454d-b478-d918b370beea"
      },
      "outputs": [
        {
          "name": "stdout",
          "output_type": "stream",
          "text": [
            "              precision    recall  f1-score   support\n",
            "\n",
            "           0       0.92      0.83      0.87     38411\n",
            "           1       0.88      0.95      0.91     50408\n",
            "\n",
            "    accuracy                           0.90     88819\n",
            "   macro avg       0.90      0.89      0.89     88819\n",
            "weighted avg       0.90      0.90      0.89     88819\n",
            "\n"
          ]
        }
      ],
      "source": [
        "print(classification_report(y_test, y_pred))"
      ]
    }
  ],
  "metadata": {
    "colab": {
      "provenance": []
    },
    "kernelspec": {
      "display_name": "Python 3",
      "language": "python",
      "name": "python3"
    },
    "language_info": {
      "codemirror_mode": {
        "name": "ipython",
        "version": 3
      },
      "file_extension": ".py",
      "mimetype": "text/x-python",
      "name": "python",
      "nbconvert_exporter": "python",
      "pygments_lexer": "ipython3",
      "version": "3.10.7"
    }
  },
  "nbformat": 4,
  "nbformat_minor": 0
}
